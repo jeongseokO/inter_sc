{
 "cells": [
  {
   "cell_type": "code",
   "execution_count": 4,
   "metadata": {},
   "outputs": [
    {
     "name": "stdout",
     "output_type": "stream",
     "text": [
      "[1, 2, 3, 4, 5]\n"
     ]
    }
   ],
   "source": [
    "a = [1,2,3]\n",
    "b = [4,5]\n",
    "a.extend(b)\n",
    "print(a)"
   ]
  },
  {
   "cell_type": "code",
   "execution_count": 1,
   "metadata": {},
   "outputs": [],
   "source": [
    "text = \"\"\"<|begin_of_text|><|start_header_id|>system<|end_header_id|>\n",
    "\n",
    "You are a methodical mathematician, adept at solving complex mathematical problems. Conclude your explanation with the answer in a '#### {numeric answer}' format, where the answer is solely a number.<|eot_id|><|start_header_id|>user<|end_header_id|>\n",
    "\n",
    "Example Problem example1: There are 15 trees in the grove. Grove workers will plant trees in the grove today. After they are done, there will be 21 trees. How many trees did the grove workers plant today?\n",
    "Answer: We start with 15 trees. Later we have 21 trees.The difference must be the number of trees they planted. So, they must have planted 21-15=6 trees.The answer is #### 6.<|eot_id|><|start_header_id|>user<|end_header_id|>\n",
    "\n",
    "Example Problem example2: If there are 3 cars in the parking lot and 2 more cars arrive, how many cars are in the parking lot?\n",
    "Answer: There are 3 cars in the parking lot already. 2 more arrive. Now there are 3 + 2 = 5 cars. The answer is #### 5.<|eot_id|><|start_header_id|>user<|end_header_id|>\n",
    "\n",
    "Example Problem example3: Leah had 32 chocolates and her sister had 42. If they ate 35, how many pieces do they have left in total?\n",
    "Answer: Leah had 32 chocolates and Leah’s sister had 42. That means there were originally 32 + 42 = 74 chocolates. 35 have been eaten. So in total they still have 74 - 35 = 39 chocolates. The answer is #### 39.<|eot_id|><|start_header_id|>user<|end_header_id|>\n",
    "\n",
    "Example Problem example4: Jason had 20 lollipops. He gave Denny some lollipops. Now Jason has 12 lollipops. How many lollipops did Jason give to Denny?\n",
    "Answer: Jason had 20 lollipops. Since he only has 12 now, he must have given the rest to Denny. The number of lollipops he has given to Denny must have been 20 - 12 = 8 lollipops. The answer is #### 8.<|eot_id|><|start_header_id|>user<|end_header_id|>\n",
    "\n",
    "Example Problem example5: Shawn has five toys. For Christmas, he got two toys each from his mom and dad. How many toys does he have now?\n",
    "Answer: He has 5 toys. He got 2 from mom, so after that he has 5 + 2 = 7 toys. Then he got 2 more from dad, so in total he has 7 + 2 = 9 toys. The answer is #### 9.<|eot_id|><|start_header_id|>user<|end_header_id|>\n",
    "\n",
    "Example Problem example6: There were nine computers in the server room. Five more computers were installed each day, from Monday to Thursday. How many computers are now in the server room?\n",
    "Answer: There are 4 days from Monday to Thursday. 5 computers were added each day. That means in total 4 * 5 = 20 computers were added. There were 9 computers in the beginning, so now there are 9 + 20 = 29 computers. The answer is #### 29.<|eot_id|><|start_header_id|>user<|end_header_id|>\n",
    "\n",
    "Example Problem example7: Michael had 58 golf balls. On Tuesday, he lost 23 golf balls. On Wednesday, he lost 2 more. How many golf balls did he have at the end of Wednesday?\n",
    "Answer: Michael initially had 58 balls. He lost 23 on Tuesday, so after that he has 58 - 23 = 35 balls. On Wednesday he lost 2 more so now he has 35 - 2 = 33 balls. The answer is #### 33.<|eot_id|><|start_header_id|>user<|end_header_id|>\n",
    "\n",
    "Example Problem example8: Olivia has $23. She bought five bagels for $3 each. How much money does she have left?\n",
    "Answer: She bought 5 bagels for $3 each. This means she spent 5 * $3 = $15 on the bagels. She had $23 in beginning, so now she has $23 - $15 = $8. The answer is #### 8.<|eot_id|><|start_header_id|>user<|end_header_id|>\n",
    "\n",
    "Solve the following mathematical problem: Janet’s ducks lay 16 eggs per day. She eats three for breakfast every morning and bakes muffins for her friends every day with four. She sells the remainder at the farmers' market daily for $2 per fresh duck egg. How much in dollars does she make every day at the farmers' market? Ensure your final answer is presented within the format '#### {numeric answer}'.<|eot_id|><|start_header_id|>assistant<|end_header_id|>\n",
    "\n",
    "Let's break down the problem:\n",
    "\n",
    "Janet's ducks lay 16 eggs per day.\n",
    "She eats 3 eggs for breakfast, so she has 16 - 3 = 13 eggs left.\n",
    "She bakes 4 eggs for muffins, so she has 13 - 4 = 9 eggs left.\n",
    "She sells the remaining 9 eggs at the farmers' market for $2 per egg.\n",
    "\n",
    "To find out how much she makes, multiply the number of eggs sold\"\"\""
   ]
  },
  {
   "cell_type": "code",
   "execution_count": 2,
   "metadata": {},
   "outputs": [],
   "source": [
    "from transformers import AutoTokenizer\n",
    "\n",
    "tokenizer = AutoTokenizer.from_pretrained(\"meta-llama/Meta-Llama-3-8B-Instruct\", cache_dir=\"../../hub/tokenizer/\")"
   ]
  },
  {
   "cell_type": "code",
   "execution_count": 53,
   "metadata": {},
   "outputs": [
    {
     "name": "stdout",
     "output_type": "stream",
     "text": [
      "<|begin_of_text|> 128000\n",
      "Step 8468\n",
      "  220\n",
      "3 18\n",
      ": 25\n",
      " She 3005\n",
      " has 706\n",
      "  220\n",
      "16 845\n",
      " - 482\n",
      "  220\n",
      "7 22\n",
      " = 284\n",
      "  220\n",
      "9 24\n",
      " eggs 19335\n",
      " left 2163\n",
      " for 369\n",
      " the 279\n",
      " farmers 20957\n",
      "' 6\n",
      " market 3157\n",
      ". 13\n",
      "  220\n",
      "******\n",
      "\n",
      " 93427\n",
      "Step 8468\n",
      "  220\n",
      "4 19\n",
      ": 25\n",
      " She 3005\n",
      " sells 31878\n",
      " the 279\n",
      " eggs 19335\n",
      " for 369\n",
      " $ 400\n",
      "2 17\n",
      " each 1855\n",
      ", 11\n",
      " so 779\n",
      " she 1364\n",
      " makes 3727\n",
      "  220\n",
      "9 24\n",
      " * 353\n",
      " $ 400\n",
      "2 17\n",
      " = 284\n",
      " $ 400\n",
      "18 972\n",
      ". 13\n",
      "  220\n",
      "******\n",
      "\n",
      " 93427\n",
      "Step 8468\n",
      "  220\n",
      "5 20\n",
      ": 25\n",
      " The 578\n",
      " answer 4320\n",
      " is 374\n",
      " #### 27370\n",
      "  220\n",
      "18 972\n",
      ". 13\n",
      "  220\n",
      "****** 6967\n"
     ]
    }
   ],
   "source": [
    "lst = tokenizer.encode(\"\"\"Step 3: She has 16 - 7 = 9 eggs left for the farmers' market. ******\n",
    "\n",
    "Step 4: She sells the eggs for $2 each, so she makes 9 * $2 = $18. ******\n",
    "\n",
    "Step 5: The answer is #### 18. ******\"\"\")\n",
    "for i in lst:\n",
    "    print(tokenizer.decode(i), i)"
   ]
  },
  {
   "cell_type": "code",
   "execution_count": 59,
   "metadata": {},
   "outputs": [
    {
     "name": "stdout",
     "output_type": "stream",
     "text": [
      "6967\n"
     ]
    }
   ],
   "source": [
    "print(tokenizer.convert_tokens_to_ids(\"******\"))"
   ]
  },
  {
   "cell_type": "code",
   "execution_count": 61,
   "metadata": {},
   "outputs": [
    {
     "data": {
      "text/plain": [
       "[128000, 6967]"
      ]
     },
     "execution_count": 61,
     "metadata": {},
     "output_type": "execute_result"
    }
   ],
   "source": [
    "tokenizer.encode(\"******\")"
   ]
  },
  {
   "cell_type": "code",
   "execution_count": 14,
   "metadata": {},
   "outputs": [
    {
     "name": "stderr",
     "output_type": "stream",
     "text": [
      "/data2/jeongseokoh/miniconda3/envs/myenv/lib/python3.9/site-packages/sklearn/metrics/pairwise.py:2361: DataConversionWarning: Data was converted to boolean for metric jaccard\n",
      "  warnings.warn(msg, DataConversionWarning)\n"
     ]
    },
    {
     "data": {
      "text/plain": [
       "(0, [4, 7, 10])"
      ]
     },
     "execution_count": 14,
     "metadata": {},
     "output_type": "execute_result"
    }
   ],
   "source": [
    "from sklearn.metrics import pairwise_distances\n",
    "from sklearn.cluster import KMeans\n",
    "import numpy as np\n",
    "\n",
    "# 예제 리스트들 (이전 코드와 동일)\n",
    "lists = [\n",
    "    [8, 11, 27, 31, 47],\n",
    "    [18, 23, 24],\n",
    "    [3, 12, 38, 45],\n",
    "    [16, 34, 43],\n",
    "    [1, 15, 17, 21, 24, 39],\n",
    "    [3, 6, 9, 11, 20, 47],\n",
    "    [2, 31, 39, 40, 44, 45],\n",
    "    [14, 15, 21, 29, 32, 36],\n",
    "    [8, 17, 39, 44, 47],\n",
    "    [5, 14, 17, 39, 42],\n",
    "    [1, 21, 27, 32, 39, 48],\n",
    "    [6, 16, 29, 38, 45, 48],\n",
    "    [3, 9, 14, 44],\n",
    "    [1, 10, 16, 17],\n",
    "    [6, 17, 26, 32, 34, 42],\n",
    "    [2, 3, 26, 30, 38],\n",
    "    [2, 22, 41],\n",
    "    [1, 7, 25],\n",
    "    [26, 38, 41],\n",
    "    [10, 11, 17, 24, 38, 48]\n",
    "]\n",
    "\n",
    "# 리스트를 이진 벡터로 변환\n",
    "unique_items = sorted(set(item for sublist in lists for item in sublist))\n",
    "binary_vectors = np.array([[1 if item in sublist else 0 for item in unique_items] for sublist in lists])\n",
    "\n",
    "# Jaccard 유사도 계산\n",
    "jaccard_matrix = 1 - pairwise_distances(binary_vectors, metric=\"jaccard\")\n",
    "\n",
    "# K-means 클러스터링 수행 (정해진 개수의 클러스터로 나누기 위해)\n",
    "n_clusters = 10  # 원하는 클러스터 개수\n",
    "kmeans = KMeans(n_clusters=n_clusters, random_state=0)\n",
    "kmeans.fit(jaccard_matrix)\n",
    "\n",
    "# 클러스터 할당\n",
    "clusters = kmeans.labels_\n",
    "\n",
    "# 클러스터별로 리스트 인덱스 그룹화\n",
    "clustered_indices = {i: [] for i in range(n_clusters)}\n",
    "for i, cluster_id in enumerate(clusters):\n",
    "    clustered_indices[cluster_id].append(i)\n",
    "\n",
    "# 가장 많은 값을 보유한 클러스터의 인덱스 찾기\n",
    "largest_cluster_id = max(clustered_indices, key=lambda k: len(clustered_indices[k]))\n",
    "largest_cluster_id, clustered_indices[largest_cluster_id]"
   ]
  },
  {
   "cell_type": "code",
   "execution_count": 5,
   "metadata": {},
   "outputs": [
    {
     "data": {
      "text/plain": [
       "[0.1, 0.2, 0.3]"
      ]
     },
     "execution_count": 5,
     "metadata": {},
     "output_type": "execute_result"
    }
   ],
   "source": [
    "a = {0:0.1, 1:0.2, 2:0.3}\n",
    "list(a.values())"
   ]
  },
  {
   "cell_type": "code",
   "execution_count": null,
   "metadata": {},
   "outputs": [],
   "source": []
  }
 ],
 "metadata": {
  "kernelspec": {
   "display_name": "myenv",
   "language": "python",
   "name": "python3"
  },
  "language_info": {
   "codemirror_mode": {
    "name": "ipython",
    "version": 3
   },
   "file_extension": ".py",
   "mimetype": "text/x-python",
   "name": "python",
   "nbconvert_exporter": "python",
   "pygments_lexer": "ipython3",
   "version": "3.9.19"
  }
 },
 "nbformat": 4,
 "nbformat_minor": 2
}
