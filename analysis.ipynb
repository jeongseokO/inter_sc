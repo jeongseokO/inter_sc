{
 "cells": [
  {
   "cell_type": "code",
   "execution_count": 12,
   "metadata": {},
   "outputs": [],
   "source": [
    "import pandas as pd\n",
    "\n",
    "orig = pd.read_pickle(\"../inter_sc_data/original_SC_llama3_8b_gsm8k_10.pkl\")\n",
    "orig2 = pd.read_pickle(\"../inter_sc_data/original_SC_llama3_8b_gsm8k_20.pkl\")\n",
    "orig3 = pd.read_pickle(\"../inter_sc_data/original_SC_llama3_8b_gsm8k_40.pkl\")\n",
    "\n",
    "orig_mmlu_10 = pd.read_pickle(\"../inter_sc_data/original_SC_llama3_8b_mmlu_10.pkl\")\n",
    "orig_mmlu_20 = pd.read_pickle(\"../inter_sc_data/original_SC_llama3_8b_mmlu_20.pkl\")\n",
    "orig_mmlu_40 = pd.read_pickle(\"../inter_sc_data/original_SC_llama3_8b_mmlu_40.pkl\")"
   ]
  },
  {
   "cell_type": "code",
   "execution_count": 13,
   "metadata": {},
   "outputs": [],
   "source": [
    "import pandas as pd\n",
    "\n",
    "lev = pd.read_pickle(\"../inter_sc_data/inter_SC_llm_llama3_8b_gsm8k_10_5_2_levenshtein.pkl\")\n",
    "lev2 = pd.read_pickle(\"../inter_sc_data/inter_SC_llm_llama3_8b_gsm8k_20_5_4_levenshtein.pkl\")\n",
    "lev3 = pd.read_pickle(\"../inter_sc_data/inter_SC_llm_llama3_8b_gsm8k_20_10_2_levenshtein.pkl\")\n",
    "lev4 = pd.read_pickle(\"../inter_sc_data/inter_SC_llm_llama3_8b_gsm8k_40_8_5_levenshtein.pkl\")\n",
    "lev5 = pd.read_pickle(\"../inter_sc_data/inter_SC_llm_llama3_8b_gsm8k_40_10_4_levenshtein.pkl\")\n",
    "lev6 = pd.read_pickle(\"../inter_sc_data/inter_SC_llm_llama3_8b_gsm8k_40_20_2_levenshtein.pkl\")\n",
    "\n",
    "lev_mmlu = pd.read_pickle(\"../inter_sc_data/inter_SC_llm_llama3_8b_mmlu_10_5_2_levenshtein.pkl\")\n"
   ]
  },
  {
   "cell_type": "code",
   "execution_count": 14,
   "metadata": {},
   "outputs": [],
   "source": [
    "import pandas as pd\n",
    "\n",
    "to_llm = pd.read_pickle(\"../inter_sc_data/inter_SC_llm_to_llm_llama3_8b_gsm8k_10_5_2_levenshtein_agglomerative.pkl\")\n",
    "to_llm2 = pd.read_pickle(\"../inter_sc_data/inter_SC_llm_to_llm_llama3_8b_gsm8k_20_5_4_levenshtein_agglomerative.pkl\")\n",
    "to_llm3 = pd.read_pickle(\"../inter_sc_data/inter_SC_llm_to_llm_llama3_8b_gsm8k_40_5_8_levenshtein_agglomerative.pkl\")"
   ]
  },
  {
   "cell_type": "code",
   "execution_count": 5,
   "metadata": {},
   "outputs": [],
   "source": [
    "import pandas as pd\n",
    "\n",
    "jac = pd.read_pickle(\"../inter_sc_data/inter_SC_llm_llama3_8b_gsm8k_10_5_2_jaccard.pkl\")\n",
    "jac2 = pd.read_pickle(\"../inter_sc_data/inter_SC_llm_llama3_8b_gsm8k_20_5_4_jaccard.pkl\")\n",
    "jac3 = pd.read_pickle(\"../inter_sc_data/inter_SC_llm_llama3_8b_gsm8k_20_10_2_jaccard.pkl\")\n",
    "jac4 = pd.read_pickle(\"../inter_sc_data/inter_SC_llm_llama3_8b_gsm8k_40_8_5_jaccard.pkl\")\n",
    "jac5 = pd.read_pickle(\"../inter_sc_data/inter_SC_llm_llama3_8b_gsm8k_40_10_4_jaccard.pkl\")\n",
    "jac6 = pd.read_pickle(\"../inter_sc_data/inter_SC_llm_llama3_8b_gsm8k_40_20_2_jaccard.pkl\")\n",
    "\n",
    "jac_mmlu = pd.read_pickle(\"../inter_sc_data/inter_SC_llm_llama3_8b_mmlu_10_5_2_jaccard_kmeans.pkl\")\n",
    "jac_mmlu2 = pd.read_pickle(\"../inter_sc_data/inter_SC_llm_llama3_8b_mmlu_20_5_4_jaccard_kmeans.pkl\")\n",
    "jac_mmlu3 = pd.read_pickle(\"../inter_sc_data/inter_SC_llm_llama3_8b_mmlu_20_10_2_jaccard_kmeans.pkl\")\n",
    "jac_mmlu4 = pd.read_pickle(\"../inter_sc_data/inter_SC_llm_llama3_8b_mmlu_40_8_5_jaccard_kmeans.pkl\")\n",
    "jac_mmlu5 = pd.read_pickle(\"../inter_sc_data/inter_SC_llm_llama3_8b_mmlu_40_10_4_jaccard_kmeans.pkl\")\n",
    "jac_mmlu6 = pd.read_pickle(\"../inter_sc_data/inter_SC_llm_llama3_8b_mmlu_40_20_2_jaccard_kmeans.pkl\")"
   ]
  },
  {
   "cell_type": "code",
   "execution_count": 6,
   "metadata": {},
   "outputs": [],
   "source": [
    "import pandas as pd\n",
    "\n",
    "rouge = pd.read_pickle(\"../inter_sc_data/inter_SC_llm_llama3_8b_gsm8k_10_5_2_rougeL_kmeans.pkl\")\n",
    "rouge2 = pd.read_pickle(\"../inter_sc_data/inter_SC_llm_llama3_8b_gsm8k_20_5_4_rougeL_kmeans.pkl\")\n",
    "rouge3 = pd.read_pickle(\"../inter_sc_data/inter_SC_llm_llama3_8b_gsm8k_20_10_2_rougeL_kmeans.pkl\")\n",
    "rouge4 = pd.read_pickle(\"../inter_sc_data/inter_SC_llm_llama3_8b_gsm8k_40_8_5_rougeL_kmeans.pkl\")\n",
    "rouge5 = pd.read_pickle(\"../inter_sc_data/inter_SC_llm_llama3_8b_gsm8k_40_10_4_rougeL_kmeans.pkl\")\n",
    "rouge6 = pd.read_pickle(\"../inter_sc_data/inter_SC_llm_llama3_8b_gsm8k_40_20_2_rougeL_kmeans.pkl\")\n",
    "\n",
    "rouge_mmlu = pd.read_pickle(\"../inter_sc_data/inter_SC_llm_llama3_8b_mmlu_10_5_2_rougeL_kmeans.pkl\")\n",
    "rouge_mmlu2 = pd.read_pickle(\"../inter_sc_data/inter_SC_llm_llama3_8b_mmlu_20_5_4_rougeL_kmeans.pkl\")\n",
    "rouge_mmlu3 = pd.read_pickle(\"../inter_sc_data/inter_SC_llm_llama3_8b_mmlu_20_10_2_rougeL_kmeans.pkl\")\n",
    "rouge_mmlu4 = pd.read_pickle(\"../inter_sc_data/inter_SC_llm_llama3_8b_mmlu_40_8_5_rougeL_kmeans.pkl\")\n",
    "rouge_mmlu5 = pd.read_pickle(\"../inter_sc_data/inter_SC_llm_llama3_8b_mmlu_40_10_4_rougeL_kmeans.pkl\")\n",
    "rouge_mmlu6 = pd.read_pickle(\"../inter_sc_data/inter_SC_llm_llama3_8b_mmlu_40_20_2_rougeL_kmeans.pkl\")"
   ]
  },
  {
   "cell_type": "code",
   "execution_count": 11,
   "metadata": {},
   "outputs": [
    {
     "name": "stdout",
     "output_type": "stream",
     "text": [
      "MMLU\n",
      "Original\n",
      "10: 0.636\n",
      "20: 0.639\n",
      "40: 0.638\n",
      "Rouge-L:\n",
      "10/5/2: 0.651\n",
      "20/5/4: 0.661\n",
      "20/10/2: 0.673\n",
      "40/8/5: 0.673\n",
      "40/10/4: 0.66\n",
      "40/20/2: 0.671\n",
      "Jaccard:\n",
      "10/5/2: 0.65\n",
      "20/5/4: 0.647\n",
      "20/10/2: 0.671\n",
      "40/8/5: 0.668\n",
      "40/10/4: 0.67\n",
      "40/20/2: 0.665\n"
     ]
    }
   ],
   "source": [
    "orig_mmlu_acc = orig_mmlu_10['original_is_correct'].mean()\n",
    "orig_mmlu_acc2 = orig_mmlu_20['original_is_correct'].mean()\n",
    "orig_mmlu_acc3 = orig_mmlu_40['original_is_correct'].mean()\n",
    "\n",
    "\n",
    "rouge_mmlu_acc = rouge_mmlu['original_is_correct'].mean()\n",
    "rouge_mmlu_acc2 = rouge_mmlu2['original_is_correct'].mean()\n",
    "rouge_mmlu_acc3 = rouge_mmlu3['original_is_correct'].mean()\n",
    "rouge_mmlu_acc4 = rouge_mmlu4['original_is_correct'].mean()\n",
    "rouge_mmlu_acc5 = rouge_mmlu5['original_is_correct'].mean()\n",
    "rouge_mmlu_acc6 = rouge_mmlu6['original_is_correct'].mean()\n",
    "\n",
    "jac_mmlu_acc = jac_mmlu['original_is_correct'].mean()\n",
    "jac_mmlu_acc2 = jac_mmlu2['original_is_correct'].mean()\n",
    "jac_mmlu_acc3 = jac_mmlu3['original_is_correct'].mean()\n",
    "jac_mmlu_acc4 = jac_mmlu4['original_is_correct'].mean()\n",
    "jac_mmlu_acc5 = jac_mmlu5['original_is_correct'].mean()\n",
    "jac_mmlu_acc6 = jac_mmlu6['original_is_correct'].mean()\n",
    "print(f\"MMLU\\nOriginal\\n10: {orig_mmlu_acc}\\n20: {orig_mmlu_acc2}\\n40: {orig_mmlu_acc3}\\nRouge-L:\\n10/5/2: {rouge_mmlu_acc}\\n20/5/4: {rouge_mmlu_acc2}\\n20/10/2: {rouge_mmlu_acc3}\\n40/8/5: {rouge_mmlu_acc4}\\n40/10/4: {rouge_mmlu_acc5}\\n40/20/2: {rouge_mmlu_acc6}\\nJaccard:\\n10/5/2: {jac_mmlu_acc}\\n20/5/4: {jac_mmlu_acc2}\\n20/10/2: {jac_mmlu_acc3}\\n40/8/5: {jac_mmlu_acc4}\\n40/10/4: {jac_mmlu_acc5}\\n40/20/2: {jac_mmlu_acc6}\")"
   ]
  },
  {
   "cell_type": "code",
   "execution_count": 46,
   "metadata": {},
   "outputs": [
    {
     "name": "stdout",
     "output_type": "stream",
     "text": [
      "Original SC\n",
      "10: 0.843\n",
      "20: 0.849\n",
      "40: 0.855\n"
     ]
    }
   ],
   "source": [
    "acc = orig['original_is_correct'].mean()\n",
    "acc2 = orig2['original_is_correct'].mean()\n",
    "acc3 = orig3['original_is_correct'].mean()\n",
    "print(f\"Original SC\\n10: {acc}\\n20: {acc2}\\n40: {acc3}\")"
   ]
  },
  {
   "cell_type": "code",
   "execution_count": 71,
   "metadata": {},
   "outputs": [
    {
     "name": "stdout",
     "output_type": "stream",
     "text": [
      "Levenshtein\n",
      "10/5/2: 0.842\n",
      "20/5/4: 0.845\n",
      "20/10/2: 0.856\n",
      "40/8/5: 0.859\n",
      "40/10/4: 0.865\n",
      "40/20/2: 0.856\n",
      "\n"
     ]
    }
   ],
   "source": [
    "acc = lev['original_is_correct'].mean()\n",
    "acc2 = lev2['original_is_correct'].mean()\n",
    "acc3 = lev3['original_is_correct'].mean()\n",
    "acc4 = lev4['original_is_correct'].mean()\n",
    "acc5 = lev5['original_is_correct'].mean()\n",
    "acc6 = lev6['original_is_correct'].mean()\n",
    "print(f\"Levenshtein\\n10/5/2: {acc}\\n20/5/4: {acc2}\\n20/10/2: {acc3}\\n40/8/5: {acc4}\\n40/10/4: {acc5}\\n40/20/2: {acc6}\\n\")"
   ]
  },
  {
   "cell_type": "code",
   "execution_count": 48,
   "metadata": {},
   "outputs": [
    {
     "name": "stdout",
     "output_type": "stream",
     "text": [
      "Jaccard\n",
      "10/5/2: 0.845\n",
      "20/5/4: 0.842\n",
      "20/10/2: 0.864\n",
      "40/8/5: 0.86\n",
      "40/10/4: 0.866\n",
      "40/20/2: 0.86\n",
      "\n"
     ]
    }
   ],
   "source": [
    "acc = jac['original_is_correct'].mean()\n",
    "acc2 = jac2['original_is_correct'].mean()\n",
    "acc3 = jac3['original_is_correct'].mean()\n",
    "acc4 = jac4['original_is_correct'].mean()\n",
    "acc5 = jac5['original_is_correct'].mean()\n",
    "acc6 = jac6['original_is_correct'].mean()\n",
    "print(f\"Jaccard\\n10/5/2: {acc}\\n20/5/4: {acc2}\\n20/10/2: {acc3}\\n40/8/5: {acc4}\\n40/10/4: {acc5}\\n40/20/2: {acc6}\\n\")"
   ]
  },
  {
   "cell_type": "code",
   "execution_count": 36,
   "metadata": {},
   "outputs": [
    {
     "name": "stdout",
     "output_type": "stream",
     "text": [
      "ROUGE-L\n",
      "10/5/2: 0.848\n",
      "20/5/4: 0.852\n",
      "20/10/2: 0.871\n",
      "40/8/5: 0.869\n",
      "40/10/4: 0.868\n",
      "40/20/2: 0.859\n",
      "\n"
     ]
    }
   ],
   "source": [
    "acc = rouge['original_is_correct'].mean()\n",
    "acc2 = rouge2['original_is_correct'].mean()\n",
    "acc3 = rouge3['original_is_correct'].mean()\n",
    "acc4 = rouge4['original_is_correct'].mean()\n",
    "acc5 = rouge5['original_is_correct'].mean()\n",
    "acc6 = rouge6['original_is_correct'].mean()\n",
    "print(f\"ROUGE-L\\n10/5/2: {acc}\\n20/5/4: {acc2}\\n20/10/2: {acc3}\\n40/8/5: {acc4}\\n40/10/4: {acc5}\\n40/20/2: {acc6}\\n\")"
   ]
  },
  {
   "cell_type": "code",
   "execution_count": 29,
   "metadata": {},
   "outputs": [
    {
     "name": "stdout",
     "output_type": "stream",
     "text": [
      "To LLM\n",
      "10/5/2: 0.838\n",
      "20/5/4: 0.851\n",
      "40/5/8: 0.842\n",
      "\n"
     ]
    }
   ],
   "source": [
    "acc = to_llm['original_is_correct'].mean()\n",
    "acc2 = to_llm2['original_is_correct'].mean()\n",
    "acc3 = to_llm3['original_is_correct'].mean()\n",
    "print(f\"To LLM\\n10/5/2: {acc}\\n20/5/4: {acc2}\\n40/5/8: {acc3}\\n\")"
   ]
  },
  {
   "cell_type": "code",
   "execution_count": 12,
   "metadata": {},
   "outputs": [
    {
     "data": {
      "text/plain": [
       "37"
      ]
     },
     "execution_count": 12,
     "metadata": {},
     "output_type": "execute_result"
    }
   ],
   "source": [
    "diff = []\n",
    "for id in range(1000):\n",
    "    if jac['original_is_correct'][id] != lev['original_is_correct'][id]:\n",
    "        diff.append(id)\n",
    "len(diff)"
   ]
  },
  {
   "cell_type": "code",
   "execution_count": 16,
   "metadata": {},
   "outputs": [
    {
     "name": "stdout",
     "output_type": "stream",
     "text": [
      "jac: False\n",
      "lev: True\n",
      "\n",
      "jac: True\n",
      "lev: False\n",
      "\n",
      "jac: False\n",
      "lev: True\n",
      "\n",
      "jac: False\n",
      "lev: True\n",
      "\n",
      "jac: True\n",
      "lev: False\n",
      "\n",
      "jac: False\n",
      "lev: True\n",
      "\n",
      "jac: True\n",
      "lev: False\n",
      "\n",
      "jac: False\n",
      "lev: True\n",
      "\n",
      "jac: False\n",
      "lev: True\n",
      "\n",
      "jac: True\n",
      "lev: False\n",
      "\n",
      "jac: True\n",
      "lev: False\n",
      "\n",
      "jac: True\n",
      "lev: False\n",
      "\n",
      "jac: True\n",
      "lev: False\n",
      "\n",
      "jac: True\n",
      "lev: False\n",
      "\n",
      "jac: True\n",
      "lev: False\n",
      "\n",
      "jac: False\n",
      "lev: True\n",
      "\n",
      "jac: False\n",
      "lev: True\n",
      "\n",
      "jac: True\n",
      "lev: False\n",
      "\n",
      "jac: False\n",
      "lev: True\n",
      "\n",
      "jac: True\n",
      "lev: False\n",
      "\n",
      "jac: True\n",
      "lev: False\n",
      "\n",
      "jac: False\n",
      "lev: True\n",
      "\n",
      "jac: False\n",
      "lev: True\n",
      "\n",
      "jac: False\n",
      "lev: True\n",
      "\n",
      "jac: True\n",
      "lev: False\n",
      "\n",
      "jac: False\n",
      "lev: True\n",
      "\n",
      "jac: True\n",
      "lev: False\n",
      "\n",
      "jac: False\n",
      "lev: True\n",
      "\n",
      "jac: False\n",
      "lev: True\n",
      "\n",
      "jac: True\n",
      "lev: False\n",
      "\n",
      "jac: True\n",
      "lev: False\n",
      "\n",
      "jac: False\n",
      "lev: True\n",
      "\n",
      "jac: False\n",
      "lev: True\n",
      "\n",
      "jac: True\n",
      "lev: False\n",
      "\n",
      "jac: False\n",
      "lev: True\n",
      "\n",
      "jac: True\n",
      "lev: False\n",
      "\n",
      "jac: False\n",
      "lev: True\n",
      "\n"
     ]
    }
   ],
   "source": [
    "for id in diff:\n",
    "    print(f\"jac: {jac['original_is_correct'][id]}\\nlev: {lev['original_is_correct'][id]}\")\n",
    "    print()"
   ]
  },
  {
   "cell_type": "code",
   "execution_count": 77,
   "metadata": {},
   "outputs": [
    {
     "data": {
      "text/plain": [
       "[\"<|start_header_id|>assistant<|end_header_id|>\\n\\nAfter reviewing the responses, I can see that most of them arrive at a similar conclusion. Responses 0, 1, and 4 all calculate the profit as the difference between the new value and the initial cost, minus the cost of repairs. This is a reasonable approach.\\n\\nHowever, Response 2 and 3 seem to have a misunderstanding about the concept of profit. They calculate the profit as the difference between the new value and the initial cost, but then subtract the cost of repairs, which is incorrect. This would mean that the repairs are being treated as an expense, rather than an investment that increases the value of the house.\\n\\nGiven the reasonable approach of responses 0, 1, and 4, I will integrate their calculations to arrive at the final answer.\\n\\nLet's calculate the profit:\\n\\nNew value of the house: 150% of $80,000 = 1.5 * $80,000 = $120,000\\nInitial cost: $80,000\\nCost of repairs: $50,000\\nTotal cost: $80,000 + $50,000 = $130,000\\nProfit: $120,000 - $130,000 = -$10,000\\n\\nHowever, this is a loss, not a profit. The correct approach is to calculate the profit as the difference between the new value and the initial cost, minus the cost of repairs:\\n\\nProfit: $120,000 - $80,000 - $50,000 = $30,000\\n\\nTherefore, the final answer is:\\n\\n#### 30000\"]"
      ]
     },
     "execution_count": 77,
     "metadata": {},
     "output_type": "execute_result"
    }
   ],
   "source": [
    "llm = pd.read_pickle(\"inter_SC_llm_to_llm_llama3_8b_gsm8k_20_5_4_levenshtein.pkl\")\n",
    "llm[llm['original_is_correct'] != True]['original_rp'][2]"
   ]
  },
  {
   "cell_type": "code",
   "execution_count": 28,
   "metadata": {},
   "outputs": [
    {
     "name": "stderr",
     "output_type": "stream",
     "text": [
      "/tmp/ipykernel_3482370/3921804383.py:18: FutureWarning: The default of observed=False is deprecated and will be changed to True in a future version of pandas. Pass observed=False to retain current behavior or observed=True to adopt the future default and silence this warning.\n",
      "  accuracy_original = orig.groupby('confidence_bin')['original_is_correct'].mean().reset_index()\n",
      "/tmp/ipykernel_3482370/3921804383.py:22: FutureWarning: The default of observed=False is deprecated and will be changed to True in a future version of pandas. Pass observed=False to retain current behavior or observed=True to adopt the future default and silence this warning.\n",
      "  accuracy_final = lev.groupby('confidence_bin')['original_is_correct'].mean().reset_index()\n"
     ]
    },
    {
     "data": {
      "image/png": "[encoded data removed]",
      "text/plain": [
       "<Figure size 1000x600 with 1 Axes>"
      ]
     },
     "metadata": {},
     "output_type": "display_data"
    }
   ],
   "source": [
    "from sklearn.metrics import confusion_matrix\n",
    "import seaborn as sns\n",
    "import matplotlib.pyplot as plt\n",
    "import pandas as pd\n",
    "import numpy as np\n",
    "from datasets import load_dataset, Dataset\n",
    "import pickle\n",
    "# confidence 구간 설정 (0.1 간격)\n",
    "bins = np.arange(0, 1.1, 0.1)\n",
    "labels = [f'{i:.1f}-{i+0.1:.1f}' for i in bins[:-1]]\n",
    "orig = orig3\n",
    "lev = lev5\n",
    "# confidence 구간에 따라 나누기\n",
    "orig['confidence_bin'] = pd.cut(orig['original_conf'], bins=bins, labels=labels, include_lowest=True)\n",
    "lev['confidence_bin'] = pd.cut(lev['original_conf'], bins=bins, labels=labels, include_lowest=True)\n",
    "\n",
    "# 각 구간별 original_is_correct 정답율 계산\n",
    "accuracy_original = orig.groupby('confidence_bin')['original_is_correct'].mean().reset_index()\n",
    "accuracy_original.columns = ['confidence_bin', 'original_accuracy']\n",
    "\n",
    "# 각 구간별 min_final_is_correct 정답율 계산\n",
    "accuracy_final = lev.groupby('confidence_bin')['original_is_correct'].mean().reset_index()\n",
    "accuracy_final.columns = ['confidence_bin', 'final_accuracy']\n",
    "\n",
    "# 두 데이터프레임 합치기\n",
    "accuracy_combined = pd.merge(accuracy_original, accuracy_final, on='confidence_bin')\n",
    "# 시각화\n",
    "plt.figure(figsize=(10, 6))\n",
    "sns.lineplot(data=accuracy_original, x='confidence_bin', y='original_accuracy', marker='o', label='Original SC')\n",
    "sns.lineplot(data=accuracy_combined, x='confidence_bin', y='final_accuracy', marker='o', label='Intermediate SC')\n",
    "plt.plot([0, len(accuracy_original)-1], [0, 1], color=\"red\", linestyle=\"--\", label='y=x line')  # y=x 대각선 플롯\n",
    "plt.xlabel('Confidence')\n",
    "plt.ylabel('Accuracy')\n",
    "plt.title('Accuracy by Confidence Interval')\n",
    "plt.xticks(rotation=45)\n",
    "plt.ylim(0, 1)\n",
    "plt.legend()\n",
    "plt.show()"
   ]
  },
  {
   "cell_type": "code",
   "execution_count": 29,
   "metadata": {},
   "outputs": [
    {
     "name": "stdout",
     "output_type": "stream",
     "text": [
      "Win: [74, 146, 150, 172, 184, 201, 249, 265, 266, 273, 301, 325, 350, 409, 413, 422, 450, 458, 500, 514, 530, 564, 566, 570, 582, 584, 596, 598, 601, 610, 633, 640, 642, 652, 657, 706, 715, 779, 810, 819, 829, 830, 953, 969, 992] / Lose: [16, 20, 38, 53, 73, 122, 145, 192, 199, 227, 272, 293, 298, 357, 359, 420, 443, 475, 515, 525, 526, 541, 583, 635, 637, 689, 721, 724, 763, 784, 931, 934, 972, 990, 999]\n"
     ]
    }
   ],
   "source": [
    "inter = df['original_is_correct']\n",
    "orig = org['original_is_correct']\n",
    "win = []\n",
    "lose = []\n",
    "for id in range(1000):\n",
    "    if inter[id] == True and orig[id] == False:\n",
    "        win.append(id)\n",
    "    elif inter[id] != True and orig[id] != False:\n",
    "        lose.append(id)\n",
    "print(f\"Win: {win} / Lose: {lose}\")"
   ]
  },
  {
   "cell_type": "code",
   "execution_count": 34,
   "metadata": {},
   "outputs": [
    {
     "name": "stdout",
     "output_type": "stream",
     "text": [
      "0.9\n",
      "original: 86\n",
      "Inter: 88 / 0.8\n",
      "1.0\n",
      "original: 2125\n",
      "Inter: 2125 / 1.0\n",
      "0.8\n",
      "original: 28\n",
      "Inter: 4 / 0.5\n",
      "0.6\n",
      "original: 43\n",
      "Inter: 51 / 0.6\n",
      "0.15\n",
      "original: 55\n",
      "Inter: 25 / 0.4\n",
      "0.3\n",
      "original: 114600\n",
      "Inter: 114200 / 0.6\n",
      "0.85\n",
      "original: 5600\n",
      "Inter: 5600 / 1.0\n",
      "0.7\n",
      "original: 9\n",
      "Inter: 9500 / 0.8\n",
      "0.8\n",
      "original: 118\n",
      "Inter: 118000 / 1.0\n",
      "0.65\n",
      "original: 265\n",
      "Inter: 315 / 1.0\n",
      "0.2\n",
      "original: 16\n",
      "Inter: 8 / 0.4\n",
      "0.95\n",
      "original: 224\n",
      "Inter: 224000 / 1.0\n",
      "0.95\n",
      "original: 7\n",
      "Inter: 8 / 0.8\n",
      "0.45\n",
      "original: 42000\n",
      "Inter: 168000 / 0.8\n",
      "0.35\n",
      "original: 1250\n",
      "Inter: 25 / 0.2\n",
      "0.6\n",
      "original: 252\n",
      "Inter: 284 / 0.4\n",
      "0.25\n",
      "original: 11\n",
      "Inter: 4 / 0.6\n",
      "0.5\n",
      "original: 70\n",
      "Inter: 35 / 0.8\n",
      "0.45\n",
      "original: 19\n",
      "Inter: 16 / 0.6\n",
      "0.6\n",
      "original: 90\n",
      "Inter: 90000 / 1.0\n",
      "0.7\n",
      "original: 48\n",
      "Inter: 36 / 0.6\n",
      "0.55\n",
      "original: 170\n",
      "Inter: 240 / 0.4\n",
      "0.6\n",
      "original: 14\n",
      "Inter: 10 / 1.0\n",
      "0.15\n",
      "original: 12\n",
      "Inter: 23 / 0.6\n",
      "0.85\n",
      "original: 129\n",
      "Inter: 129200 / 1.0\n",
      "0.5\n",
      "original: 1\n",
      "Inter: 2.00 / 0.6\n",
      "0.55\n",
      "original: 394\n",
      "Inter: 260 / 0.8\n",
      "0.45\n",
      "original: 55\n",
      "Inter: 69 / 0.6\n",
      "0.4\n",
      "original: 99\n",
      "Inter: 104 / 0.6\n",
      "0.3\n",
      "original: 65960\n",
      "Inter: 65960 / 0.2\n",
      "0.6\n",
      "original: 1\n",
      "Inter: 5 / 0.8\n",
      "0.6\n",
      "original: 43500\n",
      "Inter: 43500 / 1.0\n",
      "0.8\n",
      "original: 10800\n",
      "Inter: 10800 / 0.8\n",
      "0.9\n",
      "original: 105\n",
      "Inter: 75 / 0.8\n",
      "0.95\n",
      "original: 330\n",
      "Inter: 330000 / 1.0\n",
      "0.4\n",
      "original: 6\n",
      "Inter: 9 / 0.6\n",
      "0.6\n",
      "original: 385\n",
      "Inter: 385000 / 1.0\n",
      "0.65\n",
      "original: 330\n",
      "Inter: 255 / 0.4\n",
      "0.6\n",
      "original: 150\n",
      "Inter: 310 / 0.8\n",
      "0.6\n",
      "original: 6250\n",
      "Inter: 6250 / 1.0\n",
      "0.55\n",
      "original: 14000\n",
      "Inter: 14000 / 0.8\n",
      "0.8\n",
      "original: 18\n",
      "Inter: 1128 / 0.8\n",
      "0.4\n",
      "original: 462\n",
      "Inter: 452 / 0.2\n",
      "0.45\n",
      "original: 2100\n",
      "Inter: 1800 / 0.6\n",
      "0.35\n",
      "original: 51\n",
      "Inter: 52 / 0.8\n"
     ]
    }
   ],
   "source": [
    "for id in win:\n",
    "    print(org['original_conf'][id])\n",
    "    print(f\"original: {org['original_most_common'][id]}\")\n",
    "    print(f\"Inter: {df['original_most_common'][id]} / {df['original_conf'][id]}\")"
   ]
  },
  {
   "cell_type": "code",
   "execution_count": 38,
   "metadata": {},
   "outputs": [
    {
     "data": {
      "text/plain": [
       "53"
      ]
     },
     "execution_count": 38,
     "metadata": {},
     "output_type": "execute_result"
    }
   ],
   "source": [
    "lose[3]"
   ]
  },
  {
   "cell_type": "code",
   "execution_count": 41,
   "metadata": {},
   "outputs": [
    {
     "data": {
      "text/plain": [
       "\"<|start_header_id|>assistant<|end_header_id|>\\n\\nLet's break down the revenue earned by the mechanic on each day:\\n\\nThursday:\\n\\n* 6 truck tires x $60 = $360\\n* 4 car tires x $40 = $160\\n* Total revenue on Thursday = $360 + $160 = $520\\n\\nFriday:\\n\\n* 12 car tires x $40 = $480\\n* No revenue from truck tires\\n* Total revenue on Friday = $480\\n\\nTo find the difference in revenue between the two days, subtract the revenue earned on Friday from the revenue earned on Thursday:\\n\\n$520 - $480 = $40\\n\\nThe mechanic earned $40 more revenue on the day with higher revenue, which was Thursday. The answer is #### 40.\""
      ]
     },
     "execution_count": 41,
     "metadata": {},
     "output_type": "execute_result"
    }
   ],
   "source": [
    "org['original_rp'][53][0]"
   ]
  },
  {
   "cell_type": "code",
   "execution_count": 37,
   "metadata": {},
   "outputs": [
    {
     "name": "stdout",
     "output_type": "stream",
     "text": [
      "original: 230 / 0.95\n",
      "Inter: 310 / 0.6\n",
      "\n",
      "original: 15 / 0.5\n",
      "Inter: 15.67 / 0.4\n",
      "\n",
      "original: 10 / 0.55\n",
      "Inter: 3.33 / 0.6\n",
      "\n",
      "original: 40 / 0.55\n",
      "Inter: -40 / 0.6\n",
      "\n",
      "original: 255 / 0.75\n",
      "Inter: 275 / 0.6\n",
      "\n",
      "original: 48 / 0.5\n",
      "Inter: 41 / 0.6\n",
      "\n",
      "original: 4000 / 0.75\n",
      "Inter: 1000 / 0.4\n",
      "\n",
      "original: 91 / 0.8\n",
      "Inter: 56 / 0.6\n",
      "\n",
      "original: 7500 / 0.7\n",
      "Inter: 15000 / 0.6\n",
      "\n",
      "original: 9 / 1.0\n",
      "Inter: 9.75 / 0.6\n",
      "\n",
      "original: 5 / 1.0\n",
      "Inter: 5.10 / 0.8\n",
      "\n",
      "original: 83 / 0.55\n",
      "Inter: 82 / 0.6\n",
      "\n",
      "original: 500 / 0.45\n",
      "Inter: 400 / 0.4\n",
      "\n",
      "original: 2 / 0.3\n",
      "Inter: 12 / 0.4\n",
      "\n",
      "original: 4 / 0.5\n",
      "Inter: 6 / 0.4\n",
      "\n",
      "original: 17000 / 0.4\n",
      "Inter: 15000 / 0.8\n",
      "\n",
      "original: 59 / 0.55\n",
      "Inter: 39 / 0.6\n",
      "\n",
      "original: 20 / 0.6\n",
      "Inter: 2.86 / 0.4\n",
      "\n",
      "original: 160 / 0.2\n",
      "Inter: 288 / 0.8\n",
      "\n",
      "original: 12 / 0.35\n",
      "Inter: 36 / 0.6\n",
      "\n",
      "original: 21 / 0.55\n",
      "Inter: 504 / 0.4\n",
      "\n",
      "original: 50 / 0.6\n",
      "Inter: 75 / 0.6\n",
      "\n",
      "original: 120 / 0.75\n",
      "Inter: 136 / 0.6\n",
      "\n",
      "original: 4 / 0.2\n",
      "Inter: 6 / 0.6\n",
      "\n",
      "original: 17 / 0.85\n",
      "Inter: 3 / 0.8\n",
      "\n",
      "original: 7 / 0.6\n",
      "Inter: 12.00 / 0.4\n",
      "\n",
      "original: 2450 / 0.95\n",
      "Inter: 2050 / 0.4\n",
      "\n",
      "original: 18 / 0.4\n",
      "Inter: 30 / 0.6\n",
      "\n",
      "original: 100 / 0.45\n",
      "Inter: 166 / 0.4\n",
      "\n",
      "original: 15 / 0.6\n",
      "Inter: 7.50 / 0.6\n",
      "\n",
      "original: 50 / 0.4\n",
      "Inter: 76 / 0.2\n",
      "\n",
      "original: 410 / 0.7\n",
      "Inter: 10.93 / 0.6\n",
      "\n",
      "original: 120 / 0.75\n",
      "Inter: 100 / 0.6\n",
      "\n",
      "original: 14 / 0.45\n",
      "Inter: 2 / 0.4\n",
      "\n",
      "original: 25 / 0.25\n",
      "Inter: 66.67 / 0.4\n",
      "\n"
     ]
    }
   ],
   "source": [
    "for id in lose:\n",
    "    print(f\"original: {org['original_most_common'][id]} / {org['original_conf'][id]}\")\n",
    "    print(f\"Inter: {df['original_most_common'][id]} / {df['original_conf'][id]}\")\n",
    "    print()"
   ]
  },
  {
   "cell_type": "code",
   "execution_count": 24,
   "metadata": {},
   "outputs": [
    {
     "data": {
      "text/plain": [
       "0.81"
      ]
     },
     "execution_count": 24,
     "metadata": {},
     "output_type": "execute_result"
    }
   ],
   "source": [
    "df['softsc_is_correct'].mean()"
   ]
  },
  {
   "cell_type": "code",
   "execution_count": 25,
   "metadata": {},
   "outputs": [
    {
     "data": {
      "text/plain": [
       "70"
      ]
     },
     "execution_count": 25,
     "metadata": {},
     "output_type": "execute_result"
    }
   ],
   "source": [
    "len(df[(df['original_is_correct'] == True) & (df['softsc_is_correct'] != True)])"
   ]
  },
  {
   "cell_type": "code",
   "execution_count": 7,
   "metadata": {},
   "outputs": [
    {
     "data": {
      "text/plain": [
       "0.774"
      ]
     },
     "execution_count": 7,
     "metadata": {},
     "output_type": "execute_result"
    }
   ],
   "source": [
    "import re\n",
    "def extract_number(text):\n",
    "    \"\"\"\n",
    "    Extracts the last number following '####' in the input text.\n",
    "    The number may contain commas, periods, and a sign (positive or negative).\n",
    "    \"\"\"\n",
    "    pattern = r'#### ([\\d,.,-]+)'\n",
    "    matches = re.findall(pattern, text)\n",
    "\n",
    "    if matches:\n",
    "        number_str = matches[-1].replace(',', '')  # 쉼표 제거\n",
    "        # 마지막에 마침표가 있는 경우 이를 제거\n",
    "        if number_str.endswith('.'):\n",
    "            number_str = number_str[:-1]\n",
    "        return number_str\n",
    "    return \"No Match\"\n",
    "ans = df['softsc_answer']\n",
    "real = df['real_answer']\n",
    "acc = 0\n",
    "for i in range(len(ans)):\n",
    "    if float(ans[i]) == float(extract_number(real[i])):\n",
    "        acc += 1\n",
    "acc / len(ans)"
   ]
  },
  {
   "cell_type": "code",
   "execution_count": 11,
   "metadata": {},
   "outputs": [
    {
     "data": {
      "text/html": [
       "<div>\n",
       "<style scoped>\n",
       "    .dataframe tbody tr th:only-of-type {\n",
       "        vertical-align: middle;\n",
       "    }\n",
       "\n",
       "    .dataframe tbody tr th {\n",
       "        vertical-align: top;\n",
       "    }\n",
       "\n",
       "    .dataframe thead th {\n",
       "        text-align: right;\n",
       "    }\n",
       "</style>\n",
       "<table border=\"1\" class=\"dataframe\">\n",
       "  <thead>\n",
       "    <tr style=\"text-align: right;\">\n",
       "      <th></th>\n",
       "      <th>question</th>\n",
       "      <th>real_answer</th>\n",
       "      <th>original_most_common</th>\n",
       "      <th>original_is_correct</th>\n",
       "      <th>original_conf</th>\n",
       "      <th>original_hr</th>\n",
       "      <th>original_rp</th>\n",
       "      <th>softsc_answer</th>\n",
       "      <th>softsc_conf</th>\n",
       "    </tr>\n",
       "  </thead>\n",
       "  <tbody>\n",
       "    <tr>\n",
       "      <th>20</th>\n",
       "      <td>I have 10 liters of orange drink that are two-...</td>\n",
       "      <td>There are 15 x 3/5 = &lt;&lt;15*3/5=9&gt;&gt;9 liters of w...</td>\n",
       "      <td>15</td>\n",
       "      <td>True</td>\n",
       "      <td>0.4</td>\n",
       "      <td>0.6</td>\n",
       "      <td>[&lt;|begin_of_text|&gt;&lt;|start_header_id|&gt;system&lt;|e...</td>\n",
       "      <td>15.67</td>\n",
       "      <td>0.811733</td>\n",
       "    </tr>\n",
       "    <tr>\n",
       "      <th>24</th>\n",
       "      <td>Kyle bought last year's best-selling book for ...</td>\n",
       "      <td>Let X be the original price of the book. The d...</td>\n",
       "      <td>26.00</td>\n",
       "      <td>True</td>\n",
       "      <td>0.8</td>\n",
       "      <td>1.0</td>\n",
       "      <td>[&lt;|begin_of_text|&gt;&lt;|start_header_id|&gt;system&lt;|e...</td>\n",
       "      <td>26.05</td>\n",
       "      <td>0.440844</td>\n",
       "    </tr>\n",
       "    <tr>\n",
       "      <th>35</th>\n",
       "      <td>Mike plays ping pong for 40 minutes.  In the f...</td>\n",
       "      <td>He scored 4*.25=&lt;&lt;4*.25=1&gt;&gt;1 point more in the...</td>\n",
       "      <td>9</td>\n",
       "      <td>True</td>\n",
       "      <td>0.8</td>\n",
       "      <td>0.8</td>\n",
       "      <td>[&lt;|begin_of_text|&gt;&lt;|start_header_id|&gt;system&lt;|e...</td>\n",
       "      <td>18</td>\n",
       "      <td>0.976720</td>\n",
       "    </tr>\n",
       "    <tr>\n",
       "      <th>43</th>\n",
       "      <td>According to its nutritional info, a bag of ch...</td>\n",
       "      <td>If the total calorie target is 2000 and I have...</td>\n",
       "      <td>48</td>\n",
       "      <td>True</td>\n",
       "      <td>0.6</td>\n",
       "      <td>0.6</td>\n",
       "      <td>[&lt;|begin_of_text|&gt;&lt;|start_header_id|&gt;system&lt;|e...</td>\n",
       "      <td>240</td>\n",
       "      <td>0.794087</td>\n",
       "    </tr>\n",
       "    <tr>\n",
       "      <th>70</th>\n",
       "      <td>Judy teaches 5 dance classes, every day, on th...</td>\n",
       "      <td>She teaches 5 dance classes 5 days a week so t...</td>\n",
       "      <td>7425</td>\n",
       "      <td>True</td>\n",
       "      <td>0.8</td>\n",
       "      <td>0.8</td>\n",
       "      <td>[&lt;|begin_of_text|&gt;&lt;|start_header_id|&gt;system&lt;|e...</td>\n",
       "      <td>7455</td>\n",
       "      <td>0.462722</td>\n",
       "    </tr>\n",
       "    <tr>\n",
       "      <th>...</th>\n",
       "      <td>...</td>\n",
       "      <td>...</td>\n",
       "      <td>...</td>\n",
       "      <td>...</td>\n",
       "      <td>...</td>\n",
       "      <td>...</td>\n",
       "      <td>...</td>\n",
       "      <td>...</td>\n",
       "      <td>...</td>\n",
       "    </tr>\n",
       "    <tr>\n",
       "      <th>976</th>\n",
       "      <td>Sunny is selling gingerbread and apple pie for...</td>\n",
       "      <td>He sold 10 + 5 = &lt;&lt;10+5=15&gt;&gt;15 boxes of ginger...</td>\n",
       "      <td>540</td>\n",
       "      <td>True</td>\n",
       "      <td>0.6</td>\n",
       "      <td>0.6</td>\n",
       "      <td>[&lt;|begin_of_text|&gt;&lt;|start_header_id|&gt;system&lt;|e...</td>\n",
       "      <td>555</td>\n",
       "      <td>0.675643</td>\n",
       "    </tr>\n",
       "    <tr>\n",
       "      <th>989</th>\n",
       "      <td>Emily can peel 6 shrimp a minute and saute 30 ...</td>\n",
       "      <td>First find how long it takes Emily to peel the...</td>\n",
       "      <td>45</td>\n",
       "      <td>True</td>\n",
       "      <td>0.6</td>\n",
       "      <td>0.6</td>\n",
       "      <td>[&lt;|begin_of_text|&gt;&lt;|start_header_id|&gt;system&lt;|e...</td>\n",
       "      <td>18</td>\n",
       "      <td>0.864748</td>\n",
       "    </tr>\n",
       "    <tr>\n",
       "      <th>991</th>\n",
       "      <td>Comet Halley orbits the sun every 75 years. Bi...</td>\n",
       "      <td>Bill saw the Comet for the second time when he...</td>\n",
       "      <td>15</td>\n",
       "      <td>True</td>\n",
       "      <td>0.6</td>\n",
       "      <td>0.6</td>\n",
       "      <td>[&lt;|begin_of_text|&gt;&lt;|start_header_id|&gt;system&lt;|e...</td>\n",
       "      <td>75</td>\n",
       "      <td>0.999822</td>\n",
       "    </tr>\n",
       "    <tr>\n",
       "      <th>992</th>\n",
       "      <td>Buford writes many checks every year.  Once pe...</td>\n",
       "      <td>Once per month he writes a check to pay the el...</td>\n",
       "      <td>52</td>\n",
       "      <td>True</td>\n",
       "      <td>0.6</td>\n",
       "      <td>0.6</td>\n",
       "      <td>[&lt;|begin_of_text|&gt;&lt;|start_header_id|&gt;system&lt;|e...</td>\n",
       "      <td>51</td>\n",
       "      <td>0.585993</td>\n",
       "    </tr>\n",
       "    <tr>\n",
       "      <th>996</th>\n",
       "      <td>Four children are playing together—Akbar, Ales...</td>\n",
       "      <td>If the combined age of the children is 20, the...</td>\n",
       "      <td>3</td>\n",
       "      <td>True</td>\n",
       "      <td>0.6</td>\n",
       "      <td>0.6</td>\n",
       "      <td>[&lt;|begin_of_text|&gt;&lt;|start_header_id|&gt;system&lt;|e...</td>\n",
       "      <td>8.66</td>\n",
       "      <td>0.998359</td>\n",
       "    </tr>\n",
       "  </tbody>\n",
       "</table>\n",
       "<p>104 rows × 9 columns</p>\n",
       "</div>"
      ],
      "text/plain": [
       "                                              question  \\\n",
       "20   I have 10 liters of orange drink that are two-...   \n",
       "24   Kyle bought last year's best-selling book for ...   \n",
       "35   Mike plays ping pong for 40 minutes.  In the f...   \n",
       "43   According to its nutritional info, a bag of ch...   \n",
       "70   Judy teaches 5 dance classes, every day, on th...   \n",
       "..                                                 ...   \n",
       "976  Sunny is selling gingerbread and apple pie for...   \n",
       "989  Emily can peel 6 shrimp a minute and saute 30 ...   \n",
       "991  Comet Halley orbits the sun every 75 years. Bi...   \n",
       "992  Buford writes many checks every year.  Once pe...   \n",
       "996  Four children are playing together—Akbar, Ales...   \n",
       "\n",
       "                                           real_answer original_most_common  \\\n",
       "20   There are 15 x 3/5 = <<15*3/5=9>>9 liters of w...                   15   \n",
       "24   Let X be the original price of the book. The d...                26.00   \n",
       "35   He scored 4*.25=<<4*.25=1>>1 point more in the...                    9   \n",
       "43   If the total calorie target is 2000 and I have...                   48   \n",
       "70   She teaches 5 dance classes 5 days a week so t...                 7425   \n",
       "..                                                 ...                  ...   \n",
       "976  He sold 10 + 5 = <<10+5=15>>15 boxes of ginger...                  540   \n",
       "989  First find how long it takes Emily to peel the...                   45   \n",
       "991  Bill saw the Comet for the second time when he...                   15   \n",
       "992  Once per month he writes a check to pay the el...                   52   \n",
       "996  If the combined age of the children is 20, the...                    3   \n",
       "\n",
       "     original_is_correct  original_conf  original_hr  \\\n",
       "20                  True            0.4          0.6   \n",
       "24                  True            0.8          1.0   \n",
       "35                  True            0.8          0.8   \n",
       "43                  True            0.6          0.6   \n",
       "70                  True            0.8          0.8   \n",
       "..                   ...            ...          ...   \n",
       "976                 True            0.6          0.6   \n",
       "989                 True            0.6          0.6   \n",
       "991                 True            0.6          0.6   \n",
       "992                 True            0.6          0.6   \n",
       "996                 True            0.6          0.6   \n",
       "\n",
       "                                           original_rp softsc_answer  \\\n",
       "20   [<|begin_of_text|><|start_header_id|>system<|e...         15.67   \n",
       "24   [<|begin_of_text|><|start_header_id|>system<|e...         26.05   \n",
       "35   [<|begin_of_text|><|start_header_id|>system<|e...            18   \n",
       "43   [<|begin_of_text|><|start_header_id|>system<|e...           240   \n",
       "70   [<|begin_of_text|><|start_header_id|>system<|e...          7455   \n",
       "..                                                 ...           ...   \n",
       "976  [<|begin_of_text|><|start_header_id|>system<|e...           555   \n",
       "989  [<|begin_of_text|><|start_header_id|>system<|e...            18   \n",
       "991  [<|begin_of_text|><|start_header_id|>system<|e...            75   \n",
       "992  [<|begin_of_text|><|start_header_id|>system<|e...            51   \n",
       "996  [<|begin_of_text|><|start_header_id|>system<|e...          8.66   \n",
       "\n",
       "     softsc_conf  \n",
       "20      0.811733  \n",
       "24      0.440844  \n",
       "35      0.976720  \n",
       "43      0.794087  \n",
       "70      0.462722  \n",
       "..           ...  \n",
       "976     0.675643  \n",
       "989     0.864748  \n",
       "991     0.999822  \n",
       "992     0.585993  \n",
       "996     0.998359  \n",
       "\n",
       "[104 rows x 9 columns]"
      ]
     },
     "execution_count": 11,
     "metadata": {},
     "output_type": "execute_result"
    }
   ],
   "source": [
    "df[(df['original_most_common'] != df['softsc_answer']) & (df['original_is_correct'] == True)]"
   ]
  },
  {
   "cell_type": "code",
   "execution_count": 62,
   "metadata": {},
   "outputs": [
    {
     "data": {
      "text/plain": [
       "0.829"
      ]
     },
     "execution_count": 62,
     "metadata": {},
     "output_type": "execute_result"
    }
   ],
   "source": [
    "df2['original_is_correct'].mean()"
   ]
  },
  {
   "cell_type": "code",
   "execution_count": 77,
   "metadata": {},
   "outputs": [
    {
     "data": {
      "text/plain": [
       "0.854"
      ]
     },
     "execution_count": 77,
     "metadata": {},
     "output_type": "execute_result"
    }
   ],
   "source": [
    "df3['original_is_correct'].mean()"
   ]
  },
  {
   "cell_type": "code",
   "execution_count": 100,
   "metadata": {},
   "outputs": [],
   "source": [
    "df = pd.read_pickle(\"inter_SC_beam_llama3_8b_gsm8k_10_5_2_interval_100.pkl\")\n",
    "df2 = pd.read_pickle(\"inter_SC_beam_llama3_8b_gsm8k_20_5_4_interval_100.pkl\")\n",
    "df3 = pd.read_pickle(\"inter_SC_beam_llama3_8b_gsm8k_20_10_2_interval_100.pkl\")"
   ]
  },
  {
   "cell_type": "code",
   "execution_count": 30,
   "metadata": {},
   "outputs": [],
   "source": [
    "#df = pd.read_pickle(\"inter_SC_beam_llama3_8b_gsm8k_10_5_2_interval_150.pkl\")\n",
    "df2 = pd.read_pickle(\"inter_SC_beam_llama3_8b_gsm8k_20_5_4_interval_150.pkl\")\n",
    "df3 = pd.read_pickle(\"inter_SC_beam_llama3_8b_gsm8k_20_10_2_interval_150.pkl\")"
   ]
  },
  {
   "cell_type": "code",
   "execution_count": 64,
   "metadata": {},
   "outputs": [
    {
     "data": {
      "text/plain": [
       "[\"<|begin_of_text|><|start_header_id|>system<|end_header_id|>\\n\\nYou are a methodical mathematician, adept at solving complex mathematical problems. Conclude your explanation with the answer in a '#### {numeric answer}' format, where the answer is solely a number.<|eot_id|><|start_header_id|>user<|end_header_id|>\\n\\nExample Problem example1: There are 15 trees in the grove. Grove workers will plant trees in the grove today. After they are done, there will be 21 trees. How many trees did the grove workers plant today?\\nAnswer: We start with 15 trees. Later we have 21 trees.The difference must be the number of trees they planted. So, they must have planted 21-15=6 trees.The answer is #### 6.<|eot_id|><|start_header_id|>user<|end_header_id|>\\n\\nExample Problem example2: If there are 3 cars in the parking lot and 2 more cars arrive, how many cars are in the parking lot?\\nAnswer: There are 3 cars in the parking lot already. 2 more arrive. Now there are 3 + 2 = 5 cars. The answer is #### 5.<|eot_id|><|start_header_id|>user<|end_header_id|>\\n\\nExample Problem example3: Leah had 32 chocolates and her sister had 42. If they ate 35, how many pieces do they have left in total?\\nAnswer: Leah had 32 chocolates and Leah’s sister had 42. That means there were originally 32 + 42 = 74 chocolates. 35 have been eaten. So in total they still have 74 - 35 = 39 chocolates. The answer is #### 39.<|eot_id|><|start_header_id|>user<|end_header_id|>\\n\\nExample Problem example4: Jason had 20 lollipops. He gave Denny some lollipops. Now Jason has 12 lollipops. How many lollipops did Jason give to Denny?\\nAnswer: Jason had 20 lollipops. Since he only has 12 now, he must have given the rest to Denny. The number of lollipops he has given to Denny must have been 20 - 12 = 8 lollipops. The answer is #### 8.<|eot_id|><|start_header_id|>user<|end_header_id|>\\n\\nExample Problem example5: Shawn has five toys. For Christmas, he got two toys each from his mom and dad. How many toys does he have now?\\nAnswer: He has 5 toys. He got 2 from mom, so after that he has 5 + 2 = 7 toys. Then he got 2 more from dad, so in total he has 7 + 2 = 9 toys. The answer is #### 9.<|eot_id|><|start_header_id|>user<|end_header_id|>\\n\\nExample Problem example6: There were nine computers in the server room. Five more computers were installed each day, from Monday to Thursday. How many computers are now in the server room?\\nAnswer: There are 4 days from Monday to Thursday. 5 computers were added each day. That means in total 4 * 5 = 20 computers were added. There were 9 computers in the beginning, so now there are 9 + 20 = 29 computers. The answer is #### 29.<|eot_id|><|start_header_id|>user<|end_header_id|>\\n\\nExample Problem example7: Michael had 58 golf balls. On Tuesday, he lost 23 golf balls. On Wednesday, he lost 2 more. How many golf balls did he have at the end of Wednesday?\\nAnswer: Michael initially had 58 balls. He lost 23 on Tuesday, so after that he has 58 - 23 = 35 balls. On Wednesday he lost 2 more so now he has 35 - 2 = 33 balls. The answer is #### 33.<|eot_id|><|start_header_id|>user<|end_header_id|>\\n\\nExample Problem example8: Olivia has $23. She bought five bagels for $3 each. How much money does she have left?\\nAnswer: She bought 5 bagels for $3 each. This means she spent 5 * $3 = $15 on the bagels. She had $23 in beginning, so now she has $23 - $15 = $8. The answer is #### 8.<|eot_id|><|start_header_id|>user<|end_header_id|>\\n\\nSolve the following mathematical problem: Josh decides to try flipping a house.  He buys a house for $80,000 and then puts in $50,000 in repairs.  This increased the value of the house by 150%.  How much profit did he make? Ensure your final answer is presented within the format '#### {numeric answer}'.<|eot_id|><|start_header_id|>assistant<|end_header_id|>\\n\\nLet's break it down step by step:\\n\\n1. Josh buys the house for $80,000.\\n2. He puts in $50,000 in repairs, which increases the value of the house.\\n3. The value of the house is increased by 150%, which means the new value is 150% of the original value.\\n\\nTo find the new value, multiply the original value by 1.5:\\n\\n$80,000 x 1.5 = $120,000\\n\\nSo, the new value of the house is $120,000.\\n\\n4. To find the profit, subtract the cost of the house and the repairs from the new value:\\n\\n$120,000 - $80,000 - $50,000 = $30,000\\n\\nJosh made a profit of $30,000.\\n\\nThe answer is #### 30000.\",\n",
       " \"<|begin_of_text|><|start_header_id|>system<|end_header_id|>\\n\\nYou are a methodical mathematician, adept at solving complex mathematical problems. Conclude your explanation with the answer in a '#### {numeric answer}' format, where the answer is solely a number.<|eot_id|><|start_header_id|>user<|end_header_id|>\\n\\nExample Problem example1: There are 15 trees in the grove. Grove workers will plant trees in the grove today. After they are done, there will be 21 trees. How many trees did the grove workers plant today?\\nAnswer: We start with 15 trees. Later we have 21 trees.The difference must be the number of trees they planted. So, they must have planted 21-15=6 trees.The answer is #### 6.<|eot_id|><|start_header_id|>user<|end_header_id|>\\n\\nExample Problem example2: If there are 3 cars in the parking lot and 2 more cars arrive, how many cars are in the parking lot?\\nAnswer: There are 3 cars in the parking lot already. 2 more arrive. Now there are 3 + 2 = 5 cars. The answer is #### 5.<|eot_id|><|start_header_id|>user<|end_header_id|>\\n\\nExample Problem example3: Leah had 32 chocolates and her sister had 42. If they ate 35, how many pieces do they have left in total?\\nAnswer: Leah had 32 chocolates and Leah’s sister had 42. That means there were originally 32 + 42 = 74 chocolates. 35 have been eaten. So in total they still have 74 - 35 = 39 chocolates. The answer is #### 39.<|eot_id|><|start_header_id|>user<|end_header_id|>\\n\\nExample Problem example4: Jason had 20 lollipops. He gave Denny some lollipops. Now Jason has 12 lollipops. How many lollipops did Jason give to Denny?\\nAnswer: Jason had 20 lollipops. Since he only has 12 now, he must have given the rest to Denny. The number of lollipops he has given to Denny must have been 20 - 12 = 8 lollipops. The answer is #### 8.<|eot_id|><|start_header_id|>user<|end_header_id|>\\n\\nExample Problem example5: Shawn has five toys. For Christmas, he got two toys each from his mom and dad. How many toys does he have now?\\nAnswer: He has 5 toys. He got 2 from mom, so after that he has 5 + 2 = 7 toys. Then he got 2 more from dad, so in total he has 7 + 2 = 9 toys. The answer is #### 9.<|eot_id|><|start_header_id|>user<|end_header_id|>\\n\\nExample Problem example6: There were nine computers in the server room. Five more computers were installed each day, from Monday to Thursday. How many computers are now in the server room?\\nAnswer: There are 4 days from Monday to Thursday. 5 computers were added each day. That means in total 4 * 5 = 20 computers were added. There were 9 computers in the beginning, so now there are 9 + 20 = 29 computers. The answer is #### 29.<|eot_id|><|start_header_id|>user<|end_header_id|>\\n\\nExample Problem example7: Michael had 58 golf balls. On Tuesday, he lost 23 golf balls. On Wednesday, he lost 2 more. How many golf balls did he have at the end of Wednesday?\\nAnswer: Michael initially had 58 balls. He lost 23 on Tuesday, so after that he has 58 - 23 = 35 balls. On Wednesday he lost 2 more so now he has 35 - 2 = 33 balls. The answer is #### 33.<|eot_id|><|start_header_id|>user<|end_header_id|>\\n\\nExample Problem example8: Olivia has $23. She bought five bagels for $3 each. How much money does she have left?\\nAnswer: She bought 5 bagels for $3 each. This means she spent 5 * $3 = $15 on the bagels. She had $23 in beginning, so now she has $23 - $15 = $8. The answer is #### 8.<|eot_id|><|start_header_id|>user<|end_header_id|>\\n\\nSolve the following mathematical problem: Josh decides to try flipping a house.  He buys a house for $80,000 and then puts in $50,000 in repairs.  This increased the value of the house by 150%.  How much profit did he make? Ensure your final answer is presented within the format '#### {numeric answer}'.<|eot_id|><|start_header_id|>assistant<|end_header_id|>\\n\\nLet's break it down step by step:\\n\\n1. Josh buys the house for $80,000.\\n2. He puts in $50,000 in repairs, which increases the value of the house.\\n3. The value of the house is increased by 150%, which means the new value is 150% of the original value.\\n\\nTo find the new value, multiply the original value by 1.5:\\n\\n$80,000 x 1.5 = $120,000\\n\\nSo, the new value of the house is $120,000.\\n\\n4. To find the profit, subtract the cost of the house and the repairs from the new value:\\n\\n$120,000 - $80,000 - $50,000 = $30,000\\n\\nJosh made a profit of $30,000.\\n\\nThe answer is #### 30000.\",\n",
       " \"<|begin_of_text|><|start_header_id|>system<|end_header_id|>\\n\\nYou are a methodical mathematician, adept at solving complex mathematical problems. Conclude your explanation with the answer in a '#### {numeric answer}' format, where the answer is solely a number.<|eot_id|><|start_header_id|>user<|end_header_id|>\\n\\nExample Problem example1: There are 15 trees in the grove. Grove workers will plant trees in the grove today. After they are done, there will be 21 trees. How many trees did the grove workers plant today?\\nAnswer: We start with 15 trees. Later we have 21 trees.The difference must be the number of trees they planted. So, they must have planted 21-15=6 trees.The answer is #### 6.<|eot_id|><|start_header_id|>user<|end_header_id|>\\n\\nExample Problem example2: If there are 3 cars in the parking lot and 2 more cars arrive, how many cars are in the parking lot?\\nAnswer: There are 3 cars in the parking lot already. 2 more arrive. Now there are 3 + 2 = 5 cars. The answer is #### 5.<|eot_id|><|start_header_id|>user<|end_header_id|>\\n\\nExample Problem example3: Leah had 32 chocolates and her sister had 42. If they ate 35, how many pieces do they have left in total?\\nAnswer: Leah had 32 chocolates and Leah’s sister had 42. That means there were originally 32 + 42 = 74 chocolates. 35 have been eaten. So in total they still have 74 - 35 = 39 chocolates. The answer is #### 39.<|eot_id|><|start_header_id|>user<|end_header_id|>\\n\\nExample Problem example4: Jason had 20 lollipops. He gave Denny some lollipops. Now Jason has 12 lollipops. How many lollipops did Jason give to Denny?\\nAnswer: Jason had 20 lollipops. Since he only has 12 now, he must have given the rest to Denny. The number of lollipops he has given to Denny must have been 20 - 12 = 8 lollipops. The answer is #### 8.<|eot_id|><|start_header_id|>user<|end_header_id|>\\n\\nExample Problem example5: Shawn has five toys. For Christmas, he got two toys each from his mom and dad. How many toys does he have now?\\nAnswer: He has 5 toys. He got 2 from mom, so after that he has 5 + 2 = 7 toys. Then he got 2 more from dad, so in total he has 7 + 2 = 9 toys. The answer is #### 9.<|eot_id|><|start_header_id|>user<|end_header_id|>\\n\\nExample Problem example6: There were nine computers in the server room. Five more computers were installed each day, from Monday to Thursday. How many computers are now in the server room?\\nAnswer: There are 4 days from Monday to Thursday. 5 computers were added each day. That means in total 4 * 5 = 20 computers were added. There were 9 computers in the beginning, so now there are 9 + 20 = 29 computers. The answer is #### 29.<|eot_id|><|start_header_id|>user<|end_header_id|>\\n\\nExample Problem example7: Michael had 58 golf balls. On Tuesday, he lost 23 golf balls. On Wednesday, he lost 2 more. How many golf balls did he have at the end of Wednesday?\\nAnswer: Michael initially had 58 balls. He lost 23 on Tuesday, so after that he has 58 - 23 = 35 balls. On Wednesday he lost 2 more so now he has 35 - 2 = 33 balls. The answer is #### 33.<|eot_id|><|start_header_id|>user<|end_header_id|>\\n\\nExample Problem example8: Olivia has $23. She bought five bagels for $3 each. How much money does she have left?\\nAnswer: She bought 5 bagels for $3 each. This means she spent 5 * $3 = $15 on the bagels. She had $23 in beginning, so now she has $23 - $15 = $8. The answer is #### 8.<|eot_id|><|start_header_id|>user<|end_header_id|>\\n\\nSolve the following mathematical problem: Josh decides to try flipping a house.  He buys a house for $80,000 and then puts in $50,000 in repairs.  This increased the value of the house by 150%.  How much profit did he make? Ensure your final answer is presented within the format '#### {numeric answer}'.<|eot_id|><|start_header_id|>assistant<|end_header_id|>\\n\\nLet's break it down step by step:\\n\\n1. Josh buys the house for $80,000.\\n2. He puts in $50,000 in repairs, which increases the value of the house.\\n3. The value of the house is increased by 150%, which means the new value is 150% of the original value.\\n\\nTo find the new value, multiply the original value by 1.5:\\n\\n$80,000 x 1.5 = $120,000\\n\\nSo, the new value of the house is $120,000.\\n\\n4. To find the profit, subtract the cost of the house and the repairs from the new value:\\n\\n$120,000 - $80,000 - $50,000 = $30,000\\n\\nJosh made a profit of $30,000.\\n\\nThe answer is #### 30000.\",\n",
       " \"<|begin_of_text|><|start_header_id|>system<|end_header_id|>\\n\\nYou are a methodical mathematician, adept at solving complex mathematical problems. Conclude your explanation with the answer in a '#### {numeric answer}' format, where the answer is solely a number.<|eot_id|><|start_header_id|>user<|end_header_id|>\\n\\nExample Problem example1: There are 15 trees in the grove. Grove workers will plant trees in the grove today. After they are done, there will be 21 trees. How many trees did the grove workers plant today?\\nAnswer: We start with 15 trees. Later we have 21 trees.The difference must be the number of trees they planted. So, they must have planted 21-15=6 trees.The answer is #### 6.<|eot_id|><|start_header_id|>user<|end_header_id|>\\n\\nExample Problem example2: If there are 3 cars in the parking lot and 2 more cars arrive, how many cars are in the parking lot?\\nAnswer: There are 3 cars in the parking lot already. 2 more arrive. Now there are 3 + 2 = 5 cars. The answer is #### 5.<|eot_id|><|start_header_id|>user<|end_header_id|>\\n\\nExample Problem example3: Leah had 32 chocolates and her sister had 42. If they ate 35, how many pieces do they have left in total?\\nAnswer: Leah had 32 chocolates and Leah’s sister had 42. That means there were originally 32 + 42 = 74 chocolates. 35 have been eaten. So in total they still have 74 - 35 = 39 chocolates. The answer is #### 39.<|eot_id|><|start_header_id|>user<|end_header_id|>\\n\\nExample Problem example4: Jason had 20 lollipops. He gave Denny some lollipops. Now Jason has 12 lollipops. How many lollipops did Jason give to Denny?\\nAnswer: Jason had 20 lollipops. Since he only has 12 now, he must have given the rest to Denny. The number of lollipops he has given to Denny must have been 20 - 12 = 8 lollipops. The answer is #### 8.<|eot_id|><|start_header_id|>user<|end_header_id|>\\n\\nExample Problem example5: Shawn has five toys. For Christmas, he got two toys each from his mom and dad. How many toys does he have now?\\nAnswer: He has 5 toys. He got 2 from mom, so after that he has 5 + 2 = 7 toys. Then he got 2 more from dad, so in total he has 7 + 2 = 9 toys. The answer is #### 9.<|eot_id|><|start_header_id|>user<|end_header_id|>\\n\\nExample Problem example6: There were nine computers in the server room. Five more computers were installed each day, from Monday to Thursday. How many computers are now in the server room?\\nAnswer: There are 4 days from Monday to Thursday. 5 computers were added each day. That means in total 4 * 5 = 20 computers were added. There were 9 computers in the beginning, so now there are 9 + 20 = 29 computers. The answer is #### 29.<|eot_id|><|start_header_id|>user<|end_header_id|>\\n\\nExample Problem example7: Michael had 58 golf balls. On Tuesday, he lost 23 golf balls. On Wednesday, he lost 2 more. How many golf balls did he have at the end of Wednesday?\\nAnswer: Michael initially had 58 balls. He lost 23 on Tuesday, so after that he has 58 - 23 = 35 balls. On Wednesday he lost 2 more so now he has 35 - 2 = 33 balls. The answer is #### 33.<|eot_id|><|start_header_id|>user<|end_header_id|>\\n\\nExample Problem example8: Olivia has $23. She bought five bagels for $3 each. How much money does she have left?\\nAnswer: She bought 5 bagels for $3 each. This means she spent 5 * $3 = $15 on the bagels. She had $23 in beginning, so now she has $23 - $15 = $8. The answer is #### 8.<|eot_id|><|start_header_id|>user<|end_header_id|>\\n\\nSolve the following mathematical problem: Josh decides to try flipping a house.  He buys a house for $80,000 and then puts in $50,000 in repairs.  This increased the value of the house by 150%.  How much profit did he make? Ensure your final answer is presented within the format '#### {numeric answer}'.<|eot_id|><|start_header_id|>assistant<|end_header_id|>\\n\\nLet's break it down step by step:\\n\\n1. Josh buys a house for $80,000.\\n2. He puts in $50,000 in repairs, which increases the value of the house.\\n3. The value of the house increases by 150%, which means the new value is 150% of the original value.\\n\\nTo find the new value, multiply the original value by 1.5 (150% is the same as 1.5):\\n\\n$80,000 x 1.5 = $120,000\\n\\nSo, the new value of the house is $120,000.\\n\\n4. To find the profit, subtract the cost of the house and repairs from the new value:\\n\\n$120,000 - $80,000 - $50,000 = $30,000\\n\\nJosh made a profit of $30,000.\\n\\nThe answer is #### 30000.\",\n",
       " \"<|begin_of_text|><|start_header_id|>system<|end_header_id|>\\n\\nYou are a methodical mathematician, adept at solving complex mathematical problems. Conclude your explanation with the answer in a '#### {numeric answer}' format, where the answer is solely a number.<|eot_id|><|start_header_id|>user<|end_header_id|>\\n\\nExample Problem example1: There are 15 trees in the grove. Grove workers will plant trees in the grove today. After they are done, there will be 21 trees. How many trees did the grove workers plant today?\\nAnswer: We start with 15 trees. Later we have 21 trees.The difference must be the number of trees they planted. So, they must have planted 21-15=6 trees.The answer is #### 6.<|eot_id|><|start_header_id|>user<|end_header_id|>\\n\\nExample Problem example2: If there are 3 cars in the parking lot and 2 more cars arrive, how many cars are in the parking lot?\\nAnswer: There are 3 cars in the parking lot already. 2 more arrive. Now there are 3 + 2 = 5 cars. The answer is #### 5.<|eot_id|><|start_header_id|>user<|end_header_id|>\\n\\nExample Problem example3: Leah had 32 chocolates and her sister had 42. If they ate 35, how many pieces do they have left in total?\\nAnswer: Leah had 32 chocolates and Leah’s sister had 42. That means there were originally 32 + 42 = 74 chocolates. 35 have been eaten. So in total they still have 74 - 35 = 39 chocolates. The answer is #### 39.<|eot_id|><|start_header_id|>user<|end_header_id|>\\n\\nExample Problem example4: Jason had 20 lollipops. He gave Denny some lollipops. Now Jason has 12 lollipops. How many lollipops did Jason give to Denny?\\nAnswer: Jason had 20 lollipops. Since he only has 12 now, he must have given the rest to Denny. The number of lollipops he has given to Denny must have been 20 - 12 = 8 lollipops. The answer is #### 8.<|eot_id|><|start_header_id|>user<|end_header_id|>\\n\\nExample Problem example5: Shawn has five toys. For Christmas, he got two toys each from his mom and dad. How many toys does he have now?\\nAnswer: He has 5 toys. He got 2 from mom, so after that he has 5 + 2 = 7 toys. Then he got 2 more from dad, so in total he has 7 + 2 = 9 toys. The answer is #### 9.<|eot_id|><|start_header_id|>user<|end_header_id|>\\n\\nExample Problem example6: There were nine computers in the server room. Five more computers were installed each day, from Monday to Thursday. How many computers are now in the server room?\\nAnswer: There are 4 days from Monday to Thursday. 5 computers were added each day. That means in total 4 * 5 = 20 computers were added. There were 9 computers in the beginning, so now there are 9 + 20 = 29 computers. The answer is #### 29.<|eot_id|><|start_header_id|>user<|end_header_id|>\\n\\nExample Problem example7: Michael had 58 golf balls. On Tuesday, he lost 23 golf balls. On Wednesday, he lost 2 more. How many golf balls did he have at the end of Wednesday?\\nAnswer: Michael initially had 58 balls. He lost 23 on Tuesday, so after that he has 58 - 23 = 35 balls. On Wednesday he lost 2 more so now he has 35 - 2 = 33 balls. The answer is #### 33.<|eot_id|><|start_header_id|>user<|end_header_id|>\\n\\nExample Problem example8: Olivia has $23. She bought five bagels for $3 each. How much money does she have left?\\nAnswer: She bought 5 bagels for $3 each. This means she spent 5 * $3 = $15 on the bagels. She had $23 in beginning, so now she has $23 - $15 = $8. The answer is #### 8.<|eot_id|><|start_header_id|>user<|end_header_id|>\\n\\nSolve the following mathematical problem: Josh decides to try flipping a house.  He buys a house for $80,000 and then puts in $50,000 in repairs.  This increased the value of the house by 150%.  How much profit did he make? Ensure your final answer is presented within the format '#### {numeric answer}'.<|eot_id|><|start_header_id|>assistant<|end_header_id|>\\n\\nLet's break it down step by step:\\n\\n1. Josh buys a house for $80,000.\\n2. He puts in $50,000 in repairs, which increases the value of the house.\\n3. The value of the house increases by 150%, which means the new value is 150% of the original value.\\n\\nTo find the new value, multiply the original value by 1.5 (150% is the same as 1.5):\\n\\n$80,000 x 1.5 = $120,000\\n\\nSo, the new value of the house is $120,000.\\n\\n4. To find the profit, subtract the cost of the house and repairs from the new value:\\n\\n$120,000 - $80,000 - $50,000 = $30,000\\n\\nJosh made a profit of $30,000.\\n\\nThe answer is #### 30000.\",\n",
       " \"<|begin_of_text|><|start_header_id|>system<|end_header_id|>\\n\\nYou are a methodical mathematician, adept at solving complex mathematical problems. Conclude your explanation with the answer in a '#### {numeric answer}' format, where the answer is solely a number.<|eot_id|><|start_header_id|>user<|end_header_id|>\\n\\nExample Problem example1: There are 15 trees in the grove. Grove workers will plant trees in the grove today. After they are done, there will be 21 trees. How many trees did the grove workers plant today?\\nAnswer: We start with 15 trees. Later we have 21 trees.The difference must be the number of trees they planted. So, they must have planted 21-15=6 trees.The answer is #### 6.<|eot_id|><|start_header_id|>user<|end_header_id|>\\n\\nExample Problem example2: If there are 3 cars in the parking lot and 2 more cars arrive, how many cars are in the parking lot?\\nAnswer: There are 3 cars in the parking lot already. 2 more arrive. Now there are 3 + 2 = 5 cars. The answer is #### 5.<|eot_id|><|start_header_id|>user<|end_header_id|>\\n\\nExample Problem example3: Leah had 32 chocolates and her sister had 42. If they ate 35, how many pieces do they have left in total?\\nAnswer: Leah had 32 chocolates and Leah’s sister had 42. That means there were originally 32 + 42 = 74 chocolates. 35 have been eaten. So in total they still have 74 - 35 = 39 chocolates. The answer is #### 39.<|eot_id|><|start_header_id|>user<|end_header_id|>\\n\\nExample Problem example4: Jason had 20 lollipops. He gave Denny some lollipops. Now Jason has 12 lollipops. How many lollipops did Jason give to Denny?\\nAnswer: Jason had 20 lollipops. Since he only has 12 now, he must have given the rest to Denny. The number of lollipops he has given to Denny must have been 20 - 12 = 8 lollipops. The answer is #### 8.<|eot_id|><|start_header_id|>user<|end_header_id|>\\n\\nExample Problem example5: Shawn has five toys. For Christmas, he got two toys each from his mom and dad. How many toys does he have now?\\nAnswer: He has 5 toys. He got 2 from mom, so after that he has 5 + 2 = 7 toys. Then he got 2 more from dad, so in total he has 7 + 2 = 9 toys. The answer is #### 9.<|eot_id|><|start_header_id|>user<|end_header_id|>\\n\\nExample Problem example6: There were nine computers in the server room. Five more computers were installed each day, from Monday to Thursday. How many computers are now in the server room?\\nAnswer: There are 4 days from Monday to Thursday. 5 computers were added each day. That means in total 4 * 5 = 20 computers were added. There were 9 computers in the beginning, so now there are 9 + 20 = 29 computers. The answer is #### 29.<|eot_id|><|start_header_id|>user<|end_header_id|>\\n\\nExample Problem example7: Michael had 58 golf balls. On Tuesday, he lost 23 golf balls. On Wednesday, he lost 2 more. How many golf balls did he have at the end of Wednesday?\\nAnswer: Michael initially had 58 balls. He lost 23 on Tuesday, so after that he has 58 - 23 = 35 balls. On Wednesday he lost 2 more so now he has 35 - 2 = 33 balls. The answer is #### 33.<|eot_id|><|start_header_id|>user<|end_header_id|>\\n\\nExample Problem example8: Olivia has $23. She bought five bagels for $3 each. How much money does she have left?\\nAnswer: She bought 5 bagels for $3 each. This means she spent 5 * $3 = $15 on the bagels. She had $23 in beginning, so now she has $23 - $15 = $8. The answer is #### 8.<|eot_id|><|start_header_id|>user<|end_header_id|>\\n\\nSolve the following mathematical problem: Josh decides to try flipping a house.  He buys a house for $80,000 and then puts in $50,000 in repairs.  This increased the value of the house by 150%.  How much profit did he make? Ensure your final answer is presented within the format '#### {numeric answer}'.<|eot_id|><|start_header_id|>assistant<|end_header_id|>\\n\\nLet's break it down step by step:\\n\\n1. Josh buys a house for $80,000.\\n2. He puts in $50,000 in repairs, which increases the value of the house.\\n3. The value of the house increases by 150%, which means the new value is 150% of the original value.\\n\\nTo find the new value, multiply the original value by 1.5 (150% is the same as 1.5):\\n\\n$80,000 x 1.5 = $120,000\\n\\nSo, the new value of the house is $120,000.\\n\\n4. To find the profit, subtract the cost of the house and repairs from the new value:\\n\\n$120,000 - $80,000 - $50,000 = $30,000\\n\\nJosh made a profit of $30,000.\\n\\nThe answer is #### 30000.\",\n",
       " \"<|begin_of_text|><|start_header_id|>system<|end_header_id|>\\n\\nYou are a methodical mathematician, adept at solving complex mathematical problems. Conclude your explanation with the answer in a '#### {numeric answer}' format, where the answer is solely a number.<|eot_id|><|start_header_id|>user<|end_header_id|>\\n\\nExample Problem example1: There are 15 trees in the grove. Grove workers will plant trees in the grove today. After they are done, there will be 21 trees. How many trees did the grove workers plant today?\\nAnswer: We start with 15 trees. Later we have 21 trees.The difference must be the number of trees they planted. So, they must have planted 21-15=6 trees.The answer is #### 6.<|eot_id|><|start_header_id|>user<|end_header_id|>\\n\\nExample Problem example2: If there are 3 cars in the parking lot and 2 more cars arrive, how many cars are in the parking lot?\\nAnswer: There are 3 cars in the parking lot already. 2 more arrive. Now there are 3 + 2 = 5 cars. The answer is #### 5.<|eot_id|><|start_header_id|>user<|end_header_id|>\\n\\nExample Problem example3: Leah had 32 chocolates and her sister had 42. If they ate 35, how many pieces do they have left in total?\\nAnswer: Leah had 32 chocolates and Leah’s sister had 42. That means there were originally 32 + 42 = 74 chocolates. 35 have been eaten. So in total they still have 74 - 35 = 39 chocolates. The answer is #### 39.<|eot_id|><|start_header_id|>user<|end_header_id|>\\n\\nExample Problem example4: Jason had 20 lollipops. He gave Denny some lollipops. Now Jason has 12 lollipops. How many lollipops did Jason give to Denny?\\nAnswer: Jason had 20 lollipops. Since he only has 12 now, he must have given the rest to Denny. The number of lollipops he has given to Denny must have been 20 - 12 = 8 lollipops. The answer is #### 8.<|eot_id|><|start_header_id|>user<|end_header_id|>\\n\\nExample Problem example5: Shawn has five toys. For Christmas, he got two toys each from his mom and dad. How many toys does he have now?\\nAnswer: He has 5 toys. He got 2 from mom, so after that he has 5 + 2 = 7 toys. Then he got 2 more from dad, so in total he has 7 + 2 = 9 toys. The answer is #### 9.<|eot_id|><|start_header_id|>user<|end_header_id|>\\n\\nExample Problem example6: There were nine computers in the server room. Five more computers were installed each day, from Monday to Thursday. How many computers are now in the server room?\\nAnswer: There are 4 days from Monday to Thursday. 5 computers were added each day. That means in total 4 * 5 = 20 computers were added. There were 9 computers in the beginning, so now there are 9 + 20 = 29 computers. The answer is #### 29.<|eot_id|><|start_header_id|>user<|end_header_id|>\\n\\nExample Problem example7: Michael had 58 golf balls. On Tuesday, he lost 23 golf balls. On Wednesday, he lost 2 more. How many golf balls did he have at the end of Wednesday?\\nAnswer: Michael initially had 58 balls. He lost 23 on Tuesday, so after that he has 58 - 23 = 35 balls. On Wednesday he lost 2 more so now he has 35 - 2 = 33 balls. The answer is #### 33.<|eot_id|><|start_header_id|>user<|end_header_id|>\\n\\nExample Problem example8: Olivia has $23. She bought five bagels for $3 each. How much money does she have left?\\nAnswer: She bought 5 bagels for $3 each. This means she spent 5 * $3 = $15 on the bagels. She had $23 in beginning, so now she has $23 - $15 = $8. The answer is #### 8.<|eot_id|><|start_header_id|>user<|end_header_id|>\\n\\nSolve the following mathematical problem: Josh decides to try flipping a house.  He buys a house for $80,000 and then puts in $50,000 in repairs.  This increased the value of the house by 150%.  How much profit did he make? Ensure your final answer is presented within the format '#### {numeric answer}'.<|eot_id|><|start_header_id|>assistant<|end_header_id|>\\n\\nLet's break it down step by step:\\n\\n1. Josh buys the house for $80,000.\\n2. He puts in $50,000 in repairs, which increases the value of the house by 150%.\\n3. To find the new value of the house, we can calculate 150% of the original value: 150% of $80,000 = 1.5 x $80,000 = $120,000\\n4. Since the repairs increased the value by 150%, the new value of the house is $120,000.\\n5. To find the profit, we subtract the cost of the house and the repairs from the new value: $120,000 - $80,000 - $50,000 = $30,000\\n\\nThe answer is #### 30000.\",\n",
       " \"<|begin_of_text|><|start_header_id|>system<|end_header_id|>\\n\\nYou are a methodical mathematician, adept at solving complex mathematical problems. Conclude your explanation with the answer in a '#### {numeric answer}' format, where the answer is solely a number.<|eot_id|><|start_header_id|>user<|end_header_id|>\\n\\nExample Problem example1: There are 15 trees in the grove. Grove workers will plant trees in the grove today. After they are done, there will be 21 trees. How many trees did the grove workers plant today?\\nAnswer: We start with 15 trees. Later we have 21 trees.The difference must be the number of trees they planted. So, they must have planted 21-15=6 trees.The answer is #### 6.<|eot_id|><|start_header_id|>user<|end_header_id|>\\n\\nExample Problem example2: If there are 3 cars in the parking lot and 2 more cars arrive, how many cars are in the parking lot?\\nAnswer: There are 3 cars in the parking lot already. 2 more arrive. Now there are 3 + 2 = 5 cars. The answer is #### 5.<|eot_id|><|start_header_id|>user<|end_header_id|>\\n\\nExample Problem example3: Leah had 32 chocolates and her sister had 42. If they ate 35, how many pieces do they have left in total?\\nAnswer: Leah had 32 chocolates and Leah’s sister had 42. That means there were originally 32 + 42 = 74 chocolates. 35 have been eaten. So in total they still have 74 - 35 = 39 chocolates. The answer is #### 39.<|eot_id|><|start_header_id|>user<|end_header_id|>\\n\\nExample Problem example4: Jason had 20 lollipops. He gave Denny some lollipops. Now Jason has 12 lollipops. How many lollipops did Jason give to Denny?\\nAnswer: Jason had 20 lollipops. Since he only has 12 now, he must have given the rest to Denny. The number of lollipops he has given to Denny must have been 20 - 12 = 8 lollipops. The answer is #### 8.<|eot_id|><|start_header_id|>user<|end_header_id|>\\n\\nExample Problem example5: Shawn has five toys. For Christmas, he got two toys each from his mom and dad. How many toys does he have now?\\nAnswer: He has 5 toys. He got 2 from mom, so after that he has 5 + 2 = 7 toys. Then he got 2 more from dad, so in total he has 7 + 2 = 9 toys. The answer is #### 9.<|eot_id|><|start_header_id|>user<|end_header_id|>\\n\\nExample Problem example6: There were nine computers in the server room. Five more computers were installed each day, from Monday to Thursday. How many computers are now in the server room?\\nAnswer: There are 4 days from Monday to Thursday. 5 computers were added each day. That means in total 4 * 5 = 20 computers were added. There were 9 computers in the beginning, so now there are 9 + 20 = 29 computers. The answer is #### 29.<|eot_id|><|start_header_id|>user<|end_header_id|>\\n\\nExample Problem example7: Michael had 58 golf balls. On Tuesday, he lost 23 golf balls. On Wednesday, he lost 2 more. How many golf balls did he have at the end of Wednesday?\\nAnswer: Michael initially had 58 balls. He lost 23 on Tuesday, so after that he has 58 - 23 = 35 balls. On Wednesday he lost 2 more so now he has 35 - 2 = 33 balls. The answer is #### 33.<|eot_id|><|start_header_id|>user<|end_header_id|>\\n\\nExample Problem example8: Olivia has $23. She bought five bagels for $3 each. How much money does she have left?\\nAnswer: She bought 5 bagels for $3 each. This means she spent 5 * $3 = $15 on the bagels. She had $23 in beginning, so now she has $23 - $15 = $8. The answer is #### 8.<|eot_id|><|start_header_id|>user<|end_header_id|>\\n\\nSolve the following mathematical problem: Josh decides to try flipping a house.  He buys a house for $80,000 and then puts in $50,000 in repairs.  This increased the value of the house by 150%.  How much profit did he make? Ensure your final answer is presented within the format '#### {numeric answer}'.<|eot_id|><|start_header_id|>assistant<|end_header_id|>\\n\\nLet's break it down step by step:\\n\\n1. Josh buys the house for $80,000.\\n2. He puts in $50,000 in repairs, which increases the value of the house by 150%.\\n3. To find the new value of the house, we can calculate 150% of the original value: 150% of $80,000 = 1.5 x $80,000 = $120,000\\n4. Since the repairs increased the value by 150%, the new value of the house is $120,000.\\n5. To find the profit, we subtract the cost of the house and the repairs from the new value: $120,000 - $80,000 - $50,000 = $30,000\\n\\nThe answer is #### 30000.\",\n",
       " \"<|begin_of_text|><|start_header_id|>system<|end_header_id|>\\n\\nYou are a methodical mathematician, adept at solving complex mathematical problems. Conclude your explanation with the answer in a '#### {numeric answer}' format, where the answer is solely a number.<|eot_id|><|start_header_id|>user<|end_header_id|>\\n\\nExample Problem example1: There are 15 trees in the grove. Grove workers will plant trees in the grove today. After they are done, there will be 21 trees. How many trees did the grove workers plant today?\\nAnswer: We start with 15 trees. Later we have 21 trees.The difference must be the number of trees they planted. So, they must have planted 21-15=6 trees.The answer is #### 6.<|eot_id|><|start_header_id|>user<|end_header_id|>\\n\\nExample Problem example2: If there are 3 cars in the parking lot and 2 more cars arrive, how many cars are in the parking lot?\\nAnswer: There are 3 cars in the parking lot already. 2 more arrive. Now there are 3 + 2 = 5 cars. The answer is #### 5.<|eot_id|><|start_header_id|>user<|end_header_id|>\\n\\nExample Problem example3: Leah had 32 chocolates and her sister had 42. If they ate 35, how many pieces do they have left in total?\\nAnswer: Leah had 32 chocolates and Leah’s sister had 42. That means there were originally 32 + 42 = 74 chocolates. 35 have been eaten. So in total they still have 74 - 35 = 39 chocolates. The answer is #### 39.<|eot_id|><|start_header_id|>user<|end_header_id|>\\n\\nExample Problem example4: Jason had 20 lollipops. He gave Denny some lollipops. Now Jason has 12 lollipops. How many lollipops did Jason give to Denny?\\nAnswer: Jason had 20 lollipops. Since he only has 12 now, he must have given the rest to Denny. The number of lollipops he has given to Denny must have been 20 - 12 = 8 lollipops. The answer is #### 8.<|eot_id|><|start_header_id|>user<|end_header_id|>\\n\\nExample Problem example5: Shawn has five toys. For Christmas, he got two toys each from his mom and dad. How many toys does he have now?\\nAnswer: He has 5 toys. He got 2 from mom, so after that he has 5 + 2 = 7 toys. Then he got 2 more from dad, so in total he has 7 + 2 = 9 toys. The answer is #### 9.<|eot_id|><|start_header_id|>user<|end_header_id|>\\n\\nExample Problem example6: There were nine computers in the server room. Five more computers were installed each day, from Monday to Thursday. How many computers are now in the server room?\\nAnswer: There are 4 days from Monday to Thursday. 5 computers were added each day. That means in total 4 * 5 = 20 computers were added. There were 9 computers in the beginning, so now there are 9 + 20 = 29 computers. The answer is #### 29.<|eot_id|><|start_header_id|>user<|end_header_id|>\\n\\nExample Problem example7: Michael had 58 golf balls. On Tuesday, he lost 23 golf balls. On Wednesday, he lost 2 more. How many golf balls did he have at the end of Wednesday?\\nAnswer: Michael initially had 58 balls. He lost 23 on Tuesday, so after that he has 58 - 23 = 35 balls. On Wednesday he lost 2 more so now he has 35 - 2 = 33 balls. The answer is #### 33.<|eot_id|><|start_header_id|>user<|end_header_id|>\\n\\nExample Problem example8: Olivia has $23. She bought five bagels for $3 each. How much money does she have left?\\nAnswer: She bought 5 bagels for $3 each. This means she spent 5 * $3 = $15 on the bagels. She had $23 in beginning, so now she has $23 - $15 = $8. The answer is #### 8.<|eot_id|><|start_header_id|>user<|end_header_id|>\\n\\nSolve the following mathematical problem: Josh decides to try flipping a house.  He buys a house for $80,000 and then puts in $50,000 in repairs.  This increased the value of the house by 150%.  How much profit did he make? Ensure your final answer is presented within the format '#### {numeric answer}'.<|eot_id|><|start_header_id|>assistant<|end_header_id|>\\n\\nLet's break it down step by step:\\n\\n1. Josh buys the house for $80,000.\\n2. He puts in $50,000 in repairs, which increases the value of the house by 150%.\\n3. To find the new value of the house, we can calculate 150% of the original value: 150% of $80,000 = 1.5 x $80,000 = $120,000\\n4. Since the repairs increased the value by 150%, the new value of the house is $120,000.\\n5. To find the profit, we subtract the cost of the house and the repairs from the new value: $120,000 - $80,000 - $50,000 = $30,000\\n\\nThe answer is #### 30000.\",\n",
       " \"<|begin_of_text|><|start_header_id|>system<|end_header_id|>\\n\\nYou are a methodical mathematician, adept at solving complex mathematical problems. Conclude your explanation with the answer in a '#### {numeric answer}' format, where the answer is solely a number.<|eot_id|><|start_header_id|>user<|end_header_id|>\\n\\nExample Problem example1: There are 15 trees in the grove. Grove workers will plant trees in the grove today. After they are done, there will be 21 trees. How many trees did the grove workers plant today?\\nAnswer: We start with 15 trees. Later we have 21 trees.The difference must be the number of trees they planted. So, they must have planted 21-15=6 trees.The answer is #### 6.<|eot_id|><|start_header_id|>user<|end_header_id|>\\n\\nExample Problem example2: If there are 3 cars in the parking lot and 2 more cars arrive, how many cars are in the parking lot?\\nAnswer: There are 3 cars in the parking lot already. 2 more arrive. Now there are 3 + 2 = 5 cars. The answer is #### 5.<|eot_id|><|start_header_id|>user<|end_header_id|>\\n\\nExample Problem example3: Leah had 32 chocolates and her sister had 42. If they ate 35, how many pieces do they have left in total?\\nAnswer: Leah had 32 chocolates and Leah’s sister had 42. That means there were originally 32 + 42 = 74 chocolates. 35 have been eaten. So in total they still have 74 - 35 = 39 chocolates. The answer is #### 39.<|eot_id|><|start_header_id|>user<|end_header_id|>\\n\\nExample Problem example4: Jason had 20 lollipops. He gave Denny some lollipops. Now Jason has 12 lollipops. How many lollipops did Jason give to Denny?\\nAnswer: Jason had 20 lollipops. Since he only has 12 now, he must have given the rest to Denny. The number of lollipops he has given to Denny must have been 20 - 12 = 8 lollipops. The answer is #### 8.<|eot_id|><|start_header_id|>user<|end_header_id|>\\n\\nExample Problem example5: Shawn has five toys. For Christmas, he got two toys each from his mom and dad. How many toys does he have now?\\nAnswer: He has 5 toys. He got 2 from mom, so after that he has 5 + 2 = 7 toys. Then he got 2 more from dad, so in total he has 7 + 2 = 9 toys. The answer is #### 9.<|eot_id|><|start_header_id|>user<|end_header_id|>\\n\\nExample Problem example6: There were nine computers in the server room. Five more computers were installed each day, from Monday to Thursday. How many computers are now in the server room?\\nAnswer: There are 4 days from Monday to Thursday. 5 computers were added each day. That means in total 4 * 5 = 20 computers were added. There were 9 computers in the beginning, so now there are 9 + 20 = 29 computers. The answer is #### 29.<|eot_id|><|start_header_id|>user<|end_header_id|>\\n\\nExample Problem example7: Michael had 58 golf balls. On Tuesday, he lost 23 golf balls. On Wednesday, he lost 2 more. How many golf balls did he have at the end of Wednesday?\\nAnswer: Michael initially had 58 balls. He lost 23 on Tuesday, so after that he has 58 - 23 = 35 balls. On Wednesday he lost 2 more so now he has 35 - 2 = 33 balls. The answer is #### 33.<|eot_id|><|start_header_id|>user<|end_header_id|>\\n\\nExample Problem example8: Olivia has $23. She bought five bagels for $3 each. How much money does she have left?\\nAnswer: She bought 5 bagels for $3 each. This means she spent 5 * $3 = $15 on the bagels. She had $23 in beginning, so now she has $23 - $15 = $8. The answer is #### 8.<|eot_id|><|start_header_id|>user<|end_header_id|>\\n\\nSolve the following mathematical problem: Josh decides to try flipping a house.  He buys a house for $80,000 and then puts in $50,000 in repairs.  This increased the value of the house by 150%.  How much profit did he make? Ensure your final answer is presented within the format '#### {numeric answer}'.<|eot_id|><|start_header_id|>assistant<|end_header_id|>\\n\\nLet's break it down step by step:\\n\\n1. Josh buys the house for $80,000.\\n2. He puts in $50,000 in repairs, which increases the value of the house.\\n3. The value of the house increases by 150%, which means it becomes 1.5 times its original value.\\n\\nNew value of the house = Original value + Increase in value\\n= $80,000 + (150% of $80,000)\\n= $80,000 + $120,000\\n= $200,000\\n\\n4. Since Josh bought the house for $80,000 and sold it for $200,000, his profit is the difference between the two values.\\n\\nProfit = Selling price - Buying price\\n= $200,000 - $80,000\\n= $120,000\\n\\n#### 120,000\",\n",
       " \"<|begin_of_text|><|start_header_id|>system<|end_header_id|>\\n\\nYou are a methodical mathematician, adept at solving complex mathematical problems. Conclude your explanation with the answer in a '#### {numeric answer}' format, where the answer is solely a number.<|eot_id|><|start_header_id|>user<|end_header_id|>\\n\\nExample Problem example1: There are 15 trees in the grove. Grove workers will plant trees in the grove today. After they are done, there will be 21 trees. How many trees did the grove workers plant today?\\nAnswer: We start with 15 trees. Later we have 21 trees.The difference must be the number of trees they planted. So, they must have planted 21-15=6 trees.The answer is #### 6.<|eot_id|><|start_header_id|>user<|end_header_id|>\\n\\nExample Problem example2: If there are 3 cars in the parking lot and 2 more cars arrive, how many cars are in the parking lot?\\nAnswer: There are 3 cars in the parking lot already. 2 more arrive. Now there are 3 + 2 = 5 cars. The answer is #### 5.<|eot_id|><|start_header_id|>user<|end_header_id|>\\n\\nExample Problem example3: Leah had 32 chocolates and her sister had 42. If they ate 35, how many pieces do they have left in total?\\nAnswer: Leah had 32 chocolates and Leah’s sister had 42. That means there were originally 32 + 42 = 74 chocolates. 35 have been eaten. So in total they still have 74 - 35 = 39 chocolates. The answer is #### 39.<|eot_id|><|start_header_id|>user<|end_header_id|>\\n\\nExample Problem example4: Jason had 20 lollipops. He gave Denny some lollipops. Now Jason has 12 lollipops. How many lollipops did Jason give to Denny?\\nAnswer: Jason had 20 lollipops. Since he only has 12 now, he must have given the rest to Denny. The number of lollipops he has given to Denny must have been 20 - 12 = 8 lollipops. The answer is #### 8.<|eot_id|><|start_header_id|>user<|end_header_id|>\\n\\nExample Problem example5: Shawn has five toys. For Christmas, he got two toys each from his mom and dad. How many toys does he have now?\\nAnswer: He has 5 toys. He got 2 from mom, so after that he has 5 + 2 = 7 toys. Then he got 2 more from dad, so in total he has 7 + 2 = 9 toys. The answer is #### 9.<|eot_id|><|start_header_id|>user<|end_header_id|>\\n\\nExample Problem example6: There were nine computers in the server room. Five more computers were installed each day, from Monday to Thursday. How many computers are now in the server room?\\nAnswer: There are 4 days from Monday to Thursday. 5 computers were added each day. That means in total 4 * 5 = 20 computers were added. There were 9 computers in the beginning, so now there are 9 + 20 = 29 computers. The answer is #### 29.<|eot_id|><|start_header_id|>user<|end_header_id|>\\n\\nExample Problem example7: Michael had 58 golf balls. On Tuesday, he lost 23 golf balls. On Wednesday, he lost 2 more. How many golf balls did he have at the end of Wednesday?\\nAnswer: Michael initially had 58 balls. He lost 23 on Tuesday, so after that he has 58 - 23 = 35 balls. On Wednesday he lost 2 more so now he has 35 - 2 = 33 balls. The answer is #### 33.<|eot_id|><|start_header_id|>user<|end_header_id|>\\n\\nExample Problem example8: Olivia has $23. She bought five bagels for $3 each. How much money does she have left?\\nAnswer: She bought 5 bagels for $3 each. This means she spent 5 * $3 = $15 on the bagels. She had $23 in beginning, so now she has $23 - $15 = $8. The answer is #### 8.<|eot_id|><|start_header_id|>user<|end_header_id|>\\n\\nSolve the following mathematical problem: Josh decides to try flipping a house.  He buys a house for $80,000 and then puts in $50,000 in repairs.  This increased the value of the house by 150%.  How much profit did he make? Ensure your final answer is presented within the format '#### {numeric answer}'.<|eot_id|><|start_header_id|>assistant<|end_header_id|>\\n\\nLet's break it down step by step:\\n\\n1. Josh buys the house for $80,000.\\n2. He puts in $50,000 in repairs, which increases the value of the house.\\n3. The value of the house increases by 150%, which means it becomes 1.5 times its original value.\\n\\nNew value of the house = Original value + Increase in value\\n= $80,000 + (150% of $80,000)\\n= $80,000 + $120,000\\n= $200,000\\n\\n4. Since Josh bought the house for $80,000 and sold it for $200,000, his profit is the difference between the two values.\\n\\nProfit = Selling price - Buying price\\n= $200,000 - $80,000\\n= $120,000\\n\\n#### 120,000\",\n",
       " \"<|begin_of_text|><|start_header_id|>system<|end_header_id|>\\n\\nYou are a methodical mathematician, adept at solving complex mathematical problems. Conclude your explanation with the answer in a '#### {numeric answer}' format, where the answer is solely a number.<|eot_id|><|start_header_id|>user<|end_header_id|>\\n\\nExample Problem example1: There are 15 trees in the grove. Grove workers will plant trees in the grove today. After they are done, there will be 21 trees. How many trees did the grove workers plant today?\\nAnswer: We start with 15 trees. Later we have 21 trees.The difference must be the number of trees they planted. So, they must have planted 21-15=6 trees.The answer is #### 6.<|eot_id|><|start_header_id|>user<|end_header_id|>\\n\\nExample Problem example2: If there are 3 cars in the parking lot and 2 more cars arrive, how many cars are in the parking lot?\\nAnswer: There are 3 cars in the parking lot already. 2 more arrive. Now there are 3 + 2 = 5 cars. The answer is #### 5.<|eot_id|><|start_header_id|>user<|end_header_id|>\\n\\nExample Problem example3: Leah had 32 chocolates and her sister had 42. If they ate 35, how many pieces do they have left in total?\\nAnswer: Leah had 32 chocolates and Leah’s sister had 42. That means there were originally 32 + 42 = 74 chocolates. 35 have been eaten. So in total they still have 74 - 35 = 39 chocolates. The answer is #### 39.<|eot_id|><|start_header_id|>user<|end_header_id|>\\n\\nExample Problem example4: Jason had 20 lollipops. He gave Denny some lollipops. Now Jason has 12 lollipops. How many lollipops did Jason give to Denny?\\nAnswer: Jason had 20 lollipops. Since he only has 12 now, he must have given the rest to Denny. The number of lollipops he has given to Denny must have been 20 - 12 = 8 lollipops. The answer is #### 8.<|eot_id|><|start_header_id|>user<|end_header_id|>\\n\\nExample Problem example5: Shawn has five toys. For Christmas, he got two toys each from his mom and dad. How many toys does he have now?\\nAnswer: He has 5 toys. He got 2 from mom, so after that he has 5 + 2 = 7 toys. Then he got 2 more from dad, so in total he has 7 + 2 = 9 toys. The answer is #### 9.<|eot_id|><|start_header_id|>user<|end_header_id|>\\n\\nExample Problem example6: There were nine computers in the server room. Five more computers were installed each day, from Monday to Thursday. How many computers are now in the server room?\\nAnswer: There are 4 days from Monday to Thursday. 5 computers were added each day. That means in total 4 * 5 = 20 computers were added. There were 9 computers in the beginning, so now there are 9 + 20 = 29 computers. The answer is #### 29.<|eot_id|><|start_header_id|>user<|end_header_id|>\\n\\nExample Problem example7: Michael had 58 golf balls. On Tuesday, he lost 23 golf balls. On Wednesday, he lost 2 more. How many golf balls did he have at the end of Wednesday?\\nAnswer: Michael initially had 58 balls. He lost 23 on Tuesday, so after that he has 58 - 23 = 35 balls. On Wednesday he lost 2 more so now he has 35 - 2 = 33 balls. The answer is #### 33.<|eot_id|><|start_header_id|>user<|end_header_id|>\\n\\nExample Problem example8: Olivia has $23. She bought five bagels for $3 each. How much money does she have left?\\nAnswer: She bought 5 bagels for $3 each. This means she spent 5 * $3 = $15 on the bagels. She had $23 in beginning, so now she has $23 - $15 = $8. The answer is #### 8.<|eot_id|><|start_header_id|>user<|end_header_id|>\\n\\nSolve the following mathematical problem: Josh decides to try flipping a house.  He buys a house for $80,000 and then puts in $50,000 in repairs.  This increased the value of the house by 150%.  How much profit did he make? Ensure your final answer is presented within the format '#### {numeric answer}'.<|eot_id|><|start_header_id|>assistant<|end_header_id|>\\n\\nLet's break it down step by step:\\n\\n1. Josh buys the house for $80,000.\\n2. He puts in $50,000 in repairs, which increases the value of the house.\\n3. The value of the house increases by 150%, which means it becomes 1.5 times its original value.\\n\\nNew value of the house = Original value + Increase in value\\n= $80,000 + (150% of $80,000)\\n= $80,000 + $120,000\\n= $200,000\\n\\n4. Since Josh bought the house for $80,000 and sold it for $200,000, his profit is the difference between the two values.\\n\\nProfit = Selling price - Buying price\\n= $200,000 - $80,000\\n= $120,000\\n\\n#### 120,000\",\n",
       " \"<|begin_of_text|><|start_header_id|>system<|end_header_id|>\\n\\nYou are a methodical mathematician, adept at solving complex mathematical problems. Conclude your explanation with the answer in a '#### {numeric answer}' format, where the answer is solely a number.<|eot_id|><|start_header_id|>user<|end_header_id|>\\n\\nExample Problem example1: There are 15 trees in the grove. Grove workers will plant trees in the grove today. After they are done, there will be 21 trees. How many trees did the grove workers plant today?\\nAnswer: We start with 15 trees. Later we have 21 trees.The difference must be the number of trees they planted. So, they must have planted 21-15=6 trees.The answer is #### 6.<|eot_id|><|start_header_id|>user<|end_header_id|>\\n\\nExample Problem example2: If there are 3 cars in the parking lot and 2 more cars arrive, how many cars are in the parking lot?\\nAnswer: There are 3 cars in the parking lot already. 2 more arrive. Now there are 3 + 2 = 5 cars. The answer is #### 5.<|eot_id|><|start_header_id|>user<|end_header_id|>\\n\\nExample Problem example3: Leah had 32 chocolates and her sister had 42. If they ate 35, how many pieces do they have left in total?\\nAnswer: Leah had 32 chocolates and Leah’s sister had 42. That means there were originally 32 + 42 = 74 chocolates. 35 have been eaten. So in total they still have 74 - 35 = 39 chocolates. The answer is #### 39.<|eot_id|><|start_header_id|>user<|end_header_id|>\\n\\nExample Problem example4: Jason had 20 lollipops. He gave Denny some lollipops. Now Jason has 12 lollipops. How many lollipops did Jason give to Denny?\\nAnswer: Jason had 20 lollipops. Since he only has 12 now, he must have given the rest to Denny. The number of lollipops he has given to Denny must have been 20 - 12 = 8 lollipops. The answer is #### 8.<|eot_id|><|start_header_id|>user<|end_header_id|>\\n\\nExample Problem example5: Shawn has five toys. For Christmas, he got two toys each from his mom and dad. How many toys does he have now?\\nAnswer: He has 5 toys. He got 2 from mom, so after that he has 5 + 2 = 7 toys. Then he got 2 more from dad, so in total he has 7 + 2 = 9 toys. The answer is #### 9.<|eot_id|><|start_header_id|>user<|end_header_id|>\\n\\nExample Problem example6: There were nine computers in the server room. Five more computers were installed each day, from Monday to Thursday. How many computers are now in the server room?\\nAnswer: There are 4 days from Monday to Thursday. 5 computers were added each day. That means in total 4 * 5 = 20 computers were added. There were 9 computers in the beginning, so now there are 9 + 20 = 29 computers. The answer is #### 29.<|eot_id|><|start_header_id|>user<|end_header_id|>\\n\\nExample Problem example7: Michael had 58 golf balls. On Tuesday, he lost 23 golf balls. On Wednesday, he lost 2 more. How many golf balls did he have at the end of Wednesday?\\nAnswer: Michael initially had 58 balls. He lost 23 on Tuesday, so after that he has 58 - 23 = 35 balls. On Wednesday he lost 2 more so now he has 35 - 2 = 33 balls. The answer is #### 33.<|eot_id|><|start_header_id|>user<|end_header_id|>\\n\\nExample Problem example8: Olivia has $23. She bought five bagels for $3 each. How much money does she have left?\\nAnswer: She bought 5 bagels for $3 each. This means she spent 5 * $3 = $15 on the bagels. She had $23 in beginning, so now she has $23 - $15 = $8. The answer is #### 8.<|eot_id|><|start_header_id|>user<|end_header_id|>\\n\\nSolve the following mathematical problem: Josh decides to try flipping a house.  He buys a house for $80,000 and then puts in $50,000 in repairs.  This increased the value of the house by 150%.  How much profit did he make? Ensure your final answer is presented within the format '#### {numeric answer}'.<|eot_id|><|start_header_id|>assistant<|end_header_id|>\\n\\nLet's break this problem down step by step:\\n\\n1. Josh buys a house for $80,000.\\n2. He puts in $50,000 in repairs, which increases the value of the house by 150%.\\n3. To find the new value of the house, we need to calculate 150% of the original value: 150% of $80,000 = 1.5 x $80,000 = $120,000.\\n4. Since the repairs increased the value of the house by 150%, the new value is $120,000.\\n5. To find the profit, we need to subtract the cost of the house and the cost of repairs from the new value: $120,000 - $80,000 - $50,000 = $30,000.\\n\\n#### 30000\",\n",
       " \"<|begin_of_text|><|start_header_id|>system<|end_header_id|>\\n\\nYou are a methodical mathematician, adept at solving complex mathematical problems. Conclude your explanation with the answer in a '#### {numeric answer}' format, where the answer is solely a number.<|eot_id|><|start_header_id|>user<|end_header_id|>\\n\\nExample Problem example1: There are 15 trees in the grove. Grove workers will plant trees in the grove today. After they are done, there will be 21 trees. How many trees did the grove workers plant today?\\nAnswer: We start with 15 trees. Later we have 21 trees.The difference must be the number of trees they planted. So, they must have planted 21-15=6 trees.The answer is #### 6.<|eot_id|><|start_header_id|>user<|end_header_id|>\\n\\nExample Problem example2: If there are 3 cars in the parking lot and 2 more cars arrive, how many cars are in the parking lot?\\nAnswer: There are 3 cars in the parking lot already. 2 more arrive. Now there are 3 + 2 = 5 cars. The answer is #### 5.<|eot_id|><|start_header_id|>user<|end_header_id|>\\n\\nExample Problem example3: Leah had 32 chocolates and her sister had 42. If they ate 35, how many pieces do they have left in total?\\nAnswer: Leah had 32 chocolates and Leah’s sister had 42. That means there were originally 32 + 42 = 74 chocolates. 35 have been eaten. So in total they still have 74 - 35 = 39 chocolates. The answer is #### 39.<|eot_id|><|start_header_id|>user<|end_header_id|>\\n\\nExample Problem example4: Jason had 20 lollipops. He gave Denny some lollipops. Now Jason has 12 lollipops. How many lollipops did Jason give to Denny?\\nAnswer: Jason had 20 lollipops. Since he only has 12 now, he must have given the rest to Denny. The number of lollipops he has given to Denny must have been 20 - 12 = 8 lollipops. The answer is #### 8.<|eot_id|><|start_header_id|>user<|end_header_id|>\\n\\nExample Problem example5: Shawn has five toys. For Christmas, he got two toys each from his mom and dad. How many toys does he have now?\\nAnswer: He has 5 toys. He got 2 from mom, so after that he has 5 + 2 = 7 toys. Then he got 2 more from dad, so in total he has 7 + 2 = 9 toys. The answer is #### 9.<|eot_id|><|start_header_id|>user<|end_header_id|>\\n\\nExample Problem example6: There were nine computers in the server room. Five more computers were installed each day, from Monday to Thursday. How many computers are now in the server room?\\nAnswer: There are 4 days from Monday to Thursday. 5 computers were added each day. That means in total 4 * 5 = 20 computers were added. There were 9 computers in the beginning, so now there are 9 + 20 = 29 computers. The answer is #### 29.<|eot_id|><|start_header_id|>user<|end_header_id|>\\n\\nExample Problem example7: Michael had 58 golf balls. On Tuesday, he lost 23 golf balls. On Wednesday, he lost 2 more. How many golf balls did he have at the end of Wednesday?\\nAnswer: Michael initially had 58 balls. He lost 23 on Tuesday, so after that he has 58 - 23 = 35 balls. On Wednesday he lost 2 more so now he has 35 - 2 = 33 balls. The answer is #### 33.<|eot_id|><|start_header_id|>user<|end_header_id|>\\n\\nExample Problem example8: Olivia has $23. She bought five bagels for $3 each. How much money does she have left?\\nAnswer: She bought 5 bagels for $3 each. This means she spent 5 * $3 = $15 on the bagels. She had $23 in beginning, so now she has $23 - $15 = $8. The answer is #### 8.<|eot_id|><|start_header_id|>user<|end_header_id|>\\n\\nSolve the following mathematical problem: Josh decides to try flipping a house.  He buys a house for $80,000 and then puts in $50,000 in repairs.  This increased the value of the house by 150%.  How much profit did he make? Ensure your final answer is presented within the format '#### {numeric answer}'.<|eot_id|><|start_header_id|>assistant<|end_header_id|>\\n\\nLet's break this problem down step by step:\\n\\n1. Josh buys a house for $80,000.\\n2. He puts in $50,000 in repairs, which increases the value of the house by 150%.\\n3. To find the new value of the house, we need to calculate 150% of the original value: 150% of $80,000 = 1.5 x $80,000 = $120,000.\\n4. Since the repairs increased the value of the house by 150%, the new value is $120,000.\\n5. To find the profit, we need to subtract the cost of the house and the cost of repairs from the new value: $120,000 - $80,000 - $50,000 = $30,000.\\n\\n#### 30000\",\n",
       " \"<|begin_of_text|><|start_header_id|>system<|end_header_id|>\\n\\nYou are a methodical mathematician, adept at solving complex mathematical problems. Conclude your explanation with the answer in a '#### {numeric answer}' format, where the answer is solely a number.<|eot_id|><|start_header_id|>user<|end_header_id|>\\n\\nExample Problem example1: There are 15 trees in the grove. Grove workers will plant trees in the grove today. After they are done, there will be 21 trees. How many trees did the grove workers plant today?\\nAnswer: We start with 15 trees. Later we have 21 trees.The difference must be the number of trees they planted. So, they must have planted 21-15=6 trees.The answer is #### 6.<|eot_id|><|start_header_id|>user<|end_header_id|>\\n\\nExample Problem example2: If there are 3 cars in the parking lot and 2 more cars arrive, how many cars are in the parking lot?\\nAnswer: There are 3 cars in the parking lot already. 2 more arrive. Now there are 3 + 2 = 5 cars. The answer is #### 5.<|eot_id|><|start_header_id|>user<|end_header_id|>\\n\\nExample Problem example3: Leah had 32 chocolates and her sister had 42. If they ate 35, how many pieces do they have left in total?\\nAnswer: Leah had 32 chocolates and Leah’s sister had 42. That means there were originally 32 + 42 = 74 chocolates. 35 have been eaten. So in total they still have 74 - 35 = 39 chocolates. The answer is #### 39.<|eot_id|><|start_header_id|>user<|end_header_id|>\\n\\nExample Problem example4: Jason had 20 lollipops. He gave Denny some lollipops. Now Jason has 12 lollipops. How many lollipops did Jason give to Denny?\\nAnswer: Jason had 20 lollipops. Since he only has 12 now, he must have given the rest to Denny. The number of lollipops he has given to Denny must have been 20 - 12 = 8 lollipops. The answer is #### 8.<|eot_id|><|start_header_id|>user<|end_header_id|>\\n\\nExample Problem example5: Shawn has five toys. For Christmas, he got two toys each from his mom and dad. How many toys does he have now?\\nAnswer: He has 5 toys. He got 2 from mom, so after that he has 5 + 2 = 7 toys. Then he got 2 more from dad, so in total he has 7 + 2 = 9 toys. The answer is #### 9.<|eot_id|><|start_header_id|>user<|end_header_id|>\\n\\nExample Problem example6: There were nine computers in the server room. Five more computers were installed each day, from Monday to Thursday. How many computers are now in the server room?\\nAnswer: There are 4 days from Monday to Thursday. 5 computers were added each day. That means in total 4 * 5 = 20 computers were added. There were 9 computers in the beginning, so now there are 9 + 20 = 29 computers. The answer is #### 29.<|eot_id|><|start_header_id|>user<|end_header_id|>\\n\\nExample Problem example7: Michael had 58 golf balls. On Tuesday, he lost 23 golf balls. On Wednesday, he lost 2 more. How many golf balls did he have at the end of Wednesday?\\nAnswer: Michael initially had 58 balls. He lost 23 on Tuesday, so after that he has 58 - 23 = 35 balls. On Wednesday he lost 2 more so now he has 35 - 2 = 33 balls. The answer is #### 33.<|eot_id|><|start_header_id|>user<|end_header_id|>\\n\\nExample Problem example8: Olivia has $23. She bought five bagels for $3 each. How much money does she have left?\\nAnswer: She bought 5 bagels for $3 each. This means she spent 5 * $3 = $15 on the bagels. She had $23 in beginning, so now she has $23 - $15 = $8. The answer is #### 8.<|eot_id|><|start_header_id|>user<|end_header_id|>\\n\\nSolve the following mathematical problem: Josh decides to try flipping a house.  He buys a house for $80,000 and then puts in $50,000 in repairs.  This increased the value of the house by 150%.  How much profit did he make? Ensure your final answer is presented within the format '#### {numeric answer}'.<|eot_id|><|start_header_id|>assistant<|end_header_id|>\\n\\nLet's break this problem down step by step:\\n\\n1. Josh buys a house for $80,000.\\n2. He puts in $50,000 in repairs, which increases the value of the house by 150%.\\n3. To find the new value of the house, we need to calculate 150% of the original value: 150% of $80,000 = 1.5 x $80,000 = $120,000.\\n4. Since the repairs increased the value of the house by 150%, the new value is $120,000.\\n5. To find the profit, we need to subtract the cost of the house and the cost of repairs from the new value: $120,000 - $80,000 - $50,000 = $30,000.\\n\\n#### 30000\",\n",
       " \"<|begin_of_text|><|start_header_id|>system<|end_header_id|>\\n\\nYou are a methodical mathematician, adept at solving complex mathematical problems. Conclude your explanation with the answer in a '#### {numeric answer}' format, where the answer is solely a number.<|eot_id|><|start_header_id|>user<|end_header_id|>\\n\\nExample Problem example1: There are 15 trees in the grove. Grove workers will plant trees in the grove today. After they are done, there will be 21 trees. How many trees did the grove workers plant today?\\nAnswer: We start with 15 trees. Later we have 21 trees.The difference must be the number of trees they planted. So, they must have planted 21-15=6 trees.The answer is #### 6.<|eot_id|><|start_header_id|>user<|end_header_id|>\\n\\nExample Problem example2: If there are 3 cars in the parking lot and 2 more cars arrive, how many cars are in the parking lot?\\nAnswer: There are 3 cars in the parking lot already. 2 more arrive. Now there are 3 + 2 = 5 cars. The answer is #### 5.<|eot_id|><|start_header_id|>user<|end_header_id|>\\n\\nExample Problem example3: Leah had 32 chocolates and her sister had 42. If they ate 35, how many pieces do they have left in total?\\nAnswer: Leah had 32 chocolates and Leah’s sister had 42. That means there were originally 32 + 42 = 74 chocolates. 35 have been eaten. So in total they still have 74 - 35 = 39 chocolates. The answer is #### 39.<|eot_id|><|start_header_id|>user<|end_header_id|>\\n\\nExample Problem example4: Jason had 20 lollipops. He gave Denny some lollipops. Now Jason has 12 lollipops. How many lollipops did Jason give to Denny?\\nAnswer: Jason had 20 lollipops. Since he only has 12 now, he must have given the rest to Denny. The number of lollipops he has given to Denny must have been 20 - 12 = 8 lollipops. The answer is #### 8.<|eot_id|><|start_header_id|>user<|end_header_id|>\\n\\nExample Problem example5: Shawn has five toys. For Christmas, he got two toys each from his mom and dad. How many toys does he have now?\\nAnswer: He has 5 toys. He got 2 from mom, so after that he has 5 + 2 = 7 toys. Then he got 2 more from dad, so in total he has 7 + 2 = 9 toys. The answer is #### 9.<|eot_id|><|start_header_id|>user<|end_header_id|>\\n\\nExample Problem example6: There were nine computers in the server room. Five more computers were installed each day, from Monday to Thursday. How many computers are now in the server room?\\nAnswer: There are 4 days from Monday to Thursday. 5 computers were added each day. That means in total 4 * 5 = 20 computers were added. There were 9 computers in the beginning, so now there are 9 + 20 = 29 computers. The answer is #### 29.<|eot_id|><|start_header_id|>user<|end_header_id|>\\n\\nExample Problem example7: Michael had 58 golf balls. On Tuesday, he lost 23 golf balls. On Wednesday, he lost 2 more. How many golf balls did he have at the end of Wednesday?\\nAnswer: Michael initially had 58 balls. He lost 23 on Tuesday, so after that he has 58 - 23 = 35 balls. On Wednesday he lost 2 more so now he has 35 - 2 = 33 balls. The answer is #### 33.<|eot_id|><|start_header_id|>user<|end_header_id|>\\n\\nExample Problem example8: Olivia has $23. She bought five bagels for $3 each. How much money does she have left?\\nAnswer: She bought 5 bagels for $3 each. This means she spent 5 * $3 = $15 on the bagels. She had $23 in beginning, so now she has $23 - $15 = $8. The answer is #### 8.<|eot_id|><|start_header_id|>user<|end_header_id|>\\n\\nSolve the following mathematical problem: Josh decides to try flipping a house.  He buys a house for $80,000 and then puts in $50,000 in repairs.  This increased the value of the house by 150%.  How much profit did he make? Ensure your final answer is presented within the format '#### {numeric answer}'.<|eot_id|><|start_header_id|>assistant<|end_header_id|>\\n\\nLet's break it down step by step:\\n\\n1. Josh buys a house for $80,000.\\n2. He puts in $50,000 in repairs, which increases the value of the house.\\n3. The value of the house increases by 150%, which means the new value is 150% of the original value.\\n\\nTo find the new value, multiply the original value by 1.5 (150% is the same as 1.5):\\n\\n$80,000 x 1.5 = $120,000\\n\\nSo, the new value of the house is $120,000.\\n\\n4. Since Josh bought the house for $80,000 and sold it for $120,000, his profit is the difference between the two values:\\n\\n$120,000 - $80,000 = $40,000\\n\\nJosh made a profit of $40,000.\\n\\n#### 40000\",\n",
       " \"<|begin_of_text|><|start_header_id|>system<|end_header_id|>\\n\\nYou are a methodical mathematician, adept at solving complex mathematical problems. Conclude your explanation with the answer in a '#### {numeric answer}' format, where the answer is solely a number.<|eot_id|><|start_header_id|>user<|end_header_id|>\\n\\nExample Problem example1: There are 15 trees in the grove. Grove workers will plant trees in the grove today. After they are done, there will be 21 trees. How many trees did the grove workers plant today?\\nAnswer: We start with 15 trees. Later we have 21 trees.The difference must be the number of trees they planted. So, they must have planted 21-15=6 trees.The answer is #### 6.<|eot_id|><|start_header_id|>user<|end_header_id|>\\n\\nExample Problem example2: If there are 3 cars in the parking lot and 2 more cars arrive, how many cars are in the parking lot?\\nAnswer: There are 3 cars in the parking lot already. 2 more arrive. Now there are 3 + 2 = 5 cars. The answer is #### 5.<|eot_id|><|start_header_id|>user<|end_header_id|>\\n\\nExample Problem example3: Leah had 32 chocolates and her sister had 42. If they ate 35, how many pieces do they have left in total?\\nAnswer: Leah had 32 chocolates and Leah’s sister had 42. That means there were originally 32 + 42 = 74 chocolates. 35 have been eaten. So in total they still have 74 - 35 = 39 chocolates. The answer is #### 39.<|eot_id|><|start_header_id|>user<|end_header_id|>\\n\\nExample Problem example4: Jason had 20 lollipops. He gave Denny some lollipops. Now Jason has 12 lollipops. How many lollipops did Jason give to Denny?\\nAnswer: Jason had 20 lollipops. Since he only has 12 now, he must have given the rest to Denny. The number of lollipops he has given to Denny must have been 20 - 12 = 8 lollipops. The answer is #### 8.<|eot_id|><|start_header_id|>user<|end_header_id|>\\n\\nExample Problem example5: Shawn has five toys. For Christmas, he got two toys each from his mom and dad. How many toys does he have now?\\nAnswer: He has 5 toys. He got 2 from mom, so after that he has 5 + 2 = 7 toys. Then he got 2 more from dad, so in total he has 7 + 2 = 9 toys. The answer is #### 9.<|eot_id|><|start_header_id|>user<|end_header_id|>\\n\\nExample Problem example6: There were nine computers in the server room. Five more computers were installed each day, from Monday to Thursday. How many computers are now in the server room?\\nAnswer: There are 4 days from Monday to Thursday. 5 computers were added each day. That means in total 4 * 5 = 20 computers were added. There were 9 computers in the beginning, so now there are 9 + 20 = 29 computers. The answer is #### 29.<|eot_id|><|start_header_id|>user<|end_header_id|>\\n\\nExample Problem example7: Michael had 58 golf balls. On Tuesday, he lost 23 golf balls. On Wednesday, he lost 2 more. How many golf balls did he have at the end of Wednesday?\\nAnswer: Michael initially had 58 balls. He lost 23 on Tuesday, so after that he has 58 - 23 = 35 balls. On Wednesday he lost 2 more so now he has 35 - 2 = 33 balls. The answer is #### 33.<|eot_id|><|start_header_id|>user<|end_header_id|>\\n\\nExample Problem example8: Olivia has $23. She bought five bagels for $3 each. How much money does she have left?\\nAnswer: She bought 5 bagels for $3 each. This means she spent 5 * $3 = $15 on the bagels. She had $23 in beginning, so now she has $23 - $15 = $8. The answer is #### 8.<|eot_id|><|start_header_id|>user<|end_header_id|>\\n\\nSolve the following mathematical problem: Josh decides to try flipping a house.  He buys a house for $80,000 and then puts in $50,000 in repairs.  This increased the value of the house by 150%.  How much profit did he make? Ensure your final answer is presented within the format '#### {numeric answer}'.<|eot_id|><|start_header_id|>assistant<|end_header_id|>\\n\\nLet's break it down step by step:\\n\\n1. Josh buys a house for $80,000.\\n2. He puts in $50,000 in repairs, which increases the value of the house.\\n3. The value of the house increases by 150%, which means the new value is 150% of the original value.\\n\\nTo find the new value, multiply the original value by 1.5 (150% is the same as 1.5):\\n\\n$80,000 x 1.5 = $120,000\\n\\nSo, the new value of the house is $120,000.\\n\\n4. Since Josh bought the house for $80,000 and sold it for $120,000, his profit is the difference between the two values:\\n\\n$120,000 - $80,000 = $40,000\\n\\nJosh made a profit of $40,000.\\n\\n#### 40000\",\n",
       " \"<|begin_of_text|><|start_header_id|>system<|end_header_id|>\\n\\nYou are a methodical mathematician, adept at solving complex mathematical problems. Conclude your explanation with the answer in a '#### {numeric answer}' format, where the answer is solely a number.<|eot_id|><|start_header_id|>user<|end_header_id|>\\n\\nExample Problem example1: There are 15 trees in the grove. Grove workers will plant trees in the grove today. After they are done, there will be 21 trees. How many trees did the grove workers plant today?\\nAnswer: We start with 15 trees. Later we have 21 trees.The difference must be the number of trees they planted. So, they must have planted 21-15=6 trees.The answer is #### 6.<|eot_id|><|start_header_id|>user<|end_header_id|>\\n\\nExample Problem example2: If there are 3 cars in the parking lot and 2 more cars arrive, how many cars are in the parking lot?\\nAnswer: There are 3 cars in the parking lot already. 2 more arrive. Now there are 3 + 2 = 5 cars. The answer is #### 5.<|eot_id|><|start_header_id|>user<|end_header_id|>\\n\\nExample Problem example3: Leah had 32 chocolates and her sister had 42. If they ate 35, how many pieces do they have left in total?\\nAnswer: Leah had 32 chocolates and Leah’s sister had 42. That means there were originally 32 + 42 = 74 chocolates. 35 have been eaten. So in total they still have 74 - 35 = 39 chocolates. The answer is #### 39.<|eot_id|><|start_header_id|>user<|end_header_id|>\\n\\nExample Problem example4: Jason had 20 lollipops. He gave Denny some lollipops. Now Jason has 12 lollipops. How many lollipops did Jason give to Denny?\\nAnswer: Jason had 20 lollipops. Since he only has 12 now, he must have given the rest to Denny. The number of lollipops he has given to Denny must have been 20 - 12 = 8 lollipops. The answer is #### 8.<|eot_id|><|start_header_id|>user<|end_header_id|>\\n\\nExample Problem example5: Shawn has five toys. For Christmas, he got two toys each from his mom and dad. How many toys does he have now?\\nAnswer: He has 5 toys. He got 2 from mom, so after that he has 5 + 2 = 7 toys. Then he got 2 more from dad, so in total he has 7 + 2 = 9 toys. The answer is #### 9.<|eot_id|><|start_header_id|>user<|end_header_id|>\\n\\nExample Problem example6: There were nine computers in the server room. Five more computers were installed each day, from Monday to Thursday. How many computers are now in the server room?\\nAnswer: There are 4 days from Monday to Thursday. 5 computers were added each day. That means in total 4 * 5 = 20 computers were added. There were 9 computers in the beginning, so now there are 9 + 20 = 29 computers. The answer is #### 29.<|eot_id|><|start_header_id|>user<|end_header_id|>\\n\\nExample Problem example7: Michael had 58 golf balls. On Tuesday, he lost 23 golf balls. On Wednesday, he lost 2 more. How many golf balls did he have at the end of Wednesday?\\nAnswer: Michael initially had 58 balls. He lost 23 on Tuesday, so after that he has 58 - 23 = 35 balls. On Wednesday he lost 2 more so now he has 35 - 2 = 33 balls. The answer is #### 33.<|eot_id|><|start_header_id|>user<|end_header_id|>\\n\\nExample Problem example8: Olivia has $23. She bought five bagels for $3 each. How much money does she have left?\\nAnswer: She bought 5 bagels for $3 each. This means she spent 5 * $3 = $15 on the bagels. She had $23 in beginning, so now she has $23 - $15 = $8. The answer is #### 8.<|eot_id|><|start_header_id|>user<|end_header_id|>\\n\\nSolve the following mathematical problem: Josh decides to try flipping a house.  He buys a house for $80,000 and then puts in $50,000 in repairs.  This increased the value of the house by 150%.  How much profit did he make? Ensure your final answer is presented within the format '#### {numeric answer}'.<|eot_id|><|start_header_id|>assistant<|end_header_id|>\\n\\nLet's break it down step by step:\\n\\n1. Josh buys a house for $80,000.\\n2. He puts in $50,000 in repairs, which increases the value of the house.\\n3. The value of the house increases by 150%, which means the new value is 150% of the original value.\\n\\nTo find the new value, multiply the original value by 1.5 (150% is the same as 1.5):\\n\\n$80,000 x 1.5 = $120,000\\n\\nSo, the new value of the house is $120,000.\\n\\n4. Since Josh bought the house for $80,000 and sold it for $120,000, his profit is the difference between the two values:\\n\\n$120,000 - $80,000 = $40,000\\n\\nJosh made a profit of $40,000.\\n\\n#### 40000\",\n",
       " \"<|begin_of_text|><|start_header_id|>system<|end_header_id|>\\n\\nYou are a methodical mathematician, adept at solving complex mathematical problems. Conclude your explanation with the answer in a '#### {numeric answer}' format, where the answer is solely a number.<|eot_id|><|start_header_id|>user<|end_header_id|>\\n\\nExample Problem example1: There are 15 trees in the grove. Grove workers will plant trees in the grove today. After they are done, there will be 21 trees. How many trees did the grove workers plant today?\\nAnswer: We start with 15 trees. Later we have 21 trees.The difference must be the number of trees they planted. So, they must have planted 21-15=6 trees.The answer is #### 6.<|eot_id|><|start_header_id|>user<|end_header_id|>\\n\\nExample Problem example2: If there are 3 cars in the parking lot and 2 more cars arrive, how many cars are in the parking lot?\\nAnswer: There are 3 cars in the parking lot already. 2 more arrive. Now there are 3 + 2 = 5 cars. The answer is #### 5.<|eot_id|><|start_header_id|>user<|end_header_id|>\\n\\nExample Problem example3: Leah had 32 chocolates and her sister had 42. If they ate 35, how many pieces do they have left in total?\\nAnswer: Leah had 32 chocolates and Leah’s sister had 42. That means there were originally 32 + 42 = 74 chocolates. 35 have been eaten. So in total they still have 74 - 35 = 39 chocolates. The answer is #### 39.<|eot_id|><|start_header_id|>user<|end_header_id|>\\n\\nExample Problem example4: Jason had 20 lollipops. He gave Denny some lollipops. Now Jason has 12 lollipops. How many lollipops did Jason give to Denny?\\nAnswer: Jason had 20 lollipops. Since he only has 12 now, he must have given the rest to Denny. The number of lollipops he has given to Denny must have been 20 - 12 = 8 lollipops. The answer is #### 8.<|eot_id|><|start_header_id|>user<|end_header_id|>\\n\\nExample Problem example5: Shawn has five toys. For Christmas, he got two toys each from his mom and dad. How many toys does he have now?\\nAnswer: He has 5 toys. He got 2 from mom, so after that he has 5 + 2 = 7 toys. Then he got 2 more from dad, so in total he has 7 + 2 = 9 toys. The answer is #### 9.<|eot_id|><|start_header_id|>user<|end_header_id|>\\n\\nExample Problem example6: There were nine computers in the server room. Five more computers were installed each day, from Monday to Thursday. How many computers are now in the server room?\\nAnswer: There are 4 days from Monday to Thursday. 5 computers were added each day. That means in total 4 * 5 = 20 computers were added. There were 9 computers in the beginning, so now there are 9 + 20 = 29 computers. The answer is #### 29.<|eot_id|><|start_header_id|>user<|end_header_id|>\\n\\nExample Problem example7: Michael had 58 golf balls. On Tuesday, he lost 23 golf balls. On Wednesday, he lost 2 more. How many golf balls did he have at the end of Wednesday?\\nAnswer: Michael initially had 58 balls. He lost 23 on Tuesday, so after that he has 58 - 23 = 35 balls. On Wednesday he lost 2 more so now he has 35 - 2 = 33 balls. The answer is #### 33.<|eot_id|><|start_header_id|>user<|end_header_id|>\\n\\nExample Problem example8: Olivia has $23. She bought five bagels for $3 each. How much money does she have left?\\nAnswer: She bought 5 bagels for $3 each. This means she spent 5 * $3 = $15 on the bagels. She had $23 in beginning, so now she has $23 - $15 = $8. The answer is #### 8.<|eot_id|><|start_header_id|>user<|end_header_id|>\\n\\nSolve the following mathematical problem: Josh decides to try flipping a house.  He buys a house for $80,000 and then puts in $50,000 in repairs.  This increased the value of the house by 150%.  How much profit did he make? Ensure your final answer is presented within the format '#### {numeric answer}'.<|eot_id|><|start_header_id|>assistant<|end_header_id|>\\n\\nLet's break it down step by step:\\n\\n1. Josh buys the house for $80,000.\\n2. He puts in $50,000 in repairs, which increases the value of the house.\\n3. The value of the house is increased by 150%, which means the new value is 150% of the original value.\\n\\nTo find the new value, multiply the original value by 1.5:\\n\\n$80,000 x 1.5 = $120,000\\n\\nSo, the new value of the house is $120,000.\\n\\n4. Josh bought the house for $80,000 and sold it for $120,000, so his profit is the difference between the two:\\n\\n$120,000 - $80,000 = $40,000\\n\\nThe answer is #### 40000.\",\n",
       " \"<|begin_of_text|><|start_header_id|>system<|end_header_id|>\\n\\nYou are a methodical mathematician, adept at solving complex mathematical problems. Conclude your explanation with the answer in a '#### {numeric answer}' format, where the answer is solely a number.<|eot_id|><|start_header_id|>user<|end_header_id|>\\n\\nExample Problem example1: There are 15 trees in the grove. Grove workers will plant trees in the grove today. After they are done, there will be 21 trees. How many trees did the grove workers plant today?\\nAnswer: We start with 15 trees. Later we have 21 trees.The difference must be the number of trees they planted. So, they must have planted 21-15=6 trees.The answer is #### 6.<|eot_id|><|start_header_id|>user<|end_header_id|>\\n\\nExample Problem example2: If there are 3 cars in the parking lot and 2 more cars arrive, how many cars are in the parking lot?\\nAnswer: There are 3 cars in the parking lot already. 2 more arrive. Now there are 3 + 2 = 5 cars. The answer is #### 5.<|eot_id|><|start_header_id|>user<|end_header_id|>\\n\\nExample Problem example3: Leah had 32 chocolates and her sister had 42. If they ate 35, how many pieces do they have left in total?\\nAnswer: Leah had 32 chocolates and Leah’s sister had 42. That means there were originally 32 + 42 = 74 chocolates. 35 have been eaten. So in total they still have 74 - 35 = 39 chocolates. The answer is #### 39.<|eot_id|><|start_header_id|>user<|end_header_id|>\\n\\nExample Problem example4: Jason had 20 lollipops. He gave Denny some lollipops. Now Jason has 12 lollipops. How many lollipops did Jason give to Denny?\\nAnswer: Jason had 20 lollipops. Since he only has 12 now, he must have given the rest to Denny. The number of lollipops he has given to Denny must have been 20 - 12 = 8 lollipops. The answer is #### 8.<|eot_id|><|start_header_id|>user<|end_header_id|>\\n\\nExample Problem example5: Shawn has five toys. For Christmas, he got two toys each from his mom and dad. How many toys does he have now?\\nAnswer: He has 5 toys. He got 2 from mom, so after that he has 5 + 2 = 7 toys. Then he got 2 more from dad, so in total he has 7 + 2 = 9 toys. The answer is #### 9.<|eot_id|><|start_header_id|>user<|end_header_id|>\\n\\nExample Problem example6: There were nine computers in the server room. Five more computers were installed each day, from Monday to Thursday. How many computers are now in the server room?\\nAnswer: There are 4 days from Monday to Thursday. 5 computers were added each day. That means in total 4 * 5 = 20 computers were added. There were 9 computers in the beginning, so now there are 9 + 20 = 29 computers. The answer is #### 29.<|eot_id|><|start_header_id|>user<|end_header_id|>\\n\\nExample Problem example7: Michael had 58 golf balls. On Tuesday, he lost 23 golf balls. On Wednesday, he lost 2 more. How many golf balls did he have at the end of Wednesday?\\nAnswer: Michael initially had 58 balls. He lost 23 on Tuesday, so after that he has 58 - 23 = 35 balls. On Wednesday he lost 2 more so now he has 35 - 2 = 33 balls. The answer is #### 33.<|eot_id|><|start_header_id|>user<|end_header_id|>\\n\\nExample Problem example8: Olivia has $23. She bought five bagels for $3 each. How much money does she have left?\\nAnswer: She bought 5 bagels for $3 each. This means she spent 5 * $3 = $15 on the bagels. She had $23 in beginning, so now she has $23 - $15 = $8. The answer is #### 8.<|eot_id|><|start_header_id|>user<|end_header_id|>\\n\\nSolve the following mathematical problem: Josh decides to try flipping a house.  He buys a house for $80,000 and then puts in $50,000 in repairs.  This increased the value of the house by 150%.  How much profit did he make? Ensure your final answer is presented within the format '#### {numeric answer}'.<|eot_id|><|start_header_id|>assistant<|end_header_id|>\\n\\nLet's break it down step by step:\\n\\n1. Josh buys the house for $80,000.\\n2. He puts in $50,000 in repairs, which increases the value of the house.\\n3. The value of the house is increased by 150%, which means the new value is 150% of the original value.\\n\\nTo find the new value, multiply the original value by 1.5:\\n\\n$80,000 x 1.5 = $120,000\\n\\nSo, the new value of the house is $120,000.\\n\\n4. Josh bought the house for $80,000 and sold it for $120,000, so his profit is the difference between the two:\\n\\n$120,000 - $80,000 = $40,000\\n\\nThe answer is #### 40000.\",\n",
       " \"<|begin_of_text|><|start_header_id|>system<|end_header_id|>\\n\\nYou are a methodical mathematician, adept at solving complex mathematical problems. Conclude your explanation with the answer in a '#### {numeric answer}' format, where the answer is solely a number.<|eot_id|><|start_header_id|>user<|end_header_id|>\\n\\nExample Problem example1: There are 15 trees in the grove. Grove workers will plant trees in the grove today. After they are done, there will be 21 trees. How many trees did the grove workers plant today?\\nAnswer: We start with 15 trees. Later we have 21 trees.The difference must be the number of trees they planted. So, they must have planted 21-15=6 trees.The answer is #### 6.<|eot_id|><|start_header_id|>user<|end_header_id|>\\n\\nExample Problem example2: If there are 3 cars in the parking lot and 2 more cars arrive, how many cars are in the parking lot?\\nAnswer: There are 3 cars in the parking lot already. 2 more arrive. Now there are 3 + 2 = 5 cars. The answer is #### 5.<|eot_id|><|start_header_id|>user<|end_header_id|>\\n\\nExample Problem example3: Leah had 32 chocolates and her sister had 42. If they ate 35, how many pieces do they have left in total?\\nAnswer: Leah had 32 chocolates and Leah’s sister had 42. That means there were originally 32 + 42 = 74 chocolates. 35 have been eaten. So in total they still have 74 - 35 = 39 chocolates. The answer is #### 39.<|eot_id|><|start_header_id|>user<|end_header_id|>\\n\\nExample Problem example4: Jason had 20 lollipops. He gave Denny some lollipops. Now Jason has 12 lollipops. How many lollipops did Jason give to Denny?\\nAnswer: Jason had 20 lollipops. Since he only has 12 now, he must have given the rest to Denny. The number of lollipops he has given to Denny must have been 20 - 12 = 8 lollipops. The answer is #### 8.<|eot_id|><|start_header_id|>user<|end_header_id|>\\n\\nExample Problem example5: Shawn has five toys. For Christmas, he got two toys each from his mom and dad. How many toys does he have now?\\nAnswer: He has 5 toys. He got 2 from mom, so after that he has 5 + 2 = 7 toys. Then he got 2 more from dad, so in total he has 7 + 2 = 9 toys. The answer is #### 9.<|eot_id|><|start_header_id|>user<|end_header_id|>\\n\\nExample Problem example6: There were nine computers in the server room. Five more computers were installed each day, from Monday to Thursday. How many computers are now in the server room?\\nAnswer: There are 4 days from Monday to Thursday. 5 computers were added each day. That means in total 4 * 5 = 20 computers were added. There were 9 computers in the beginning, so now there are 9 + 20 = 29 computers. The answer is #### 29.<|eot_id|><|start_header_id|>user<|end_header_id|>\\n\\nExample Problem example7: Michael had 58 golf balls. On Tuesday, he lost 23 golf balls. On Wednesday, he lost 2 more. How many golf balls did he have at the end of Wednesday?\\nAnswer: Michael initially had 58 balls. He lost 23 on Tuesday, so after that he has 58 - 23 = 35 balls. On Wednesday he lost 2 more so now he has 35 - 2 = 33 balls. The answer is #### 33.<|eot_id|><|start_header_id|>user<|end_header_id|>\\n\\nExample Problem example8: Olivia has $23. She bought five bagels for $3 each. How much money does she have left?\\nAnswer: She bought 5 bagels for $3 each. This means she spent 5 * $3 = $15 on the bagels. She had $23 in beginning, so now she has $23 - $15 = $8. The answer is #### 8.<|eot_id|><|start_header_id|>user<|end_header_id|>\\n\\nSolve the following mathematical problem: Josh decides to try flipping a house.  He buys a house for $80,000 and then puts in $50,000 in repairs.  This increased the value of the house by 150%.  How much profit did he make? Ensure your final answer is presented within the format '#### {numeric answer}'.<|eot_id|><|start_header_id|>assistant<|end_header_id|>\\n\\nLet's break it down step by step:\\n\\n1. Josh buys the house for $80,000.\\n2. He puts in $50,000 in repairs, which increases the value of the house.\\n3. The value of the house is increased by 150%, which means the new value is 150% of the original value.\\n\\nTo find the new value, multiply the original value by 1.5:\\n\\n$80,000 x 1.5 = $120,000\\n\\nSo, the new value of the house is $120,000.\\n\\n4. Josh bought the house for $80,000 and sold it for $120,000, so his profit is the difference between the two:\\n\\n$120,000 - $80,000 = $40,000\\n\\nThe answer is #### 40000.\",\n",
       " \"<|begin_of_text|><|start_header_id|>system<|end_header_id|>\\n\\nYou are a methodical mathematician, adept at solving complex mathematical problems. Conclude your explanation with the answer in a '#### {numeric answer}' format, where the answer is solely a number.<|eot_id|><|start_header_id|>user<|end_header_id|>\\n\\nExample Problem example1: There are 15 trees in the grove. Grove workers will plant trees in the grove today. After they are done, there will be 21 trees. How many trees did the grove workers plant today?\\nAnswer: We start with 15 trees. Later we have 21 trees.The difference must be the number of trees they planted. So, they must have planted 21-15=6 trees.The answer is #### 6.<|eot_id|><|start_header_id|>user<|end_header_id|>\\n\\nExample Problem example2: If there are 3 cars in the parking lot and 2 more cars arrive, how many cars are in the parking lot?\\nAnswer: There are 3 cars in the parking lot already. 2 more arrive. Now there are 3 + 2 = 5 cars. The answer is #### 5.<|eot_id|><|start_header_id|>user<|end_header_id|>\\n\\nExample Problem example3: Leah had 32 chocolates and her sister had 42. If they ate 35, how many pieces do they have left in total?\\nAnswer: Leah had 32 chocolates and Leah’s sister had 42. That means there were originally 32 + 42 = 74 chocolates. 35 have been eaten. So in total they still have 74 - 35 = 39 chocolates. The answer is #### 39.<|eot_id|><|start_header_id|>user<|end_header_id|>\\n\\nExample Problem example4: Jason had 20 lollipops. He gave Denny some lollipops. Now Jason has 12 lollipops. How many lollipops did Jason give to Denny?\\nAnswer: Jason had 20 lollipops. Since he only has 12 now, he must have given the rest to Denny. The number of lollipops he has given to Denny must have been 20 - 12 = 8 lollipops. The answer is #### 8.<|eot_id|><|start_header_id|>user<|end_header_id|>\\n\\nExample Problem example5: Shawn has five toys. For Christmas, he got two toys each from his mom and dad. How many toys does he have now?\\nAnswer: He has 5 toys. He got 2 from mom, so after that he has 5 + 2 = 7 toys. Then he got 2 more from dad, so in total he has 7 + 2 = 9 toys. The answer is #### 9.<|eot_id|><|start_header_id|>user<|end_header_id|>\\n\\nExample Problem example6: There were nine computers in the server room. Five more computers were installed each day, from Monday to Thursday. How many computers are now in the server room?\\nAnswer: There are 4 days from Monday to Thursday. 5 computers were added each day. That means in total 4 * 5 = 20 computers were added. There were 9 computers in the beginning, so now there are 9 + 20 = 29 computers. The answer is #### 29.<|eot_id|><|start_header_id|>user<|end_header_id|>\\n\\nExample Problem example7: Michael had 58 golf balls. On Tuesday, he lost 23 golf balls. On Wednesday, he lost 2 more. How many golf balls did he have at the end of Wednesday?\\nAnswer: Michael initially had 58 balls. He lost 23 on Tuesday, so after that he has 58 - 23 = 35 balls. On Wednesday he lost 2 more so now he has 35 - 2 = 33 balls. The answer is #### 33.<|eot_id|><|start_header_id|>user<|end_header_id|>\\n\\nExample Problem example8: Olivia has $23. She bought five bagels for $3 each. How much money does she have left?\\nAnswer: She bought 5 bagels for $3 each. This means she spent 5 * $3 = $15 on the bagels. She had $23 in beginning, so now she has $23 - $15 = $8. The answer is #### 8.<|eot_id|><|start_header_id|>user<|end_header_id|>\\n\\nSolve the following mathematical problem: Josh decides to try flipping a house.  He buys a house for $80,000 and then puts in $50,000 in repairs.  This increased the value of the house by 150%.  How much profit did he make? Ensure your final answer is presented within the format '#### {numeric answer}'.<|eot_id|><|start_header_id|>assistant<|end_header_id|>\\n\\nLet's break it down step by step:\\n\\n1. Josh buys a house for $80,000.\\n2. He puts in $50,000 in repairs, which increases the value of the house.\\n3. The value of the house increases by 150%, which means the new value is 150% of the original value.\\n\\nTo find the new value, multiply the original value by 1.5 (150% is equivalent to 1.5):\\n\\n$80,000 x 1.5 = $120,000\\n\\nSo, the new value of the house is $120,000.\\n\\n4. Josh sells the house for $120,000. To find the profit, subtract the initial cost from the selling price:\\n\\n$120,000 - $80,000 - $50,000 = $30,000\\n\\nJosh made a profit of $30,000.\\n\\nThe answer is #### 30000.\",\n",
       " \"<|begin_of_text|><|start_header_id|>system<|end_header_id|>\\n\\nYou are a methodical mathematician, adept at solving complex mathematical problems. Conclude your explanation with the answer in a '#### {numeric answer}' format, where the answer is solely a number.<|eot_id|><|start_header_id|>user<|end_header_id|>\\n\\nExample Problem example1: There are 15 trees in the grove. Grove workers will plant trees in the grove today. After they are done, there will be 21 trees. How many trees did the grove workers plant today?\\nAnswer: We start with 15 trees. Later we have 21 trees.The difference must be the number of trees they planted. So, they must have planted 21-15=6 trees.The answer is #### 6.<|eot_id|><|start_header_id|>user<|end_header_id|>\\n\\nExample Problem example2: If there are 3 cars in the parking lot and 2 more cars arrive, how many cars are in the parking lot?\\nAnswer: There are 3 cars in the parking lot already. 2 more arrive. Now there are 3 + 2 = 5 cars. The answer is #### 5.<|eot_id|><|start_header_id|>user<|end_header_id|>\\n\\nExample Problem example3: Leah had 32 chocolates and her sister had 42. If they ate 35, how many pieces do they have left in total?\\nAnswer: Leah had 32 chocolates and Leah’s sister had 42. That means there were originally 32 + 42 = 74 chocolates. 35 have been eaten. So in total they still have 74 - 35 = 39 chocolates. The answer is #### 39.<|eot_id|><|start_header_id|>user<|end_header_id|>\\n\\nExample Problem example4: Jason had 20 lollipops. He gave Denny some lollipops. Now Jason has 12 lollipops. How many lollipops did Jason give to Denny?\\nAnswer: Jason had 20 lollipops. Since he only has 12 now, he must have given the rest to Denny. The number of lollipops he has given to Denny must have been 20 - 12 = 8 lollipops. The answer is #### 8.<|eot_id|><|start_header_id|>user<|end_header_id|>\\n\\nExample Problem example5: Shawn has five toys. For Christmas, he got two toys each from his mom and dad. How many toys does he have now?\\nAnswer: He has 5 toys. He got 2 from mom, so after that he has 5 + 2 = 7 toys. Then he got 2 more from dad, so in total he has 7 + 2 = 9 toys. The answer is #### 9.<|eot_id|><|start_header_id|>user<|end_header_id|>\\n\\nExample Problem example6: There were nine computers in the server room. Five more computers were installed each day, from Monday to Thursday. How many computers are now in the server room?\\nAnswer: There are 4 days from Monday to Thursday. 5 computers were added each day. That means in total 4 * 5 = 20 computers were added. There were 9 computers in the beginning, so now there are 9 + 20 = 29 computers. The answer is #### 29.<|eot_id|><|start_header_id|>user<|end_header_id|>\\n\\nExample Problem example7: Michael had 58 golf balls. On Tuesday, he lost 23 golf balls. On Wednesday, he lost 2 more. How many golf balls did he have at the end of Wednesday?\\nAnswer: Michael initially had 58 balls. He lost 23 on Tuesday, so after that he has 58 - 23 = 35 balls. On Wednesday he lost 2 more so now he has 35 - 2 = 33 balls. The answer is #### 33.<|eot_id|><|start_header_id|>user<|end_header_id|>\\n\\nExample Problem example8: Olivia has $23. She bought five bagels for $3 each. How much money does she have left?\\nAnswer: She bought 5 bagels for $3 each. This means she spent 5 * $3 = $15 on the bagels. She had $23 in beginning, so now she has $23 - $15 = $8. The answer is #### 8.<|eot_id|><|start_header_id|>user<|end_header_id|>\\n\\nSolve the following mathematical problem: Josh decides to try flipping a house.  He buys a house for $80,000 and then puts in $50,000 in repairs.  This increased the value of the house by 150%.  How much profit did he make? Ensure your final answer is presented within the format '#### {numeric answer}'.<|eot_id|><|start_header_id|>assistant<|end_header_id|>\\n\\nLet's break it down step by step:\\n\\n1. Josh buys a house for $80,000.\\n2. He puts in $50,000 in repairs, which increases the value of the house.\\n3. The value of the house increases by 150%, which means the new value is 150% of the original value.\\n\\nTo find the new value, multiply the original value by 1.5 (150% is equivalent to 1.5):\\n\\n$80,000 x 1.5 = $120,000\\n\\nSo, the new value of the house is $120,000.\\n\\n4. Josh sells the house for $120,000. To find the profit, subtract the initial cost from the selling price:\\n\\n$120,000 - $80,000 - $50,000 = $30,000\\n\\nJosh made a profit of $30,000.\\n\\nThe answer is #### 30000.\",\n",
       " \"<|begin_of_text|><|start_header_id|>system<|end_header_id|>\\n\\nYou are a methodical mathematician, adept at solving complex mathematical problems. Conclude your explanation with the answer in a '#### {numeric answer}' format, where the answer is solely a number.<|eot_id|><|start_header_id|>user<|end_header_id|>\\n\\nExample Problem example1: There are 15 trees in the grove. Grove workers will plant trees in the grove today. After they are done, there will be 21 trees. How many trees did the grove workers plant today?\\nAnswer: We start with 15 trees. Later we have 21 trees.The difference must be the number of trees they planted. So, they must have planted 21-15=6 trees.The answer is #### 6.<|eot_id|><|start_header_id|>user<|end_header_id|>\\n\\nExample Problem example2: If there are 3 cars in the parking lot and 2 more cars arrive, how many cars are in the parking lot?\\nAnswer: There are 3 cars in the parking lot already. 2 more arrive. Now there are 3 + 2 = 5 cars. The answer is #### 5.<|eot_id|><|start_header_id|>user<|end_header_id|>\\n\\nExample Problem example3: Leah had 32 chocolates and her sister had 42. If they ate 35, how many pieces do they have left in total?\\nAnswer: Leah had 32 chocolates and Leah’s sister had 42. That means there were originally 32 + 42 = 74 chocolates. 35 have been eaten. So in total they still have 74 - 35 = 39 chocolates. The answer is #### 39.<|eot_id|><|start_header_id|>user<|end_header_id|>\\n\\nExample Problem example4: Jason had 20 lollipops. He gave Denny some lollipops. Now Jason has 12 lollipops. How many lollipops did Jason give to Denny?\\nAnswer: Jason had 20 lollipops. Since he only has 12 now, he must have given the rest to Denny. The number of lollipops he has given to Denny must have been 20 - 12 = 8 lollipops. The answer is #### 8.<|eot_id|><|start_header_id|>user<|end_header_id|>\\n\\nExample Problem example5: Shawn has five toys. For Christmas, he got two toys each from his mom and dad. How many toys does he have now?\\nAnswer: He has 5 toys. He got 2 from mom, so after that he has 5 + 2 = 7 toys. Then he got 2 more from dad, so in total he has 7 + 2 = 9 toys. The answer is #### 9.<|eot_id|><|start_header_id|>user<|end_header_id|>\\n\\nExample Problem example6: There were nine computers in the server room. Five more computers were installed each day, from Monday to Thursday. How many computers are now in the server room?\\nAnswer: There are 4 days from Monday to Thursday. 5 computers were added each day. That means in total 4 * 5 = 20 computers were added. There were 9 computers in the beginning, so now there are 9 + 20 = 29 computers. The answer is #### 29.<|eot_id|><|start_header_id|>user<|end_header_id|>\\n\\nExample Problem example7: Michael had 58 golf balls. On Tuesday, he lost 23 golf balls. On Wednesday, he lost 2 more. How many golf balls did he have at the end of Wednesday?\\nAnswer: Michael initially had 58 balls. He lost 23 on Tuesday, so after that he has 58 - 23 = 35 balls. On Wednesday he lost 2 more so now he has 35 - 2 = 33 balls. The answer is #### 33.<|eot_id|><|start_header_id|>user<|end_header_id|>\\n\\nExample Problem example8: Olivia has $23. She bought five bagels for $3 each. How much money does she have left?\\nAnswer: She bought 5 bagels for $3 each. This means she spent 5 * $3 = $15 on the bagels. She had $23 in beginning, so now she has $23 - $15 = $8. The answer is #### 8.<|eot_id|><|start_header_id|>user<|end_header_id|>\\n\\nSolve the following mathematical problem: Josh decides to try flipping a house.  He buys a house for $80,000 and then puts in $50,000 in repairs.  This increased the value of the house by 150%.  How much profit did he make? Ensure your final answer is presented within the format '#### {numeric answer}'.<|eot_id|><|start_header_id|>assistant<|end_header_id|>\\n\\nLet's break it down step by step:\\n\\n1. Josh buys a house for $80,000.\\n2. He puts in $50,000 in repairs, which increases the value of the house.\\n3. The value of the house increases by 150%, which means the new value is 150% of the original value.\\n\\nTo find the new value, multiply the original value by 1.5 (150% is equivalent to 1.5):\\n\\n$80,000 x 1.5 = $120,000\\n\\nSo, the new value of the house is $120,000.\\n\\n4. Josh sells the house for $120,000. To find the profit, subtract the initial cost from the selling price:\\n\\n$120,000 - $80,000 - $50,000 = $30,000\\n\\nJosh made a profit of $30,000.\\n\\nThe answer is #### 30000.\",\n",
       " \"<|begin_of_text|><|start_header_id|>system<|end_header_id|>\\n\\nYou are a methodical mathematician, adept at solving complex mathematical problems. Conclude your explanation with the answer in a '#### {numeric answer}' format, where the answer is solely a number.<|eot_id|><|start_header_id|>user<|end_header_id|>\\n\\nExample Problem example1: There are 15 trees in the grove. Grove workers will plant trees in the grove today. After they are done, there will be 21 trees. How many trees did the grove workers plant today?\\nAnswer: We start with 15 trees. Later we have 21 trees.The difference must be the number of trees they planted. So, they must have planted 21-15=6 trees.The answer is #### 6.<|eot_id|><|start_header_id|>user<|end_header_id|>\\n\\nExample Problem example2: If there are 3 cars in the parking lot and 2 more cars arrive, how many cars are in the parking lot?\\nAnswer: There are 3 cars in the parking lot already. 2 more arrive. Now there are 3 + 2 = 5 cars. The answer is #### 5.<|eot_id|><|start_header_id|>user<|end_header_id|>\\n\\nExample Problem example3: Leah had 32 chocolates and her sister had 42. If they ate 35, how many pieces do they have left in total?\\nAnswer: Leah had 32 chocolates and Leah’s sister had 42. That means there were originally 32 + 42 = 74 chocolates. 35 have been eaten. So in total they still have 74 - 35 = 39 chocolates. The answer is #### 39.<|eot_id|><|start_header_id|>user<|end_header_id|>\\n\\nExample Problem example4: Jason had 20 lollipops. He gave Denny some lollipops. Now Jason has 12 lollipops. How many lollipops did Jason give to Denny?\\nAnswer: Jason had 20 lollipops. Since he only has 12 now, he must have given the rest to Denny. The number of lollipops he has given to Denny must have been 20 - 12 = 8 lollipops. The answer is #### 8.<|eot_id|><|start_header_id|>user<|end_header_id|>\\n\\nExample Problem example5: Shawn has five toys. For Christmas, he got two toys each from his mom and dad. How many toys does he have now?\\nAnswer: He has 5 toys. He got 2 from mom, so after that he has 5 + 2 = 7 toys. Then he got 2 more from dad, so in total he has 7 + 2 = 9 toys. The answer is #### 9.<|eot_id|><|start_header_id|>user<|end_header_id|>\\n\\nExample Problem example6: There were nine computers in the server room. Five more computers were installed each day, from Monday to Thursday. How many computers are now in the server room?\\nAnswer: There are 4 days from Monday to Thursday. 5 computers were added each day. That means in total 4 * 5 = 20 computers were added. There were 9 computers in the beginning, so now there are 9 + 20 = 29 computers. The answer is #### 29.<|eot_id|><|start_header_id|>user<|end_header_id|>\\n\\nExample Problem example7: Michael had 58 golf balls. On Tuesday, he lost 23 golf balls. On Wednesday, he lost 2 more. How many golf balls did he have at the end of Wednesday?\\nAnswer: Michael initially had 58 balls. He lost 23 on Tuesday, so after that he has 58 - 23 = 35 balls. On Wednesday he lost 2 more so now he has 35 - 2 = 33 balls. The answer is #### 33.<|eot_id|><|start_header_id|>user<|end_header_id|>\\n\\nExample Problem example8: Olivia has $23. She bought five bagels for $3 each. How much money does she have left?\\nAnswer: She bought 5 bagels for $3 each. This means she spent 5 * $3 = $15 on the bagels. She had $23 in beginning, so now she has $23 - $15 = $8. The answer is #### 8.<|eot_id|><|start_header_id|>user<|end_header_id|>\\n\\nSolve the following mathematical problem: Josh decides to try flipping a house.  He buys a house for $80,000 and then puts in $50,000 in repairs.  This increased the value of the house by 150%.  How much profit did he make? Ensure your final answer is presented within the format '#### {numeric answer}'.<|eot_id|><|start_header_id|>assistant<|end_header_id|>\\n\\nLet's break this problem down step by step:\\n\\n1. Josh buys the house for $80,000 and puts in $50,000 in repairs, so the total amount he spends is $80,000 + $50,000 = $130,000.\\n2. The repairs increase the value of the house by 150%, which means the new value of the house is 150% of the original value.\\n3. To find the new value of the house, multiply the original value by 1.5 (150% is the same as 1.5 as a decimal): $80,000 x 1.5 = $120,000.\\n4. Since Josh spent $130,000 and the house is now worth $120,000, he has made a loss of $130,000 - $120,000 = $10,000.\\n\\nSo, Josh made a loss of #### -10,000.\",\n",
       " \"<|begin_of_text|><|start_header_id|>system<|end_header_id|>\\n\\nYou are a methodical mathematician, adept at solving complex mathematical problems. Conclude your explanation with the answer in a '#### {numeric answer}' format, where the answer is solely a number.<|eot_id|><|start_header_id|>user<|end_header_id|>\\n\\nExample Problem example1: There are 15 trees in the grove. Grove workers will plant trees in the grove today. After they are done, there will be 21 trees. How many trees did the grove workers plant today?\\nAnswer: We start with 15 trees. Later we have 21 trees.The difference must be the number of trees they planted. So, they must have planted 21-15=6 trees.The answer is #### 6.<|eot_id|><|start_header_id|>user<|end_header_id|>\\n\\nExample Problem example2: If there are 3 cars in the parking lot and 2 more cars arrive, how many cars are in the parking lot?\\nAnswer: There are 3 cars in the parking lot already. 2 more arrive. Now there are 3 + 2 = 5 cars. The answer is #### 5.<|eot_id|><|start_header_id|>user<|end_header_id|>\\n\\nExample Problem example3: Leah had 32 chocolates and her sister had 42. If they ate 35, how many pieces do they have left in total?\\nAnswer: Leah had 32 chocolates and Leah’s sister had 42. That means there were originally 32 + 42 = 74 chocolates. 35 have been eaten. So in total they still have 74 - 35 = 39 chocolates. The answer is #### 39.<|eot_id|><|start_header_id|>user<|end_header_id|>\\n\\nExample Problem example4: Jason had 20 lollipops. He gave Denny some lollipops. Now Jason has 12 lollipops. How many lollipops did Jason give to Denny?\\nAnswer: Jason had 20 lollipops. Since he only has 12 now, he must have given the rest to Denny. The number of lollipops he has given to Denny must have been 20 - 12 = 8 lollipops. The answer is #### 8.<|eot_id|><|start_header_id|>user<|end_header_id|>\\n\\nExample Problem example5: Shawn has five toys. For Christmas, he got two toys each from his mom and dad. How many toys does he have now?\\nAnswer: He has 5 toys. He got 2 from mom, so after that he has 5 + 2 = 7 toys. Then he got 2 more from dad, so in total he has 7 + 2 = 9 toys. The answer is #### 9.<|eot_id|><|start_header_id|>user<|end_header_id|>\\n\\nExample Problem example6: There were nine computers in the server room. Five more computers were installed each day, from Monday to Thursday. How many computers are now in the server room?\\nAnswer: There are 4 days from Monday to Thursday. 5 computers were added each day. That means in total 4 * 5 = 20 computers were added. There were 9 computers in the beginning, so now there are 9 + 20 = 29 computers. The answer is #### 29.<|eot_id|><|start_header_id|>user<|end_header_id|>\\n\\nExample Problem example7: Michael had 58 golf balls. On Tuesday, he lost 23 golf balls. On Wednesday, he lost 2 more. How many golf balls did he have at the end of Wednesday?\\nAnswer: Michael initially had 58 balls. He lost 23 on Tuesday, so after that he has 58 - 23 = 35 balls. On Wednesday he lost 2 more so now he has 35 - 2 = 33 balls. The answer is #### 33.<|eot_id|><|start_header_id|>user<|end_header_id|>\\n\\nExample Problem example8: Olivia has $23. She bought five bagels for $3 each. How much money does she have left?\\nAnswer: She bought 5 bagels for $3 each. This means she spent 5 * $3 = $15 on the bagels. She had $23 in beginning, so now she has $23 - $15 = $8. The answer is #### 8.<|eot_id|><|start_header_id|>user<|end_header_id|>\\n\\nSolve the following mathematical problem: Josh decides to try flipping a house.  He buys a house for $80,000 and then puts in $50,000 in repairs.  This increased the value of the house by 150%.  How much profit did he make? Ensure your final answer is presented within the format '#### {numeric answer}'.<|eot_id|><|start_header_id|>assistant<|end_header_id|>\\n\\nLet's break this problem down step by step:\\n\\n1. Josh buys the house for $80,000 and puts in $50,000 in repairs, so the total amount he spends is $80,000 + $50,000 = $130,000.\\n2. The repairs increase the value of the house by 150%, which means the new value of the house is 150% of the original value.\\n3. To find the new value of the house, multiply the original value by 1.5 (150% is the same as 1.5 as a decimal): $80,000 x 1.5 = $120,000.\\n4. Since Josh spent $130,000 and the house is now worth $120,000, he has made a loss of $130,000 - $120,000 = $10,000.\\n\\nSo, Josh made a loss of #### -10,000.\",\n",
       " \"<|begin_of_text|><|start_header_id|>system<|end_header_id|>\\n\\nYou are a methodical mathematician, adept at solving complex mathematical problems. Conclude your explanation with the answer in a '#### {numeric answer}' format, where the answer is solely a number.<|eot_id|><|start_header_id|>user<|end_header_id|>\\n\\nExample Problem example1: There are 15 trees in the grove. Grove workers will plant trees in the grove today. After they are done, there will be 21 trees. How many trees did the grove workers plant today?\\nAnswer: We start with 15 trees. Later we have 21 trees.The difference must be the number of trees they planted. So, they must have planted 21-15=6 trees.The answer is #### 6.<|eot_id|><|start_header_id|>user<|end_header_id|>\\n\\nExample Problem example2: If there are 3 cars in the parking lot and 2 more cars arrive, how many cars are in the parking lot?\\nAnswer: There are 3 cars in the parking lot already. 2 more arrive. Now there are 3 + 2 = 5 cars. The answer is #### 5.<|eot_id|><|start_header_id|>user<|end_header_id|>\\n\\nExample Problem example3: Leah had 32 chocolates and her sister had 42. If they ate 35, how many pieces do they have left in total?\\nAnswer: Leah had 32 chocolates and Leah’s sister had 42. That means there were originally 32 + 42 = 74 chocolates. 35 have been eaten. So in total they still have 74 - 35 = 39 chocolates. The answer is #### 39.<|eot_id|><|start_header_id|>user<|end_header_id|>\\n\\nExample Problem example4: Jason had 20 lollipops. He gave Denny some lollipops. Now Jason has 12 lollipops. How many lollipops did Jason give to Denny?\\nAnswer: Jason had 20 lollipops. Since he only has 12 now, he must have given the rest to Denny. The number of lollipops he has given to Denny must have been 20 - 12 = 8 lollipops. The answer is #### 8.<|eot_id|><|start_header_id|>user<|end_header_id|>\\n\\nExample Problem example5: Shawn has five toys. For Christmas, he got two toys each from his mom and dad. How many toys does he have now?\\nAnswer: He has 5 toys. He got 2 from mom, so after that he has 5 + 2 = 7 toys. Then he got 2 more from dad, so in total he has 7 + 2 = 9 toys. The answer is #### 9.<|eot_id|><|start_header_id|>user<|end_header_id|>\\n\\nExample Problem example6: There were nine computers in the server room. Five more computers were installed each day, from Monday to Thursday. How many computers are now in the server room?\\nAnswer: There are 4 days from Monday to Thursday. 5 computers were added each day. That means in total 4 * 5 = 20 computers were added. There were 9 computers in the beginning, so now there are 9 + 20 = 29 computers. The answer is #### 29.<|eot_id|><|start_header_id|>user<|end_header_id|>\\n\\nExample Problem example7: Michael had 58 golf balls. On Tuesday, he lost 23 golf balls. On Wednesday, he lost 2 more. How many golf balls did he have at the end of Wednesday?\\nAnswer: Michael initially had 58 balls. He lost 23 on Tuesday, so after that he has 58 - 23 = 35 balls. On Wednesday he lost 2 more so now he has 35 - 2 = 33 balls. The answer is #### 33.<|eot_id|><|start_header_id|>user<|end_header_id|>\\n\\nExample Problem example8: Olivia has $23. She bought five bagels for $3 each. How much money does she have left?\\nAnswer: She bought 5 bagels for $3 each. This means she spent 5 * $3 = $15 on the bagels. She had $23 in beginning, so now she has $23 - $15 = $8. The answer is #### 8.<|eot_id|><|start_header_id|>user<|end_header_id|>\\n\\nSolve the following mathematical problem: Josh decides to try flipping a house.  He buys a house for $80,000 and then puts in $50,000 in repairs.  This increased the value of the house by 150%.  How much profit did he make? Ensure your final answer is presented within the format '#### {numeric answer}'.<|eot_id|><|start_header_id|>assistant<|end_header_id|>\\n\\nLet's break this problem down step by step:\\n\\n1. Josh buys the house for $80,000 and puts in $50,000 in repairs, so the total amount he spends is $80,000 + $50,000 = $130,000.\\n2. The repairs increase the value of the house by 150%, which means the new value of the house is 150% of the original value.\\n3. To find the new value of the house, multiply the original value by 1.5 (150% is the same as 1.5 as a decimal): $80,000 x 1.5 = $120,000.\\n4. Since Josh spent $130,000 and the house is now worth $120,000, he has made a loss of $130,000 - $120,000 = $10,000.\\n\\nSo, Josh made a loss of #### -10,000.\",\n",
       " \"<|begin_of_text|><|start_header_id|>system<|end_header_id|>\\n\\nYou are a methodical mathematician, adept at solving complex mathematical problems. Conclude your explanation with the answer in a '#### {numeric answer}' format, where the answer is solely a number.<|eot_id|><|start_header_id|>user<|end_header_id|>\\n\\nExample Problem example1: There are 15 trees in the grove. Grove workers will plant trees in the grove today. After they are done, there will be 21 trees. How many trees did the grove workers plant today?\\nAnswer: We start with 15 trees. Later we have 21 trees.The difference must be the number of trees they planted. So, they must have planted 21-15=6 trees.The answer is #### 6.<|eot_id|><|start_header_id|>user<|end_header_id|>\\n\\nExample Problem example2: If there are 3 cars in the parking lot and 2 more cars arrive, how many cars are in the parking lot?\\nAnswer: There are 3 cars in the parking lot already. 2 more arrive. Now there are 3 + 2 = 5 cars. The answer is #### 5.<|eot_id|><|start_header_id|>user<|end_header_id|>\\n\\nExample Problem example3: Leah had 32 chocolates and her sister had 42. If they ate 35, how many pieces do they have left in total?\\nAnswer: Leah had 32 chocolates and Leah’s sister had 42. That means there were originally 32 + 42 = 74 chocolates. 35 have been eaten. So in total they still have 74 - 35 = 39 chocolates. The answer is #### 39.<|eot_id|><|start_header_id|>user<|end_header_id|>\\n\\nExample Problem example4: Jason had 20 lollipops. He gave Denny some lollipops. Now Jason has 12 lollipops. How many lollipops did Jason give to Denny?\\nAnswer: Jason had 20 lollipops. Since he only has 12 now, he must have given the rest to Denny. The number of lollipops he has given to Denny must have been 20 - 12 = 8 lollipops. The answer is #### 8.<|eot_id|><|start_header_id|>user<|end_header_id|>\\n\\nExample Problem example5: Shawn has five toys. For Christmas, he got two toys each from his mom and dad. How many toys does he have now?\\nAnswer: He has 5 toys. He got 2 from mom, so after that he has 5 + 2 = 7 toys. Then he got 2 more from dad, so in total he has 7 + 2 = 9 toys. The answer is #### 9.<|eot_id|><|start_header_id|>user<|end_header_id|>\\n\\nExample Problem example6: There were nine computers in the server room. Five more computers were installed each day, from Monday to Thursday. How many computers are now in the server room?\\nAnswer: There are 4 days from Monday to Thursday. 5 computers were added each day. That means in total 4 * 5 = 20 computers were added. There were 9 computers in the beginning, so now there are 9 + 20 = 29 computers. The answer is #### 29.<|eot_id|><|start_header_id|>user<|end_header_id|>\\n\\nExample Problem example7: Michael had 58 golf balls. On Tuesday, he lost 23 golf balls. On Wednesday, he lost 2 more. How many golf balls did he have at the end of Wednesday?\\nAnswer: Michael initially had 58 balls. He lost 23 on Tuesday, so after that he has 58 - 23 = 35 balls. On Wednesday he lost 2 more so now he has 35 - 2 = 33 balls. The answer is #### 33.<|eot_id|><|start_header_id|>user<|end_header_id|>\\n\\nExample Problem example8: Olivia has $23. She bought five bagels for $3 each. How much money does she have left?\\nAnswer: She bought 5 bagels for $3 each. This means she spent 5 * $3 = $15 on the bagels. She had $23 in beginning, so now she has $23 - $15 = $8. The answer is #### 8.<|eot_id|><|start_header_id|>user<|end_header_id|>\\n\\nSolve the following mathematical problem: Josh decides to try flipping a house.  He buys a house for $80,000 and then puts in $50,000 in repairs.  This increased the value of the house by 150%.  How much profit did he make? Ensure your final answer is presented within the format '#### {numeric answer}'.<|eot_id|><|start_header_id|>assistant<|end_header_id|>\\n\\nLet's break this problem down step by step:\\n\\n1. Josh buys a house for $80,000.\\n2. He puts in $50,000 in repairs, which increases the value of the house by 150%.\\n3. To find the new value of the house, we need to calculate 150% of the original value: $80,000 x 1.5 = $120,000\\n4. Since the repairs increased the value of the house by 150%, the new value is $120,000.\\n5. To find the profit, we subtract the original cost of the house from the new value: $120,000 - $80,000 = $40,000\\n6. However, we need to subtract the cost of the repairs from the profit: $40,000 - $50,000 = -$10,000\\n7. Since the result is negative, Josh actually lost money on the deal.\\n\\nThe answer is #### -10,000.\",\n",
       " \"<|begin_of_text|><|start_header_id|>system<|end_header_id|>\\n\\nYou are a methodical mathematician, adept at solving complex mathematical problems. Conclude your explanation with the answer in a '#### {numeric answer}' format, where the answer is solely a number.<|eot_id|><|start_header_id|>user<|end_header_id|>\\n\\nExample Problem example1: There are 15 trees in the grove. Grove workers will plant trees in the grove today. After they are done, there will be 21 trees. How many trees did the grove workers plant today?\\nAnswer: We start with 15 trees. Later we have 21 trees.The difference must be the number of trees they planted. So, they must have planted 21-15=6 trees.The answer is #### 6.<|eot_id|><|start_header_id|>user<|end_header_id|>\\n\\nExample Problem example2: If there are 3 cars in the parking lot and 2 more cars arrive, how many cars are in the parking lot?\\nAnswer: There are 3 cars in the parking lot already. 2 more arrive. Now there are 3 + 2 = 5 cars. The answer is #### 5.<|eot_id|><|start_header_id|>user<|end_header_id|>\\n\\nExample Problem example3: Leah had 32 chocolates and her sister had 42. If they ate 35, how many pieces do they have left in total?\\nAnswer: Leah had 32 chocolates and Leah’s sister had 42. That means there were originally 32 + 42 = 74 chocolates. 35 have been eaten. So in total they still have 74 - 35 = 39 chocolates. The answer is #### 39.<|eot_id|><|start_header_id|>user<|end_header_id|>\\n\\nExample Problem example4: Jason had 20 lollipops. He gave Denny some lollipops. Now Jason has 12 lollipops. How many lollipops did Jason give to Denny?\\nAnswer: Jason had 20 lollipops. Since he only has 12 now, he must have given the rest to Denny. The number of lollipops he has given to Denny must have been 20 - 12 = 8 lollipops. The answer is #### 8.<|eot_id|><|start_header_id|>user<|end_header_id|>\\n\\nExample Problem example5: Shawn has five toys. For Christmas, he got two toys each from his mom and dad. How many toys does he have now?\\nAnswer: He has 5 toys. He got 2 from mom, so after that he has 5 + 2 = 7 toys. Then he got 2 more from dad, so in total he has 7 + 2 = 9 toys. The answer is #### 9.<|eot_id|><|start_header_id|>user<|end_header_id|>\\n\\nExample Problem example6: There were nine computers in the server room. Five more computers were installed each day, from Monday to Thursday. How many computers are now in the server room?\\nAnswer: There are 4 days from Monday to Thursday. 5 computers were added each day. That means in total 4 * 5 = 20 computers were added. There were 9 computers in the beginning, so now there are 9 + 20 = 29 computers. The answer is #### 29.<|eot_id|><|start_header_id|>user<|end_header_id|>\\n\\nExample Problem example7: Michael had 58 golf balls. On Tuesday, he lost 23 golf balls. On Wednesday, he lost 2 more. How many golf balls did he have at the end of Wednesday?\\nAnswer: Michael initially had 58 balls. He lost 23 on Tuesday, so after that he has 58 - 23 = 35 balls. On Wednesday he lost 2 more so now he has 35 - 2 = 33 balls. The answer is #### 33.<|eot_id|><|start_header_id|>user<|end_header_id|>\\n\\nExample Problem example8: Olivia has $23. She bought five bagels for $3 each. How much money does she have left?\\nAnswer: She bought 5 bagels for $3 each. This means she spent 5 * $3 = $15 on the bagels. She had $23 in beginning, so now she has $23 - $15 = $8. The answer is #### 8.<|eot_id|><|start_header_id|>user<|end_header_id|>\\n\\nSolve the following mathematical problem: Josh decides to try flipping a house.  He buys a house for $80,000 and then puts in $50,000 in repairs.  This increased the value of the house by 150%.  How much profit did he make? Ensure your final answer is presented within the format '#### {numeric answer}'.<|eot_id|><|start_header_id|>assistant<|end_header_id|>\\n\\nLet's break this problem down step by step:\\n\\n1. Josh buys a house for $80,000.\\n2. He puts in $50,000 in repairs, which increases the value of the house by 150%.\\n3. To find the new value of the house, we need to calculate 150% of the original value: $80,000 x 1.5 = $120,000\\n4. Since the repairs increased the value of the house by 150%, the new value is $120,000.\\n5. To find the profit, we subtract the original cost of the house from the new value: $120,000 - $80,000 = $40,000\\n6. However, we need to subtract the cost of the repairs from the profit: $40,000 - $50,000 = -$10,000\\n7. Since the result is negative, Josh actually lost money on the deal.\\n\\nThe answer is #### -10,000.\",\n",
       " \"<|begin_of_text|><|start_header_id|>system<|end_header_id|>\\n\\nYou are a methodical mathematician, adept at solving complex mathematical problems. Conclude your explanation with the answer in a '#### {numeric answer}' format, where the answer is solely a number.<|eot_id|><|start_header_id|>user<|end_header_id|>\\n\\nExample Problem example1: There are 15 trees in the grove. Grove workers will plant trees in the grove today. After they are done, there will be 21 trees. How many trees did the grove workers plant today?\\nAnswer: We start with 15 trees. Later we have 21 trees.The difference must be the number of trees they planted. So, they must have planted 21-15=6 trees.The answer is #### 6.<|eot_id|><|start_header_id|>user<|end_header_id|>\\n\\nExample Problem example2: If there are 3 cars in the parking lot and 2 more cars arrive, how many cars are in the parking lot?\\nAnswer: There are 3 cars in the parking lot already. 2 more arrive. Now there are 3 + 2 = 5 cars. The answer is #### 5.<|eot_id|><|start_header_id|>user<|end_header_id|>\\n\\nExample Problem example3: Leah had 32 chocolates and her sister had 42. If they ate 35, how many pieces do they have left in total?\\nAnswer: Leah had 32 chocolates and Leah’s sister had 42. That means there were originally 32 + 42 = 74 chocolates. 35 have been eaten. So in total they still have 74 - 35 = 39 chocolates. The answer is #### 39.<|eot_id|><|start_header_id|>user<|end_header_id|>\\n\\nExample Problem example4: Jason had 20 lollipops. He gave Denny some lollipops. Now Jason has 12 lollipops. How many lollipops did Jason give to Denny?\\nAnswer: Jason had 20 lollipops. Since he only has 12 now, he must have given the rest to Denny. The number of lollipops he has given to Denny must have been 20 - 12 = 8 lollipops. The answer is #### 8.<|eot_id|><|start_header_id|>user<|end_header_id|>\\n\\nExample Problem example5: Shawn has five toys. For Christmas, he got two toys each from his mom and dad. How many toys does he have now?\\nAnswer: He has 5 toys. He got 2 from mom, so after that he has 5 + 2 = 7 toys. Then he got 2 more from dad, so in total he has 7 + 2 = 9 toys. The answer is #### 9.<|eot_id|><|start_header_id|>user<|end_header_id|>\\n\\nExample Problem example6: There were nine computers in the server room. Five more computers were installed each day, from Monday to Thursday. How many computers are now in the server room?\\nAnswer: There are 4 days from Monday to Thursday. 5 computers were added each day. That means in total 4 * 5 = 20 computers were added. There were 9 computers in the beginning, so now there are 9 + 20 = 29 computers. The answer is #### 29.<|eot_id|><|start_header_id|>user<|end_header_id|>\\n\\nExample Problem example7: Michael had 58 golf balls. On Tuesday, he lost 23 golf balls. On Wednesday, he lost 2 more. How many golf balls did he have at the end of Wednesday?\\nAnswer: Michael initially had 58 balls. He lost 23 on Tuesday, so after that he has 58 - 23 = 35 balls. On Wednesday he lost 2 more so now he has 35 - 2 = 33 balls. The answer is #### 33.<|eot_id|><|start_header_id|>user<|end_header_id|>\\n\\nExample Problem example8: Olivia has $23. She bought five bagels for $3 each. How much money does she have left?\\nAnswer: She bought 5 bagels for $3 each. This means she spent 5 * $3 = $15 on the bagels. She had $23 in beginning, so now she has $23 - $15 = $8. The answer is #### 8.<|eot_id|><|start_header_id|>user<|end_header_id|>\\n\\nSolve the following mathematical problem: Josh decides to try flipping a house.  He buys a house for $80,000 and then puts in $50,000 in repairs.  This increased the value of the house by 150%.  How much profit did he make? Ensure your final answer is presented within the format '#### {numeric answer}'.<|eot_id|><|start_header_id|>assistant<|end_header_id|>\\n\\nLet's break this problem down step by step:\\n\\n1. Josh buys a house for $80,000.\\n2. He puts in $50,000 in repairs, which increases the value of the house by 150%.\\n3. To find the new value of the house, we need to calculate 150% of the original value: $80,000 x 1.5 = $120,000\\n4. Since the repairs increased the value of the house by 150%, the new value is $120,000.\\n5. To find the profit, we subtract the original cost of the house from the new value: $120,000 - $80,000 = $40,000\\n6. However, we need to subtract the cost of the repairs from the profit: $40,000 - $50,000 = -$10,000\\n7. Since the result is negative, Josh actually lost money on the deal.\\n\\nThe answer is #### -10,000.\"]"
      ]
     },
     "execution_count": 64,
     "metadata": {},
     "output_type": "execute_result"
    }
   ],
   "source": [
    "df3['original_rp'][2]"
   ]
  },
  {
   "cell_type": "code",
   "execution_count": 63,
   "metadata": {},
   "outputs": [
    {
     "data": {
      "text/plain": [
       "'Josh decides to try flipping a house.  He buys a house for $80,000 and then puts in $50,000 in repairs.  This increased the value of the house by 150%.  How much profit did he make?'"
      ]
     },
     "execution_count": 63,
     "metadata": {},
     "output_type": "execute_result"
    }
   ],
   "source": [
    "df3['question'][2]"
   ]
  },
  {
   "cell_type": "code",
   "execution_count": 58,
   "metadata": {},
   "outputs": [
    {
     "data": {
      "text/plain": [
       "163"
      ]
     },
     "execution_count": 58,
     "metadata": {},
     "output_type": "execute_result"
    }
   ],
   "source": [
    "text = \"\"\"<|eot_id|><|start_header_id|>assistant<|end_header_id|>\\n\\nLet's break it down step by step:\\n\\n1. Josh buys a house for $80,000.\\n2. He puts in $50,000 in repairs, which increases the value of the house by 150%.\\n3. To find the new value of the house, we can multiply the original value by 1.5 (since 150% is the same as 1.5 times the original value): $80,000 x 1.5 = $120,000\\n4. Since Josh bought the house for $80,000 and sold it for $120,000, his profit is the difference between the two values: $120,000 - $80,000 = $40,000\\n\\nSo, Josh made a profit of #### 40000.\"\"\"\n",
    "tokenized = tokenizer.encode(text)\n",
    "len(tokenized)"
   ]
  },
  {
   "cell_type": "code",
   "execution_count": 65,
   "metadata": {},
   "outputs": [
    {
     "data": {
      "text/plain": [
       "858"
      ]
     },
     "execution_count": 65,
     "metadata": {},
     "output_type": "execute_result"
    }
   ],
   "source": [
    "from transformers import AutoTokenizer\n",
    "tokenizer = AutoTokenizer.from_pretrained(\"meta-llama/Meta-Llama-3-8B-Instruct\", cache_dir=\"../../hub/tokenizer/\")\n",
    "\n",
    "text = \"\"\"<|begin_of_text|><|start_header_id|>system<|end_header_id|>\\n\\nYou are a methodical mathematician, adept at solving complex mathematical problems. Conclude your explanation with the answer in a '#### {numeric answer}' format, where the answer is solely a number.<|eot_id|><|start_header_id|>user<|end_header_id|>\\n\\nExample Problem example1: There are 15 trees in the grove. Grove workers will plant trees in the grove today. After they are done, there will be 21 trees. How many trees did the grove workers plant today?\\nAnswer: We start with 15 trees. Later we have 21 trees.The difference must be the number of trees they planted. So, they must have planted 21-15=6 trees.The answer is #### 6.<|eot_id|><|start_header_id|>user<|end_header_id|>\\n\\nExample Problem example2: If there are 3 cars in the parking lot and 2 more cars arrive, how many cars are in the parking lot?\\nAnswer: There are 3 cars in the parking lot already. 2 more arrive. Now there are 3 + 2 = 5 cars. The answer is #### 5.<|eot_id|><|start_header_id|>user<|end_header_id|>\\n\\nExample Problem example3: Leah had 32 chocolates and her sister had 42. If they ate 35, how many pieces do they have left in total?\\nAnswer: Leah had 32 chocolates and Leah’s sister had 42. That means there were originally 32 + 42 = 74 chocolates. 35 have been eaten. So in total they still have 74 - 35 = 39 chocolates. The answer is #### 39.<|eot_id|><|start_header_id|>user<|end_header_id|>\\n\\nExample Problem example4: Jason had 20 lollipops. He gave Denny some lollipops. Now Jason has 12 lollipops. How many lollipops did Jason give to Denny?\\nAnswer: Jason had 20 lollipops. Since he only has 12 now, he must have given the rest to Denny. The number of lollipops he has given to Denny must have been 20 - 12 = 8 lollipops. The answer is #### 8.<|eot_id|><|start_header_id|>user<|end_header_id|>\\n\\nExample Problem example5: Shawn has five toys. For Christmas, he got two toys each from his mom and dad. How many toys does he have now?\\nAnswer: He has 5 toys. He got 2 from mom, so after that he has 5 + 2 = 7 toys. Then he got 2 more from dad, so in total he has 7 + 2 = 9 toys. The answer is #### 9.<|eot_id|><|start_header_id|>user<|end_header_id|>\\n\\nExample Problem example6: There were nine computers in the server room. Five more computers were installed each day, from Monday to Thursday. How many computers are now in the server room?\\nAnswer: There are 4 days from Monday to Thursday. 5 computers were added each day. That means in total 4 * 5 = 20 computers were added. There were 9 computers in the beginning, so now there are 9 + 20 = 29 computers. The answer is #### 29.<|eot_id|><|start_header_id|>user<|end_header_id|>\\n\\nExample Problem example7: Michael had 58 golf balls. On Tuesday, he lost 23 golf balls. On Wednesday, he lost 2 more. How many golf balls did he have at the end of Wednesday?\\nAnswer: Michael initially had 58 balls. He lost 23 on Tuesday, so after that he has 58 - 23 = 35 balls. On Wednesday he lost 2 more so now he has 35 - 2 = 33 balls. The answer is #### 33.<|eot_id|><|start_header_id|>user<|end_header_id|>\\n\\nExample Problem example8: Olivia has $23. She bought five bagels for $3 each. How much money does she have left?\\nAnswer: She bought 5 bagels for $3 each. This means she spent 5 * $3 = $15 on the bagels. She had $23 in beginning, so now she has $23 - $15 = $8. The answer is #### 8.<|eot_id|><|start_header_id|>user<|end_header_id|>\\n\\nEnsure your final answer is presented within the format '#### {numeric answer}'\"\"\"\n",
    "len(tokenizer.encode(text))"
   ]
  },
  {
   "cell_type": "code",
   "execution_count": 114,
   "metadata": {},
   "outputs": [
    {
     "data": {
      "text/plain": [
       "6967"
      ]
     },
     "execution_count": 114,
     "metadata": {},
     "output_type": "execute_result"
    }
   ],
   "source": [
    "tokenizer.convert_tokens_to_ids(\"******\")"
   ]
  },
  {
   "cell_type": "code",
   "execution_count": 115,
   "metadata": {},
   "outputs": [
    {
     "data": {
      "text/plain": [
       "'******'"
      ]
     },
     "execution_count": 115,
     "metadata": {},
     "output_type": "execute_result"
    }
   ],
   "source": [
    "tokenizer.decode(6967)"
   ]
  },
  {
   "cell_type": "code",
   "execution_count": 31,
   "metadata": {},
   "outputs": [],
   "source": [
    "from transformers import AutoTokenizer\n",
    "tokenizer = AutoTokenizer.from_pretrained(\"meta-llama/Meta-Llama-3-8B-Instruct\", cache_dir=\"../../hub/tokenizer/\")\n",
    "\n",
    "text = \"\"\"<|begin_of_text|><|start_header_id|>system<|end_header_id|>\\n\\nYou are a methodical mathematician, adept at solving complex mathematical problems. Conclude your explanation with the answer in a '#### {numeric answer}' format, where the answer is solely a number.<|eot_id|><|start_header_id|>user<|end_header_id|>\\n\\nExample Problem example1: There are 15 trees in the grove. Grove workers will plant trees in the grove today. After they are done, there will be 21 trees. How many trees did the grove workers plant today?\\nAnswer: We start with 15 trees. Later we have 21 trees.The difference must be the number of trees they planted. So, they must have planted 21-15=6 trees.The answer is #### 6.<|eot_id|><|start_header_id|>user<|end_header_id|>\\n\\nExample Problem example2: If there are 3 cars in the parking lot and 2 more cars arrive, how many cars are in the parking lot?\\nAnswer: There are 3 cars in the parking lot already. 2 more arrive. Now there are 3 + 2 = 5 cars. The answer is #### 5.<|eot_id|><|start_header_id|>user<|end_header_id|>\\n\\nExample Problem example3: Leah had 32 chocolates and her sister had 42. If they ate 35, how many pieces do they have left in total?\\nAnswer: Leah had 32 chocolates and Leah’s sister had 42. That means there were originally 32 + 42 = 74 chocolates. 35 have been eaten. So in total they still have 74 - 35 = 39 chocolates. The answer is #### 39.<|eot_id|><|start_header_id|>user<|end_header_id|>\\n\\nExample Problem example4: Jason had 20 lollipops. He gave Denny some lollipops. Now Jason has 12 lollipops. How many lollipops did Jason give to Denny?\\nAnswer: Jason had 20 lollipops. Since he only has 12 now, he must have given the rest to Denny. The number of lollipops he has given to Denny must have been 20 - 12 = 8 lollipops. The answer is #### 8.<|eot_id|><|start_header_id|>user<|end_header_id|>\\n\\nExample Problem example5: Shawn has five toys. For Christmas, he got two toys each from his mom and dad. How many toys does he have now?\\nAnswer: He has 5 toys. He got 2 from mom, so after that he has 5 + 2 = 7 toys. Then he got 2 more from dad, so in total he has 7 + 2 = 9 toys. The answer is #### 9.<|eot_id|><|start_header_id|>user<|end_header_id|>\\n\\nExample Problem example6: There were nine computers in the server room. Five more computers were installed each day, from Monday to Thursday. How many computers are now in the server room?\\nAnswer: There are 4 days from Monday to Thursday. 5 computers were added each day. That means in total 4 * 5 = 20 computers were added. There were 9 computers in the beginning, so now there are 9 + 20 = 29 computers. The answer is #### 29.<|eot_id|><|start_header_id|>user<|end_header_id|>\\n\\nExample Problem example7: Michael had 58 golf balls. On Tuesday, he lost 23 golf balls. On Wednesday, he lost 2 more. How many golf balls did he have at the end of Wednesday?\\nAnswer: Michael initially had 58 balls. He lost 23 on Tuesday, so after that he has 58 - 23 = 35 balls. On Wednesday he lost 2 more so now he has 35 - 2 = 33 balls. The answer is #### 33.<|eot_id|><|start_header_id|>user<|end_header_id|>\\n\\nExample Problem example8: Olivia has $23. She bought five bagels for $3 each. How much money does she have left?\\nAnswer: She bought 5 bagels for $3 each. This means she spent 5 * $3 = $15 on the bagels. She had $23 in beginning, so now she has $23 - $15 = $8. The answer is #### 8.<|eot_id|><|start_header_id|>user<|end_header_id|>\\n\\n\"\"\"\n",
    "len(text)\n",
    "lengths = [[] for _ in range(1000)]\n",
    "for id, i in enumerate(df3['original_rp']):\n",
    "    for j in i:\n",
    "        lengths[id].append(tokenizer.encode(j[len(text):]))"
   ]
  },
  {
   "cell_type": "code",
   "execution_count": 66,
   "metadata": {},
   "outputs": [
    {
     "data": {
      "text/plain": [
       "996"
      ]
     },
     "execution_count": 66,
     "metadata": {},
     "output_type": "execute_result"
    }
   ],
   "source": [
    "tokens = []\n",
    "qs = df3['question']\n",
    "for id, i in enumerate(lengths):\n",
    "    avgs = 0\n",
    "    for j in i:\n",
    "        avgs+=len(j)\n",
    "        avgs-=len(tokenizer.encode(qs[id]))\n",
    "    avgs = avgs/len(i)\n",
    "    tokens.append(avgs)\n",
    "max_tokens = max(tokens)\n",
    "tokens.index(max_tokens)"
   ]
  },
  {
   "cell_type": "code",
   "execution_count": 73,
   "metadata": {},
   "outputs": [],
   "source": [
    "indexes = [id for id in range(len(tokens)) if tokens[id] >= 150]"
   ]
  },
  {
   "cell_type": "code",
   "execution_count": 74,
   "metadata": {},
   "outputs": [
    {
     "data": {
      "text/plain": [
       "587"
      ]
     },
     "execution_count": 74,
     "metadata": {},
     "output_type": "execute_result"
    }
   ],
   "source": [
    "len(indexes)"
   ]
  },
  {
   "cell_type": "code",
   "execution_count": 75,
   "metadata": {},
   "outputs": [
    {
     "data": {
      "text/plain": [
       "0.7853492333901193"
      ]
     },
     "execution_count": 75,
     "metadata": {},
     "output_type": "execute_result"
    }
   ],
   "source": [
    "is_corrects = df3['original_is_correct']\n",
    "answers = [is_corrects[id] for id in indexes]\n",
    "sum(answers)/len(answers)"
   ]
  },
  {
   "cell_type": "code",
   "execution_count": 44,
   "metadata": {},
   "outputs": [
    {
     "data": {
      "text/plain": [
       "\"If the combined age of the children is 20, the average age of the group is 20 years / 4 = <<20/4=5>>5 years.\\nHelene is twice as old as the group's average age, meaning Helene is 2 * 5 years = <<2*5=10>>10 years old.\\nThe total age of the three children is 10 years + 3 years + 4 years = <<10+3+4=17>>17 years.\\nWilfred's age is 20 years - 17 years = <<20-17=3>>3 years.\\n#### 3\""
      ]
     },
     "execution_count": 44,
     "metadata": {},
     "output_type": "execute_result"
    }
   ],
   "source": [
    "df3['real_answer'][996]"
   ]
  },
  {
   "cell_type": "code",
   "execution_count": 76,
   "metadata": {},
   "outputs": [],
   "source": [
    "df = pd.read_pickle(\"inter_SC_beam_expand_llama3_8b_gsm8k_10_5_2_interval_150.pkl\")\n",
    "df2 = pd.read_pickle(\"inter_SC_beam_expand_llama3_8b_gsm8k_20_5_4_interval_150.pkl\")\n",
    "df3 = pd.read_pickle(\"inter_SC_beam_expand_llama3_8b_gsm8k_20_10_2_interval_150.pkl\")"
   ]
  },
  {
   "cell_type": "code",
   "execution_count": 24,
   "metadata": {},
   "outputs": [
    {
     "data": {
      "text/plain": [
       "[12, 0, 4, 6, 1, 2, 3, 5, 7, 8]"
      ]
     },
     "execution_count": 24,
     "metadata": {},
     "output_type": "execute_result"
    }
   ],
   "source": [
    "from sklearn.cluster import KMeans\n",
    "import numpy as np\n",
    "\n",
    "# 점수 리스트\n",
    "scores = [20, 20, 20, 20, 19, 20, 10, 10, 10, 10, 20, 20, 30]\n",
    "\n",
    "# 고유한 점수의 개수 계산\n",
    "unique_scores = np.unique(scores)\n",
    "n_unique_scores = len(unique_scores)\n",
    "\n",
    "# 클러스터 수 설정 (고유한 점수 개수를 초과하지 않도록)\n",
    "n_clusters = min(10, n_unique_scores)\n",
    "\n",
    "# 2차원 배열로 변환\n",
    "data = np.array(scores).reshape(-1, 1)\n",
    "\n",
    "# KMeans 모델 생성 및 학습\n",
    "kmeans = KMeans(n_clusters=n_clusters, random_state=0)\n",
    "kmeans.fit(data)\n",
    "\n",
    "# 각 클러스터에서 가장 높은 점수를 대표로 뽑기\n",
    "labels = kmeans.labels_\n",
    "unique_labels = np.unique(labels)\n",
    "representatives = []\n",
    "\n",
    "for label in unique_labels:\n",
    "    cluster_scores = data[labels == label]\n",
    "    max_score = np.max(cluster_scores)\n",
    "    representatives.append(max_score)\n",
    "\n",
    "representatives.sort(reverse=True)  # 대표 점수를 내림차순으로 정렬\n",
    "\n",
    "ids = [scores.index(score) for score in representatives]\n",
    "i = 0\n",
    "while len(ids) < 10:\n",
    "    if i not in ids:\n",
    "        ids.append(i)\n",
    "    i += 1\n",
    "ids"
   ]
  },
  {
   "cell_type": "code",
   "execution_count": 99,
   "metadata": {},
   "outputs": [
    {
     "name": "stderr",
     "output_type": "stream",
     "text": [
      "/tmp/ipykernel_2293730/1044538564.py:40: ClusterWarning: The symmetric non-negative hollow observation matrix looks suspiciously like an uncondensed distance matrix\n",
      "  linked = linkage(jaccard_matrix, 'single')\n"
     ]
    },
    {
     "data": {
      "text/plain": [
       "{1: [0, 12],\n",
       " 2: [1, 2, 3, 5, 6, 7, 16, 17],\n",
       " 3: [14, 19],\n",
       " 4: [9, 10],\n",
       " 5: [13],\n",
       " 6: [11],\n",
       " 7: [15],\n",
       " 8: [18],\n",
       " 9: [8],\n",
       " 10: [4]}"
      ]
     },
     "execution_count": 99,
     "metadata": {},
     "output_type": "execute_result"
    }
   ],
   "source": [
    "from sklearn.metrics import jaccard_score\n",
    "from scipy.cluster.hierarchy import linkage, fcluster\n",
    "import numpy as np\n",
    "\n",
    "# 리스트들이 들어있는 리스트\n",
    "lists = [[8, 11, 27, 31, 47],\n",
    " [18, 23, 24],\n",
    " [3, 12, 38, 45],\n",
    " [16, 34, 43],\n",
    " [1, 15, 17, 21, 24, 39],\n",
    " [3, 6, 9, 11, 20, 47],\n",
    " [2, 31, 39, 40, 44, 45],\n",
    " [14, 15, 21, 29, 32, 36],\n",
    " [8, 17, 39, 44, 47],\n",
    " [5, 14, 17, 39, 42],\n",
    " [1, 21, 27, 32, 39, 48],\n",
    " [6, 16, 29, 38, 45, 48],\n",
    " [3, 9, 14, 44],\n",
    " [1, 10, 16, 17],\n",
    " [6, 17, 26, 32, 34, 42],\n",
    " [2, 3, 26, 30, 38],\n",
    " [2, 22, 41],\n",
    " [1, 7, 25],\n",
    " [26, 38, 41],\n",
    " [10, 11, 17, 24, 38, 48]]\n",
    "\n",
    "# 리스트를 이진 벡터로 변환\n",
    "unique_items = sorted(set(item for sublist in lists for item in sublist))\n",
    "binary_vectors = np.array([[1 if item in sublist else 0 for item in unique_items] for sublist in lists])\n",
    "\n",
    "# Jaccard 유사도 계산\n",
    "n = len(lists)\n",
    "jaccard_matrix = np.zeros((n, n))\n",
    "for i in range(n):\n",
    "    for j in range(i + 1, n):\n",
    "        jaccard_matrix[i, j] = jaccard_score(binary_vectors[i], binary_vectors[j])\n",
    "        jaccard_matrix[j, i] = jaccard_matrix[i, j]  # 대칭이므로\n",
    "\n",
    "# 계층적 클러스터링 수행\n",
    "linked = linkage(jaccard_matrix, 'single')\n",
    "\n",
    "# 클러스터 할당 (여기서는 임의로 3개의 클러스터로 설정)\n",
    "num_clusters = 10\n",
    "clusters = fcluster(linked, num_clusters, criterion='maxclust')\n",
    "\n",
    "\n",
    "clustered_indices = {i: [] for i in range(1, num_clusters + 1)}\n",
    "for i, cluster_id in enumerate(clusters):\n",
    "    clustered_indices[cluster_id].append(i)\n",
    "\n",
    "clustered_indices"
   ]
  },
  {
   "cell_type": "code",
   "execution_count": null,
   "metadata": {},
   "outputs": [],
   "source": []
  }
 ],
 "metadata": {
  "kernelspec": {
   "display_name": "myenv",
   "language": "python",
   "name": "python3"
  },
  "language_info": {
   "codemirror_mode": {
    "name": "ipython",
    "version": 3
   },
   "file_extension": ".py",
   "mimetype": "text/x-python",
   "name": "python",
   "nbconvert_exporter": "python",
   "pygments_lexer": "ipython3",
   "version": "3.9.19"
  }
 },
 "nbformat": 4,
 "nbformat_minor": 2
}
